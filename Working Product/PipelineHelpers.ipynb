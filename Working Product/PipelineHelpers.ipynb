{
 "cells": [
  {
   "cell_type": "markdown",
   "id": "85efb529",
   "metadata": {},
   "source": [
    "# Helper Functions For the Pipeline"
   ]
  },
  {
   "cell_type": "code",
   "execution_count": 28,
   "id": "754363de",
   "metadata": {},
   "outputs": [],
   "source": [
    "def dictionary_to_data_frame(dictionary):\n",
    "    \"\"\"\n",
    "    Taking in a general dictionary, returns a dataframe of that dictionary.\n",
    "    \"\"\"\n",
    "    return pd.DataFrame(dictionary)\n"
   ]
  },
  {
   "cell_type": "code",
   "execution_count": 29,
   "id": "401cfac7",
   "metadata": {},
   "outputs": [],
   "source": [
    "def drop_failed_webscraping_rows(dataframe):\n",
    "    \"\"\"\n",
    "    Taking in the generated main dataframe from our pipeline, drops any rows \n",
    "    that failed the webscraping (our webscraping function returns 'PARERROR' \n",
    "    for the Sentiment Label if we fail to webscrape an article). Returns the\n",
    "    cleaned dataframe.\n",
    "    \"\"\"\n",
    "    return dataframe.drop(dataframe[dataframe['Sentiment Label'].str.contains(\"PARERROR\") ].index)\n"
   ]
  },
  {
   "cell_type": "code",
   "execution_count": 30,
   "metadata": {},
   "outputs": [],
   "source": [
    "def label_adjuster(dataframe):\n",
    "    \"\"\"\n",
    "    This function is used to get more accurate labels based off the current\n",
    "    documents that have been fed to it. It get's the percentiles and then\n",
    "    labels the documents based off those percentiles. This way the label\n",
    "    is more true to the set of articles.\n",
    "    \"\"\"\n",
    "\n",
    "    # The 20th percentile is labeled as \"Negative\"\n",
    "    # The 20th to 40th percentile is labeled \"Neutral Negative\"\n",
    "    # The 40th to 60th percentile is labeled \"Nuetral\"\n",
    "    # The 60th to 80th percentile is labeled \"Neutral Positive\"\n",
    "    # The 80th percentile is labeled \"Positive\"\n",
    "\n",
    "    bottom_20 = dataframe['Sentiment Score'].quantile(0.20)\n",
    "    middle_low = dataframe['Sentiment Score'].quantile(0.4)\n",
    "    middle_high = dataframe['Sentiment Score'].quantile(0.6)\n",
    "    top_20 = dataframe['Sentiment Score'].quantile(0.80)\n",
    "\n",
    "\n",
    "    for index, row in df.iterrows():\n",
    "        if row['Sentiment Score'] <= bottom_20:\n",
    "            dataframe.at[index,'Sentiment Label']=\"Negative\"\n",
    "        elif row['Sentiment Score'] > bottom_20 and row['Sentiment Score'] <= middle_low:\n",
    "            dataframe.at[index,'Sentiment Label']=\"Neutral Negative\"\n",
    "        elif row['Sentiment Score'] > middle_low and row['Sentiment Score'] <= middle_high:\n",
    "            dataframe.at[index,'Sentiment Label']=\"Neutral\"\n",
    "        elif row['Sentiment Score'] > middle_high and row['Sentiment Score'] <= top_20:\n",
    "            dataframe.at[index,'Sentiment Label']=\"Neutral Positive\"\n",
    "            row['Sentiment Label'] = \"Neutral Positive\"\n",
    "        else:\n",
    "            dataframe.at[index,'Sentiment Label']=\"Positive\"\n",
    "    \n",
    "    return dataframe"
   ]
  }
 ],
 "metadata": {
  "kernelspec": {
   "display_name": "434hw",
   "language": "python",
   "name": "434hw"
  },
  "language_info": {
   "codemirror_mode": {
    "name": "ipython",
    "version": 3
   },
   "file_extension": ".py",
   "mimetype": "text/x-python",
   "name": "python",
   "nbconvert_exporter": "python",
   "pygments_lexer": "ipython3",
   "version": "3.10.4"
  }
 },
 "nbformat": 4,
 "nbformat_minor": 5
}
