{
 "cells": [
  {
   "cell_type": "markdown",
   "id": "c9dccd1a",
   "metadata": {},
   "source": [
    "# Latent News Probability Model"
   ]
  },
  {
   "cell_type": "markdown",
   "id": "01049288",
   "metadata": {},
   "source": [
    "Directly below contains the pip installs that are required for this project. If you run this code and still don't have the required packages, you may need to add a `!pip install [library_name]` into this code block. This does not need to be run every time the model is used. P.S it might be better to run one pip install command at a time, because they can take a long time to run.\n",
    "\n",
    "IMPORTANT: If you are running this for the first time you may need to download these packages before continuing:"
   ]
  },
  {
   "cell_type": "code",
   "execution_count": 1,
   "id": "15ba699a",
   "metadata": {},
   "outputs": [
    {
     "name": "stdout",
     "output_type": "stream",
     "text": [
      "Requirement already satisfied: pandas in c:\\users\\deven\\appdata\\local\\programs\\python\\python311\\lib\\site-packages (2.1.1)\n",
      "Requirement already satisfied: numpy>=1.23.2 in c:\\users\\deven\\appdata\\local\\programs\\python\\python311\\lib\\site-packages (from pandas) (1.26.1)\n",
      "Requirement already satisfied: python-dateutil>=2.8.2 in c:\\users\\deven\\appdata\\roaming\\python\\python311\\site-packages (from pandas) (2.8.2)\n",
      "Requirement already satisfied: pytz>=2020.1 in c:\\users\\deven\\appdata\\local\\programs\\python\\python311\\lib\\site-packages (from pandas) (2023.3.post1)\n",
      "Requirement already satisfied: tzdata>=2022.1 in c:\\users\\deven\\appdata\\local\\programs\\python\\python311\\lib\\site-packages (from pandas) (2023.3)\n",
      "Requirement already satisfied: six>=1.5 in c:\\users\\deven\\appdata\\roaming\\python\\python311\\site-packages (from python-dateutil>=2.8.2->pandas) (1.16.0)\n"
     ]
    },
    {
     "name": "stderr",
     "output_type": "stream",
     "text": [
      "\n",
      "[notice] A new release of pip is available: 23.2.1 -> 23.3.1\n",
      "[notice] To update, run: python.exe -m pip install --upgrade pip\n"
     ]
    }
   ],
   "source": [
    "# Dataframe and sentiment analysis\n",
    "!pip install pandas\n",
    "!pip install spacy\n",
    "!pip install spacytextblob\n",
    "!python -m spacy download en_core_web_sm\n",
    "\n",
    "# Webscraping\n",
    "!pip install newspaper3k\n",
    "\n",
    "# Topic modeling \n",
    "!pip install gensim\n",
    "\n",
    "# Data vis\n",
    "!pip install plotly\n",
    "!pip install sklearn\n",
    "!pip install matplotlib\n",
    "!pip install wordcloud\n",
    "!pip install seaborn"
   ]
  },
  {
   "cell_type": "markdown",
   "id": "c92a2232",
   "metadata": {},
   "source": [
    "Spacy: Used for NLP and has the machine learning module\n",
    "    \n",
    "SpacyTextBlob: Used for the sentiment analysis\n",
    "    \n",
    "Pandas: Stores the data as a dataframe table\n",
    "    \n",
    "NewsPaper: Used for web scraping\n",
    "\n",
    "Gensim: Used for topic modeling\n",
    "    \n",
    "Requests: Makes the connection to the URL\n",
    "\n",
    "Plotly: Used for data visualization\n",
    "\n",
    "Matplotlib: Used for clustering and data visualization\n",
    "\n",
    "Sklearn: Used for clustering and data visualization"
   ]
  },
  {
   "cell_type": "markdown",
   "id": "e1471074",
   "metadata": {},
   "source": [
    "## Start Here: Library Imports"
   ]
  },
  {
   "cell_type": "code",
   "execution_count": null,
   "id": "97171282",
   "metadata": {},
   "outputs": [],
   "source": [
    "# Newspaper3k web scraping\n",
    "from newspaper import Article\n",
    "\n",
    "from random import shuffle\n",
    "import re\n",
    "import requests\n",
    "\n",
    "from collections import Counter\n",
    "\n",
    "# Pandas dataframe\n",
    "import pandas as pd\n",
    "\n",
    "import numpy as np\n",
    "import json\n",
    "import requests\n",
    "import glob\n",
    "\n",
    "# Gensim\n",
    "import gensim\n",
    "import gensim.corpora as corpora\n",
    "from gensim.models.coherencemodel import CoherenceModel\n",
    "from gensim.utils import simple_preprocess\n",
    "from gensim.corpora import Dictionary  # Import the Dictionary class from Gensim\n",
    "\n",
    "# Spacy\n",
    "import spacy\n",
    "from nltk.corpus import stopwords\n",
    "from spacytextblob.spacytextblob import SpacyTextBlob\n",
    "\n",
    "# Vis\n",
    "import pyLDAvis\n",
    "import pyLDAvis.gensim\n",
    "import plotly.express as px\n",
    "import matplotlib.colors as mcolors\n",
    "import matplotlib.pyplot as plt\n",
    "import sklearn\n",
    "from sklearn.manifold import TSNE\n",
    "from wordcloud import WordCloud\n",
    "from sklearn.decomposition import PCA\n",
    "import seaborn as sns\n",
    "\n",
    "\n",
    "\n",
    "# K-Means Clustering\n",
    "from sklearn.feature_extraction.text import TfidfVectorizer\n",
    "from sklearn.cluster import KMeans\n",
    "from sklearn.cluster import MiniBatchKMeans\n",
    "import matplotlib.pyplot as plt\n",
    "\n",
    "# Principled Component Analysis\n",
    "from sklearn.decomposition import PCA\n",
    "\n",
    "import warnings\n",
    "warnings.filterwarnings(\"ignore\", category=DeprecationWarning)"
   ]
  },
  {
   "cell_type": "markdown",
   "id": "8b38b484",
   "metadata": {},
   "source": [
    "IMPORTANT: Run all helper files. The function logic is stored here, and sorted by the part of the pipeline they support."
   ]
  },
  {
   "cell_type": "code",
   "execution_count": null,
   "id": "89933f69",
   "metadata": {},
   "outputs": [
    {
     "name": "stderr",
     "output_type": "stream",
     "text": [
      "c:\\Users\\Deven\\AppData\\Local\\Programs\\Python\\Python311\\Lib\\site-packages\\nbformat\\__init__.py:93: MissingIDFieldWarning: Code cell is missing an id field, this will become a hard error in future nbformat versions. You may want to use `normalize()` on your notebooks before validations (available since nbformat 5.1.4). Previous versions of nbformat are fixing this issue transparently, and will stop doing so in the future.\n",
      "  validate(nb)\n"
     ]
    }
   ],
   "source": [
    "%run SentimentAnalysis.ipynb\n",
    "%run WebScraper.ipynb\n",
    "%run PipelineHelpers.ipynb\n",
    "%run TopicModeling.ipynb\n",
    "%run DataVisualization.ipynb"
   ]
  },
  {
   "cell_type": "markdown",
   "id": "c767401a",
   "metadata": {},
   "source": [
    "# General Pipeline Settings, and Pre-Analysis Setup"
   ]
  },
  {
   "cell_type": "markdown",
   "id": "67afdeff",
   "metadata": {},
   "source": [
    "Below are the customizable settings for all of the analysis and processing parts of the pipeline.\n",
    "\n",
    "Rerun this any time you make changes to these settings, as they will affect the outcome of certain pipeline steps."
   ]
  },
  {
   "cell_type": "markdown",
   "id": "b787c3f5",
   "metadata": {},
   "source": [
    "IMPORTANT: The csvFile object should be set to a properly setup csv file of article URLs that you copy-paste into the same directory as the pipeline files (we use the relative path to access the file). The csvFile format is explained in the user manual, but simply it needs one column with the first entry being \"Address\" and the other entries all being article URLs."
   ]
  },
  {
   "cell_type": "code",
   "execution_count": null,
   "id": "4e23034f",
   "metadata": {},
   "outputs": [],
   "source": [
    "###\n",
    "### BELOW IS OUR CUSTOMIZABLE SETTINGS\n",
    "###\n",
    "\n",
    "# This is the CSV file that is read in\n",
    "# This csv file should contain a single column of article urls, with the first entry being \"Address\"\n",
    "csv_file = \"urls_gabriel_generated.csv\"\n",
    "\n",
    "\n",
    "# WEBSCRAPING SETTINGS\n",
    "# This is the minimum words that we allow for an article\n",
    "# (to prevent certain blocked articles or bad data)\n",
    "word_count_filter = 150\n",
    "\n",
    "# This is the minimum amount of repeated phrases in a text that we will throw an error for\n",
    "repeated_phrase_filter = 25\n",
    "\n",
    "# This is the list of all social media URLs that we BLOCK (anything in this list WILL NOT be scraped)\n",
    "social_starts_with = [\"https://www.youtube.com\", \"https://youtu.be\", \"https://www.facebook.com\",\n",
    "                          \"https://twitter.com\", \"https://gettr.com/\"]\n",
    "\n",
    "# When webscraping, will only grab the first url_max URLs (set to -1 to turn off)\n",
    "url_max = 20\n",
    "\n",
    "# Used to turn on and off the adjusted labels\n",
    "label_adjuster_on = True\n",
    "\n",
    "# TOPIC MODELING SETTINGS\n",
    "# this will set how our topic modeling is generated: limit to the # of topics,\n",
    "# # of topics we start at, how many we increment by every step\n",
    "topic_model_dict = {\"topic_limit\": 8, \"topic_start\": 5, \"topic_step\": 2}\n",
    "\n",
    "\n",
    "###\n",
    "### END OF CUSTOMIZABLE SETTINGS\n",
    "###\n"
   ]
  },
  {
   "cell_type": "markdown",
   "id": "a9fabe01",
   "metadata": {},
   "source": [
    "# MAIN PIPELINE START"
   ]
  },
  {
   "cell_type": "markdown",
   "id": "ac52c758",
   "metadata": {},
   "source": [
    "## Sentiment Analysis Pipeline"
   ]
  },
  {
   "cell_type": "markdown",
   "id": "65f184f9",
   "metadata": {},
   "source": [
    "Below is the start of our pipeline.\n",
    "\n",
    "Here we create our nlp object and add the pipe to it for sentiment analysis. We then read in our .csv file and convert it to a dataframe to pass in to our sentiment analysis function, and gathers the list of all URLs.\n",
    "\n",
    "Our main_pipeline_sentiment_analysis() function takes in the list of urls, web scrapes their text, and performs sentiment analysis on them, creating a dataframe of all properly scraped articles and their associated sentiment analysis data.\n",
    "\n",
    "df is the main dataframe object we store our data in."
   ]
  },
  {
   "cell_type": "code",
   "execution_count": null,
   "id": "7ae169b7",
   "metadata": {
    "scrolled": false
   },
   "outputs": [
    {
     "name": "stdout",
     "output_type": "stream",
     "text": [
      "0  Articles Completed\n",
      "Webscraping failed: Word Count or Repeated Phrase\n",
      "https://www.bbc.com/news/world-us-canada-55805698\n",
      "Word count:  39\n",
      "Repeated phrases:  1\n",
      "\n",
      "\n",
      "10  Articles Completed\n",
      "Webscraping failed: Word Count or Repeated Phrase\n",
      "https://apnews.com/hub/hunter-biden\n",
      "Word count:  42\n",
      "Repeated phrases:  1\n",
      "\n",
      "\n",
      "Webscraping failed: Word Count or Repeated Phrase\n",
      "https://www.bbc.com/news/world-us-canada-55805698\n",
      "Word count:  39\n",
      "Repeated phrases:  1\n",
      "\n",
      "\n",
      "89.47% of the csv was scraped.\n",
      "The average sentiment score was: 0.021\n",
      "The average subjectivity score was: 0.387\n"
     ]
    }
   ],
   "source": [
    "# Loading the nlp pipeline and adding spacytextblob\n",
    "nlp = spacy.load('en_core_web_sm')\n",
    "nlp.add_pipe('spacytextblob') #This is used in our sentiment analysis\n",
    "\n",
    "# Using panda to load in our .csv file\n",
    "# File we are checking\n",
    "df = pd.read_csv(csv_file)\n",
    "# Column name we are checking (You can switch this column name to match the csv file)\n",
    "urls = df[\"Address\"].tolist()\n",
    "\n",
    "# Trim to only include the first url_max URLs\n",
    "if url_max > 0:\n",
    "    urls = urls[0:url_max]\n",
    "\n",
    "# Here is where we start the sentiment analysis over all articles\n",
    "df = main_pipeline_sentiment_analysis(urls)\n",
    "\n",
    "if label_adjuster_on:\n",
    "    df = label_adjuster(df)\n"
   ]
  },
  {
   "cell_type": "markdown",
   "id": "7d0b94a9",
   "metadata": {},
   "source": [
    "# TOPIC MODELING"
   ]
  },
  {
   "cell_type": "markdown",
   "id": "40eba53b",
   "metadata": {},
   "source": [
    "# Create Topic Model w/ Highest Coherence"
   ]
  },
  {
   "cell_type": "markdown",
   "id": "e01f58b3",
   "metadata": {},
   "source": [
    "Here we create our LDA topic model, article corpus, and topic-level sentiment analysis dictionary.\n",
    "\n",
    "First we pass in our dataframe df and associated settings. The function will create topic models with varying number of topics, compute the topic coherence score for that number of topics over our articles, and return to us the LDA model that has the highest coherence score. It will display a small graphic showing the topic coherence for each number of topics we tested.\n",
    "\n",
    "Next we will create our topic-level sentiment analysis dictionary using both our dataframe df and the new LDA_model and corpus we just created. This will give us a dictionary of the averaged sentiment scores for every topic of an article, for all articles."
   ]
  },
  {
   "cell_type": "code",
   "execution_count": null,
   "id": "52b11718",
   "metadata": {},
   "outputs": [
    {
     "data": {
      "image/png": "[encoded data removed]",
      "text/plain": [
       "<Figure size 640x480 with 1 Axes>"
      ]
     },
     "metadata": {},
     "output_type": "display_data"
    }
   ],
   "source": [
    "# This will generate multiple topic models with various topic count, then return\n",
    "# the model with highest coherence it will also display a quick visual of\n",
    "# coherence values, to understand what topic count is best and why it was chosen\n",
    "lda_model, corpus = create_lda_model(topic_model_dict[\"topic_limit\"],\n",
    "                                     topic_model_dict[\"topic_start\"], \n",
    "                                     topic_model_dict[\"topic_step\"])\n",
    "\n",
    "# lda_model is the lda model we will work with, corpus is the actual corpus of articles we use\n",
    "\n",
    "\n",
    "# Here we are making our dictionary of all articles and their associated\n",
    "# topic-level sentiment for every topic\n",
    "topic_level_sentiment = topic_sentence_sentiment_analysis(df, lda_model)\n"
   ]
  },
  {
   "cell_type": "markdown",
   "id": "e90c4670",
   "metadata": {},
   "source": [
    "# DATA VISUALIZATION"
   ]
  },
  {
   "cell_type": "markdown",
   "id": "2cf78edd",
   "metadata": {},
   "source": [
    "## Pre-processing dataframe for visualization"
   ]
  },
  {
   "cell_type": "markdown",
   "id": "08f34a83",
   "metadata": {},
   "source": [
    "Here we preprocess our dataframe to add in a few relevant columns for data vis, as well as creating our topic relevancy dataframe and weighted sentiment dataframe over all topics for all articles. \n",
    "\n",
    "We add the Topics, Main Topic, Main Topic Score, and Shortened Address to the main dataframe (using our preprocess_dataframe_for_datavis() function). This lets the data vis section easily grab the information.\n",
    "\n",
    "Next we create the topic relevancy dataframe df_topics. In df_topics, each row is an article, and each column is a topic. For an article, every cell value represents the relevancy of that topic to that article. So if row 0 column 1 is 0.998, that means Article 0 has a 0.998 relevancy score on Topic 1.\n",
    "\n",
    "We create the per_topic_df, which uses our topic-based sentiment dictionary and our topic relevancy dataframe to make a dataframe where each row is an article and each column is a topic. The cell contains data of the form (sentiment, relevancy) which is a tuple that describes the sentiment value and topic relevancy of that article (row) for that topic (column)."
   ]
  },
  {
   "cell_type": "code",
   "execution_count": null,
   "id": "097d2461",
   "metadata": {
    "scrolled": true
   },
   "outputs": [],
   "source": [
    "# This generates our dataframe of per-topic sentiment and relevancy for all articles\n",
    "df_topics = generate_topic_relevancy_dataframe(lda_model)\n",
    "\n",
    "# Generate our per-topic dataframe\n",
    "# Format is (SENTIMENT, RELEVANCY)\n",
    "per_topic_df = create_per_topic_tuple_df(topic_level_sentiment, df_topics)\n",
    "\n",
    "# This generates a dataframe ready to use with our data visualizations\n",
    "# (includes some extra information)\n",
    "# This sorts our dataframe so must go last\n",
    "df = preprocess_dataframe_for_datavis(df, lda_model, corpus)\n"
   ]
  },
  {
   "cell_type": "markdown",
   "id": "1a7d0141",
   "metadata": {},
   "source": [
    "## Data Visualization Settings"
   ]
  },
  {
   "cell_type": "markdown",
   "id": "1a648113",
   "metadata": {},
   "source": [
    "Here are the customizable settings for our data visualization section. Since these settings only affect how the data will be visualized, you can rerun the pipeline from this point down without rerunning any of the previous steps. This is recommended if you want to see different parameters for the settings visualized on the same data and LDA model."
   ]
  },
  {
   "cell_type": "code",
   "execution_count": null,
   "id": "fffb7bbc",
   "metadata": {},
   "outputs": [],
   "source": [
    "# DATA VISUALIZATION SETTINGS\n",
    "# (starts at topic 0) set this list to every topic number you want\n",
    "# displayed individually\n",
    "list_of_topics_to_visualize = [1,2]\n",
    "\n",
    "# This is the settings dictionary for our k-means cluster generation.\n",
    "# max_clusters is used in our inertia visualization,\n",
    "# While num_clusters is our actual cluster count to use and pca_components\n",
    "# is the PCA component count that we use in both (2 should be used because we reduce to 2 dimensions)\n",
    "# the visualization of inertia as well as our actual clustering model.\n",
    "kmeans_settings = {\"max_clusters\": 10, \"num_clusters\": 4, \"pca_components\": 2}\n",
    "\n"
   ]
  },
  {
   "cell_type": "markdown",
   "id": "cc9e1d98",
   "metadata": {},
   "source": [
    "## Display the Main Dataframe and Display the Topic Model"
   ]
  },
  {
   "cell_type": "markdown",
   "id": "dcef6a4c",
   "metadata": {},
   "source": [
    "Display the main dataframe"
   ]
  },
  {
   "cell_type": "code",
   "execution_count": null,
   "id": "f4a9f515",
   "metadata": {},
   "outputs": [
    {
     "data": {
      "text/html": [
       "<div>\n",
       "<style scoped>\n",
       "    .dataframe tbody tr th:only-of-type {\n",
       "        vertical-align: middle;\n",
       "    }\n",
       "\n",
       "    .dataframe tbody tr th {\n",
       "        vertical-align: top;\n",
       "    }\n",
       "\n",
       "    .dataframe thead th {\n",
       "        text-align: right;\n",
       "    }\n",
       "</style>\n",
       "<table border=\"1\" class=\"dataframe\">\n",
       "  <thead>\n",
       "    <tr style=\"text-align: right;\">\n",
       "      <th></th>\n",
       "      <th>ID</th>\n",
       "      <th>URL</th>\n",
       "      <th>Article Title</th>\n",
       "      <th>Sentiment Score</th>\n",
       "      <th>Sentiment Label</th>\n",
       "      <th>Subjectivity Score</th>\n",
       "      <th>Positive Words</th>\n",
       "      <th>Negative Words</th>\n",
       "      <th>Text</th>\n",
       "      <th>Topics</th>\n",
       "      <th>Main Topic</th>\n",
       "      <th>Main Topic Score</th>\n",
       "      <th>Associated Words</th>\n",
       "      <th>Shortened Address</th>\n",
       "    </tr>\n",
       "  </thead>\n",
       "  <tbody>\n",
       "    <tr>\n",
       "      <th>0</th>\n",
       "      <td>0</td>\n",
       "      <td>https://www.foxnews.com/politics/hunter-bidens...</td>\n",
       "      <td>Hunter Biden's $250K wire from China labeled a...</td>\n",
       "      <td>0.04</td>\n",
       "      <td>Neutral Positive</td>\n",
       "      <td>0.24</td>\n",
       "      <td>legal, new, more, first, main, unpaid, best</td>\n",
       "      <td>approximately, previously, firm, limited, down...</td>\n",
       "      <td>exclusive: the $250,000 wire hunter biden rece...</td>\n",
       "      <td>[(2, 0.9974968)]</td>\n",
       "      <td>2</td>\n",
       "      <td>0.997497</td>\n",
       "      <td>[[wire, say, comer, receive, address, partner,...</td>\n",
       "      <td>www.foxnews.com</td>\n",
       "    </tr>\n",
       "    <tr>\n",
       "      <th>1</th>\n",
       "      <td>1</td>\n",
       "      <td>https://www.foxnews.com/politics/doj-ordered-h...</td>\n",
       "      <td>DOJ ordered Hunter Biden investigators to 'rem...</td>\n",
       "      <td>0.06</td>\n",
       "      <td>Neutral Positive</td>\n",
       "      <td>0.35</td>\n",
       "      <td>wealthy, most, exactly, light, clear, appropri...</td>\n",
       "      <td>subject, criminal, artificially, limited, not,...</td>\n",
       "      <td>the u.s. department of justice ordered fbi and...</td>\n",
       "      <td>[(3, 0.603655), (4, 0.39470795)]</td>\n",
       "      <td>3</td>\n",
       "      <td>0.603655</td>\n",
       "      <td>[[say, office, information, attorney, source, ...</td>\n",
       "      <td>www.foxnews.com</td>\n",
       "    </tr>\n",
       "    <tr>\n",
       "      <th>2</th>\n",
       "      <td>2</td>\n",
       "      <td>https://www.foxnews.com/politics/hunter-biden-...</td>\n",
       "      <td>Hunter Biden sues Rudy Giuliani over laptop, a...</td>\n",
       "      <td>-0.04</td>\n",
       "      <td>Negative</td>\n",
       "      <td>0.37</td>\n",
       "      <td>legal, new, many, first, not, generally, lates...</td>\n",
       "      <td>guilty, hard, past, foreign, infamous, failure...</td>\n",
       "      <td>hunter biden on tuesday filed a lawsuit agains...</td>\n",
       "      <td>[(6, 0.99759436)]</td>\n",
       "      <td>6</td>\n",
       "      <td>0.997594</td>\n",
       "      <td>[[drug, president, son, nation, month, get, la...</td>\n",
       "      <td>www.foxnews.com</td>\n",
       "    </tr>\n",
       "    <tr>\n",
       "      <th>3</th>\n",
       "      <td>3</td>\n",
       "      <td>https://apnews.com/article/hunter-biden-impeac...</td>\n",
       "      <td>House Republicans make their case for Biden im...</td>\n",
       "      <td>0.02</td>\n",
       "      <td>Neutral</td>\n",
       "      <td>0.37</td>\n",
       "      <td>clear, legal, right, new, more, promising, hig...</td>\n",
       "      <td>hard, skeptical, criminal, thin, long, expecte...</td>\n",
       "      <td>washington (ap) — house republicans launched a...</td>\n",
       "      <td>[(4, 0.9983521)]</td>\n",
       "      <td>4</td>\n",
       "      <td>0.998352</td>\n",
       "      <td>[[say, document, impeachment, hearing, evidenc...</td>\n",
       "      <td>apnews.com</td>\n",
       "    </tr>\n",
       "    <tr>\n",
       "      <th>4</th>\n",
       "      <td>4</td>\n",
       "      <td>https://www.nation.com.pk/21-Jun-2023/hunter-b...</td>\n",
       "      <td>Hunter Biden to plead guilty to federal tax ch...</td>\n",
       "      <td>-0.04</td>\n",
       "      <td>Negative</td>\n",
       "      <td>0.44</td>\n",
       "      <td>important, first, not, social, detailed, love</td>\n",
       "      <td>guilty, subject, criminal, failure, alleged, f...</td>\n",
       "      <td>washigton-hunter biden, the son of president j...</td>\n",
       "      <td>[(3, 0.9946681)]</td>\n",
       "      <td>3</td>\n",
       "      <td>0.994668</td>\n",
       "      <td>[[say, office, information, attorney, source, ...</td>\n",
       "      <td>www.nation.com.pk</td>\n",
       "    </tr>\n",
       "    <tr>\n",
       "      <th>5</th>\n",
       "      <td>5</td>\n",
       "      <td>https://www.nation.com.pk/25-Jul-2021/white-ho...</td>\n",
       "      <td>White House on defensive over Hunter Biden art...</td>\n",
       "      <td>0.10</td>\n",
       "      <td>Positive</td>\n",
       "      <td>0.41</td>\n",
       "      <td>favorite, winning, appropriate, ethical, new, ...</td>\n",
       "      <td>half</td>\n",
       "      <td>washington - the white house assured saturday ...</td>\n",
       "      <td>[(0, 0.9941633)]</td>\n",
       "      <td>0</td>\n",
       "      <td>0.994163</td>\n",
       "      <td>[[say, president, son, buyer, artwork, purchas...</td>\n",
       "      <td>www.nation.com.pk</td>\n",
       "    </tr>\n",
       "    <tr>\n",
       "      <th>6</th>\n",
       "      <td>6</td>\n",
       "      <td>https://www.nation.com.pk/24-Dec-2019/hunter-b...</td>\n",
       "      <td>Hunter Biden figures in ‘multiple criminal inv...</td>\n",
       "      <td>-0.11</td>\n",
       "      <td>Negative</td>\n",
       "      <td>0.40</td>\n",
       "      <td>nearly, new, more</td>\n",
       "      <td>guilty, subject, criminal, allegedly, firm, al...</td>\n",
       "      <td>hunter biden is the subject of multiple crimin...</td>\n",
       "      <td>[(4, 0.99354595)]</td>\n",
       "      <td>4</td>\n",
       "      <td>0.993546</td>\n",
       "      <td>[[say, document, impeachment, hearing, evidenc...</td>\n",
       "      <td>www.nation.com.pk</td>\n",
       "    </tr>\n",
       "    <tr>\n",
       "      <th>7</th>\n",
       "      <td>7</td>\n",
       "      <td>https://www.cnn.com/2023/09/27/politics/house-...</td>\n",
       "      <td>Hunter Biden probe: House Republicans release ...</td>\n",
       "      <td>-0.01</td>\n",
       "      <td>Neutral Negative</td>\n",
       "      <td>0.35</td>\n",
       "      <td>general, directly, apparent, light, clear, not...</td>\n",
       "      <td>closed, criminal, single, complained, frustrat...</td>\n",
       "      <td>washington cnn —\\ndocuments released wednesday...</td>\n",
       "      <td>[(4, 0.99821925)]</td>\n",
       "      <td>4</td>\n",
       "      <td>0.998219</td>\n",
       "      <td>[[say, document, impeachment, hearing, evidenc...</td>\n",
       "      <td>www.cnn.com</td>\n",
       "    </tr>\n",
       "    <tr>\n",
       "      <th>8</th>\n",
       "      <td>8</td>\n",
       "      <td>https://abcnews.go.com/Politics/comer-issue-su...</td>\n",
       "      <td>Comer says he will issue subpoenas 'today' for...</td>\n",
       "      <td>0.01</td>\n",
       "      <td>Neutral</td>\n",
       "      <td>0.40</td>\n",
       "      <td>directly, new, more, first, far, top</td>\n",
       "      <td>mean, previously, extreme, missing, late, other</td>\n",
       "      <td>house oversight committee chairman james comer...</td>\n",
       "      <td>[(2, 0.10095017), (4, 0.8959267)]</td>\n",
       "      <td>4</td>\n",
       "      <td>0.895927</td>\n",
       "      <td>[[say, document, impeachment, hearing, evidenc...</td>\n",
       "      <td>abcnews.go.com</td>\n",
       "    </tr>\n",
       "    <tr>\n",
       "      <th>9</th>\n",
       "      <td>9</td>\n",
       "      <td>https://apnews.com/article/hunter-biden-prosec...</td>\n",
       "      <td>Hunter Biden prosecutor wasn’t blocked from br...</td>\n",
       "      <td>0.04</td>\n",
       "      <td>Neutral Positive</td>\n",
       "      <td>0.43</td>\n",
       "      <td>very, special, full, more</td>\n",
       "      <td>closed, subject, no, expected, addicted, behin...</td>\n",
       "      <td>washington (ap) — a second u.s. attorney has t...</td>\n",
       "      <td>[(3, 0.9945656)]</td>\n",
       "      <td>3</td>\n",
       "      <td>0.994566</td>\n",
       "      <td>[[say, office, information, attorney, source, ...</td>\n",
       "      <td>apnews.com</td>\n",
       "    </tr>\n",
       "    <tr>\n",
       "      <th>10</th>\n",
       "      <td>10</td>\n",
       "      <td>https://nypost.com/2023/10/26/news/us-attorney...</td>\n",
       "      <td>Biden-picked LA US attorney claimed he was too...</td>\n",
       "      <td>0.03</td>\n",
       "      <td>Neutral</td>\n",
       "      <td>0.45</td>\n",
       "      <td>able, directly, recently, general, apparent, w...</td>\n",
       "      <td>corrupt, directly, difficult, past, allegedly,...</td>\n",
       "      <td>washington — los angeles us attorney martin es...</td>\n",
       "      <td>[(3, 0.9966592)]</td>\n",
       "      <td>3</td>\n",
       "      <td>0.996659</td>\n",
       "      <td>[[say, office, information, attorney, source, ...</td>\n",
       "      <td>nypost.com</td>\n",
       "    </tr>\n",
       "    <tr>\n",
       "      <th>11</th>\n",
       "      <td>11</td>\n",
       "      <td>https://www.foxnews.com/politics/fbi-received-...</td>\n",
       "      <td>FBI received 'criminal information' from over ...</td>\n",
       "      <td>-0.03</td>\n",
       "      <td>Negative</td>\n",
       "      <td>0.34</td>\n",
       "      <td>strong, relevant, highly, rich, general, succe...</td>\n",
       "      <td>questionable, criminal, merely, falsely, late,...</td>\n",
       "      <td>exclusive: the fbi maintained more than 40 con...</td>\n",
       "      <td>[(3, 0.998884)]</td>\n",
       "      <td>3</td>\n",
       "      <td>0.998884</td>\n",
       "      <td>[[say, office, information, attorney, source, ...</td>\n",
       "      <td>www.foxnews.com</td>\n",
       "    </tr>\n",
       "    <tr>\n",
       "      <th>12</th>\n",
       "      <td>12</td>\n",
       "      <td>https://www.grassley.senate.gov/news/news-rele...</td>\n",
       "      <td>Grassley Reveals New Details of FBI Efforts to...</td>\n",
       "      <td>-0.00</td>\n",
       "      <td>Neutral Negative</td>\n",
       "      <td>0.39</td>\n",
       "      <td>able, general, credible, legally, clear, full,...</td>\n",
       "      <td>closed, falsely, criminal, center, foreign, do...</td>\n",
       "      <td>fbi’s biden bribery document cleared initial v...</td>\n",
       "      <td>[(3, 0.8695408), (6, 0.12661557)]</td>\n",
       "      <td>3</td>\n",
       "      <td>0.869541</td>\n",
       "      <td>[[say, office, information, attorney, source, ...</td>\n",
       "      <td>www.grassley.senate.gov</td>\n",
       "    </tr>\n",
       "    <tr>\n",
       "      <th>13</th>\n",
       "      <td>13</td>\n",
       "      <td>https://wjla.com/news/nation-world/senator-chu...</td>\n",
       "      <td>Sen. Grassley demand answers over handling of ...</td>\n",
       "      <td>-0.02</td>\n",
       "      <td>Neutral Negative</td>\n",
       "      <td>0.35</td>\n",
       "      <td>credible, general, new, more, really, certain</td>\n",
       "      <td>ordinary, subject, criminal, foreign, down, fa...</td>\n",
       "      <td>there are new questions about the role of the ...</td>\n",
       "      <td>[(0, 0.32191563), (3, 0.6707826)]</td>\n",
       "      <td>3</td>\n",
       "      <td>0.670783</td>\n",
       "      <td>[[say, office, information, attorney, source, ...</td>\n",
       "      <td>wjla.com</td>\n",
       "    </tr>\n",
       "    <tr>\n",
       "      <th>14</th>\n",
       "      <td>14</td>\n",
       "      <td>https://www.newsnationnow.com/danabramslive/ab...</td>\n",
       "      <td>Abrams: Comer’s Biden ‘bombshell’ once again f...</td>\n",
       "      <td>0.14</td>\n",
       "      <td>Positive</td>\n",
       "      <td>0.43</td>\n",
       "      <td>large, many, major, sure, true, marked, consis...</td>\n",
       "      <td>usually, single, mean, tries, bad, foreign, very</td>\n",
       "      <td>the views expressed in this article are those ...</td>\n",
       "      <td>[(2, 0.99698883)]</td>\n",
       "      <td>2</td>\n",
       "      <td>0.996989</td>\n",
       "      <td>[[wire, say, comer, receive, address, partner,...</td>\n",
       "      <td>www.newsnationnow.com</td>\n",
       "    </tr>\n",
       "    <tr>\n",
       "      <th>15</th>\n",
       "      <td>15</td>\n",
       "      <td>https://nypost.com/2023/10/25/news/us-attorney...</td>\n",
       "      <td>FBI hindered Hunter probe — and David Weiss sk...</td>\n",
       "      <td>0.07</td>\n",
       "      <td>Positive</td>\n",
       "      <td>0.42</td>\n",
       "      <td>relevant, generally, very, general, surprised,...</td>\n",
       "      <td>hindered, criminal, firm, previously, alleged,...</td>\n",
       "      <td>a former us attorney said the fbi hindered his...</td>\n",
       "      <td>[(3, 0.9979368)]</td>\n",
       "      <td>3</td>\n",
       "      <td>0.997937</td>\n",
       "      <td>[[say, office, information, attorney, source, ...</td>\n",
       "      <td>nypost.com</td>\n",
       "    </tr>\n",
       "    <tr>\n",
       "      <th>16</th>\n",
       "      <td>16</td>\n",
       "      <td>https://www.thenation.com/article/politics/rea...</td>\n",
       "      <td>The Real Hunter Biden Scandal</td>\n",
       "      <td>0.10</td>\n",
       "      <td>Positive</td>\n",
       "      <td>0.44</td>\n",
       "      <td>easy, great, near, powerful, quickly, many, ma...</td>\n",
       "      <td>badly, criminal, merely, troubled, slightly, b...</td>\n",
       "      <td>subscribe to the nation subscribe now for as l...</td>\n",
       "      <td>[(6, 0.99901015)]</td>\n",
       "      <td>6</td>\n",
       "      <td>0.999010</td>\n",
       "      <td>[[drug, president, son, nation, month, get, la...</td>\n",
       "      <td>www.thenation.com</td>\n",
       "    </tr>\n",
       "  </tbody>\n",
       "</table>\n",
       "</div>"
      ],
      "text/plain": [
       "    ID                                                URL  \\\n",
       "0    0  https://www.foxnews.com/politics/hunter-bidens...   \n",
       "1    1  https://www.foxnews.com/politics/doj-ordered-h...   \n",
       "2    2  https://www.foxnews.com/politics/hunter-biden-...   \n",
       "3    3  https://apnews.com/article/hunter-biden-impeac...   \n",
       "4    4  https://www.nation.com.pk/21-Jun-2023/hunter-b...   \n",
       "5    5  https://www.nation.com.pk/25-Jul-2021/white-ho...   \n",
       "6    6  https://www.nation.com.pk/24-Dec-2019/hunter-b...   \n",
       "7    7  https://www.cnn.com/2023/09/27/politics/house-...   \n",
       "8    8  https://abcnews.go.com/Politics/comer-issue-su...   \n",
       "9    9  https://apnews.com/article/hunter-biden-prosec...   \n",
       "10  10  https://nypost.com/2023/10/26/news/us-attorney...   \n",
       "11  11  https://www.foxnews.com/politics/fbi-received-...   \n",
       "12  12  https://www.grassley.senate.gov/news/news-rele...   \n",
       "13  13  https://wjla.com/news/nation-world/senator-chu...   \n",
       "14  14  https://www.newsnationnow.com/danabramslive/ab...   \n",
       "15  15  https://nypost.com/2023/10/25/news/us-attorney...   \n",
       "16  16  https://www.thenation.com/article/politics/rea...   \n",
       "\n",
       "                                        Article Title  Sentiment Score  \\\n",
       "0   Hunter Biden's $250K wire from China labeled a...             0.04   \n",
       "1   DOJ ordered Hunter Biden investigators to 'rem...             0.06   \n",
       "2   Hunter Biden sues Rudy Giuliani over laptop, a...            -0.04   \n",
       "3   House Republicans make their case for Biden im...             0.02   \n",
       "4   Hunter Biden to plead guilty to federal tax ch...            -0.04   \n",
       "5   White House on defensive over Hunter Biden art...             0.10   \n",
       "6   Hunter Biden figures in ‘multiple criminal inv...            -0.11   \n",
       "7   Hunter Biden probe: House Republicans release ...            -0.01   \n",
       "8   Comer says he will issue subpoenas 'today' for...             0.01   \n",
       "9   Hunter Biden prosecutor wasn’t blocked from br...             0.04   \n",
       "10  Biden-picked LA US attorney claimed he was too...             0.03   \n",
       "11  FBI received 'criminal information' from over ...            -0.03   \n",
       "12  Grassley Reveals New Details of FBI Efforts to...            -0.00   \n",
       "13  Sen. Grassley demand answers over handling of ...            -0.02   \n",
       "14  Abrams: Comer’s Biden ‘bombshell’ once again f...             0.14   \n",
       "15  FBI hindered Hunter probe — and David Weiss sk...             0.07   \n",
       "16                      The Real Hunter Biden Scandal             0.10   \n",
       "\n",
       "     Sentiment Label  Subjectivity Score  \\\n",
       "0   Neutral Positive                0.24   \n",
       "1   Neutral Positive                0.35   \n",
       "2           Negative                0.37   \n",
       "3            Neutral                0.37   \n",
       "4           Negative                0.44   \n",
       "5           Positive                0.41   \n",
       "6           Negative                0.40   \n",
       "7   Neutral Negative                0.35   \n",
       "8            Neutral                0.40   \n",
       "9   Neutral Positive                0.43   \n",
       "10           Neutral                0.45   \n",
       "11          Negative                0.34   \n",
       "12  Neutral Negative                0.39   \n",
       "13  Neutral Negative                0.35   \n",
       "14          Positive                0.43   \n",
       "15          Positive                0.42   \n",
       "16          Positive                0.44   \n",
       "\n",
       "                                       Positive Words  \\\n",
       "0         legal, new, more, first, main, unpaid, best   \n",
       "1   wealthy, most, exactly, light, clear, appropri...   \n",
       "2   legal, new, many, first, not, generally, lates...   \n",
       "3   clear, legal, right, new, more, promising, hig...   \n",
       "4       important, first, not, social, detailed, love   \n",
       "5   favorite, winning, appropriate, ethical, new, ...   \n",
       "6                                   nearly, new, more   \n",
       "7   general, directly, apparent, light, clear, not...   \n",
       "8                directly, new, more, first, far, top   \n",
       "9                           very, special, full, more   \n",
       "10  able, directly, recently, general, apparent, w...   \n",
       "11  strong, relevant, highly, rich, general, succe...   \n",
       "12  able, general, credible, legally, clear, full,...   \n",
       "13      credible, general, new, more, really, certain   \n",
       "14  large, many, major, sure, true, marked, consis...   \n",
       "15  relevant, generally, very, general, surprised,...   \n",
       "16  easy, great, near, powerful, quickly, many, ma...   \n",
       "\n",
       "                                       Negative Words  \\\n",
       "0   approximately, previously, firm, limited, down...   \n",
       "1   subject, criminal, artificially, limited, not,...   \n",
       "2   guilty, hard, past, foreign, infamous, failure...   \n",
       "3   hard, skeptical, criminal, thin, long, expecte...   \n",
       "4   guilty, subject, criminal, failure, alleged, f...   \n",
       "5                                                half   \n",
       "6   guilty, subject, criminal, allegedly, firm, al...   \n",
       "7   closed, criminal, single, complained, frustrat...   \n",
       "8     mean, previously, extreme, missing, late, other   \n",
       "9   closed, subject, no, expected, addicted, behin...   \n",
       "10  corrupt, directly, difficult, past, allegedly,...   \n",
       "11  questionable, criminal, merely, falsely, late,...   \n",
       "12  closed, falsely, criminal, center, foreign, do...   \n",
       "13  ordinary, subject, criminal, foreign, down, fa...   \n",
       "14   usually, single, mean, tries, bad, foreign, very   \n",
       "15  hindered, criminal, firm, previously, alleged,...   \n",
       "16  badly, criminal, merely, troubled, slightly, b...   \n",
       "\n",
       "                                                 Text  \\\n",
       "0   exclusive: the $250,000 wire hunter biden rece...   \n",
       "1   the u.s. department of justice ordered fbi and...   \n",
       "2   hunter biden on tuesday filed a lawsuit agains...   \n",
       "3   washington (ap) — house republicans launched a...   \n",
       "4   washigton-hunter biden, the son of president j...   \n",
       "5   washington - the white house assured saturday ...   \n",
       "6   hunter biden is the subject of multiple crimin...   \n",
       "7   washington cnn —\\ndocuments released wednesday...   \n",
       "8   house oversight committee chairman james comer...   \n",
       "9   washington (ap) — a second u.s. attorney has t...   \n",
       "10  washington — los angeles us attorney martin es...   \n",
       "11  exclusive: the fbi maintained more than 40 con...   \n",
       "12  fbi’s biden bribery document cleared initial v...   \n",
       "13  there are new questions about the role of the ...   \n",
       "14  the views expressed in this article are those ...   \n",
       "15  a former us attorney said the fbi hindered his...   \n",
       "16  subscribe to the nation subscribe now for as l...   \n",
       "\n",
       "                               Topics  Main Topic  Main Topic Score  \\\n",
       "0                    [(2, 0.9974968)]           2          0.997497   \n",
       "1    [(3, 0.603655), (4, 0.39470795)]           3          0.603655   \n",
       "2                   [(6, 0.99759436)]           6          0.997594   \n",
       "3                    [(4, 0.9983521)]           4          0.998352   \n",
       "4                    [(3, 0.9946681)]           3          0.994668   \n",
       "5                    [(0, 0.9941633)]           0          0.994163   \n",
       "6                   [(4, 0.99354595)]           4          0.993546   \n",
       "7                   [(4, 0.99821925)]           4          0.998219   \n",
       "8   [(2, 0.10095017), (4, 0.8959267)]           4          0.895927   \n",
       "9                    [(3, 0.9945656)]           3          0.994566   \n",
       "10                   [(3, 0.9966592)]           3          0.996659   \n",
       "11                    [(3, 0.998884)]           3          0.998884   \n",
       "12  [(3, 0.8695408), (6, 0.12661557)]           3          0.869541   \n",
       "13  [(0, 0.32191563), (3, 0.6707826)]           3          0.670783   \n",
       "14                  [(2, 0.99698883)]           2          0.996989   \n",
       "15                   [(3, 0.9979368)]           3          0.997937   \n",
       "16                  [(6, 0.99901015)]           6          0.999010   \n",
       "\n",
       "                                     Associated Words        Shortened Address  \n",
       "0   [[wire, say, comer, receive, address, partner,...          www.foxnews.com  \n",
       "1   [[say, office, information, attorney, source, ...          www.foxnews.com  \n",
       "2   [[drug, president, son, nation, month, get, la...          www.foxnews.com  \n",
       "3   [[say, document, impeachment, hearing, evidenc...               apnews.com  \n",
       "4   [[say, office, information, attorney, source, ...        www.nation.com.pk  \n",
       "5   [[say, president, son, buyer, artwork, purchas...        www.nation.com.pk  \n",
       "6   [[say, document, impeachment, hearing, evidenc...        www.nation.com.pk  \n",
       "7   [[say, document, impeachment, hearing, evidenc...              www.cnn.com  \n",
       "8   [[say, document, impeachment, hearing, evidenc...           abcnews.go.com  \n",
       "9   [[say, office, information, attorney, source, ...               apnews.com  \n",
       "10  [[say, office, information, attorney, source, ...               nypost.com  \n",
       "11  [[say, office, information, attorney, source, ...          www.foxnews.com  \n",
       "12  [[say, office, information, attorney, source, ...  www.grassley.senate.gov  \n",
       "13  [[say, office, information, attorney, source, ...                 wjla.com  \n",
       "14  [[wire, say, comer, receive, address, partner,...    www.newsnationnow.com  \n",
       "15  [[say, office, information, attorney, source, ...               nypost.com  \n",
       "16  [[drug, president, son, nation, month, get, la...        www.thenation.com  "
      ]
     },
     "execution_count": 9,
     "metadata": {},
     "output_type": "execute_result"
    }
   ],
   "source": [
    "# display the main dataframe\n",
    "df"
   ]
  },
  {
   "cell_type": "markdown",
   "id": "6bcda24f",
   "metadata": {},
   "source": [
    "Display the topic model words"
   ]
  },
  {
   "cell_type": "code",
   "execution_count": null,
   "id": "1bd35257",
   "metadata": {},
   "outputs": [
    {
     "data": {
      "text/plain": [
       "{0: ['say',\n",
       "  'president',\n",
       "  'son',\n",
       "  'buyer',\n",
       "  'artwork',\n",
       "  'purchase',\n",
       "  'year',\n",
       "  'work',\n",
       "  'know',\n",
       "  'target'],\n",
       " 1: ['say',\n",
       "  'office',\n",
       "  'president',\n",
       "  'family',\n",
       "  'evidence',\n",
       "  'son',\n",
       "  'year',\n",
       "  'document',\n",
       "  'receive',\n",
       "  'information'],\n",
       " 2: ['wire',\n",
       "  'say',\n",
       "  'comer',\n",
       "  'receive',\n",
       "  'address',\n",
       "  'partner',\n",
       "  'loan',\n",
       "  'bombshell',\n",
       "  'beneficiary',\n",
       "  'news'],\n",
       " 3: ['say',\n",
       "  'office',\n",
       "  'information',\n",
       "  'attorney',\n",
       "  'source',\n",
       "  'charge',\n",
       "  'foreign',\n",
       "  'family',\n",
       "  'relate',\n",
       "  'son'],\n",
       " 4: ['say',\n",
       "  'document',\n",
       "  'impeachment',\n",
       "  'hearing',\n",
       "  'evidence',\n",
       "  'house',\n",
       "  'family',\n",
       "  'president',\n",
       "  'political',\n",
       "  'address'],\n",
       " 5: ['say',\n",
       "  'president',\n",
       "  'impeachment',\n",
       "  'family',\n",
       "  'office',\n",
       "  'business',\n",
       "  'evidence',\n",
       "  'attorney',\n",
       "  'tell',\n",
       "  'son'],\n",
       " 6: ['drug',\n",
       "  'president',\n",
       "  'son',\n",
       "  'nation',\n",
       "  'month',\n",
       "  'get',\n",
       "  'laptop',\n",
       "  'use',\n",
       "  'father',\n",
       "  'crack']}"
      ]
     },
     "execution_count": 10,
     "metadata": {},
     "output_type": "execute_result"
    }
   ],
   "source": [
    "# Generate dictionary of all topic words\n",
    "topic_model_display = create_topic_words_dict(lda_model)\n",
    "\n",
    "# Display dictionary of all topics and their topic words\n",
    "topic_model_display"
   ]
  },
  {
   "cell_type": "markdown",
   "id": "9587fb26",
   "metadata": {},
   "source": [
    "## Visualize all articles on their main topic"
   ]
  },
  {
   "cell_type": "markdown",
   "id": "4e350ce8",
   "metadata": {},
   "source": [
    "Here we will show two simple graphs plotting all articles' sentiment values, with the articles sorted by main topic. This is to show the distribution of sentiment towards the different topics. The scatter plot will let you look each article individually, to see how each article contributes to the sentiment distribution. The box plot will show you the actual sentiment distribution for each topic, andgive details on the variance and average sentiment of a topic."
   ]
  },
  {
   "cell_type": "code",
   "execution_count": null,
   "id": "f85d1cda",
   "metadata": {
    "scrolled": false
   },
   "outputs": [
    {
     "data": {
      "application/vnd.plotly.v1+json": {
       "config": {
        "plotlyServerURL": "https://plot.ly"
       },
       "data": [
        {
         "customdata": [
          [
           0,
           "Hunter Biden's $250K wire from China labeled as a 'personal investment'",
           [
            [
             "wire",
             "say",
             "comer",
             "receive",
             "address",
             "partner",
             "loan",
             "bombshell",
             "beneficiary",
             "news"
            ]
           ],
           "www.foxnews.com",
           "Neutral Positive",
           0.9974967837333679
          ],
          [
           1,
           "DOJ ordered Hunter Biden investigators to 'remove any reference' to Joe Biden in FARA probe warrant: House GOP",
           [
            [
             "say",
             "office",
             "information",
             "attorney",
             "source",
             "charge",
             "foreign",
             "family",
             "relate",
             "son"
            ]
           ],
           "www.foxnews.com",
           "Neutral Positive",
           0.6036549806594849
          ],
          [
           2,
           "Hunter Biden sues Rudy Giuliani over laptop, accuses ex-Trump lawyer of 'hacking'",
           [
            [
             "drug",
             "president",
             "son",
             "nation",
             "month",
             "get",
             "laptop",
             "use",
             "father",
             "crack"
            ]
           ],
           "www.foxnews.com",
           "Negative",
           0.9975943565368652
          ],
          [
           3,
           "House Republicans make their case for Biden impeachment inquiry at first hearing",
           [
            [
             "say",
             "document",
             "impeachment",
             "hearing",
             "evidence",
             "house",
             "family",
             "president",
             "political",
             "address"
            ]
           ],
           "apnews.com",
           "Neutral",
           0.9983521103858948
          ],
          [
           4,
           "Hunter Biden to plead guilty to federal tax charges, strikes deal on gun charge",
           [
            [
             "say",
             "office",
             "information",
             "attorney",
             "source",
             "charge",
             "foreign",
             "family",
             "relate",
             "son"
            ]
           ],
           "www.nation.com.pk",
           "Negative",
           0.9946681261062622
          ],
          [
           5,
           "White House on defensive over Hunter Biden art sales",
           [
            [
             "say",
             "president",
             "son",
             "buyer",
             "artwork",
             "purchase",
             "year",
             "work",
             "know",
             "target"
            ]
           ],
           "www.nation.com.pk",
           "Positive",
           0.9941632747650146
          ],
          [
           6,
           "Hunter Biden figures in ‘multiple criminal investigations”",
           [
            [
             "say",
             "document",
             "impeachment",
             "hearing",
             "evidence",
             "house",
             "family",
             "president",
             "political",
             "address"
            ]
           ],
           "www.nation.com.pk",
           "Negative",
           0.9935459494590759
          ],
          [
           7,
           "Hunter Biden probe: House Republicans release more than 700 pages of internal IRS documents from whistleblowers",
           [
            [
             "say",
             "document",
             "impeachment",
             "hearing",
             "evidence",
             "house",
             "family",
             "president",
             "political",
             "address"
            ]
           ],
           "www.cnn.com",
           "Neutral Negative",
           0.9982192516326904
          ],
          [
           8,
           "Comer says he will issue subpoenas 'today' for Hunter Biden, James Biden bank records",
           [
            [
             "say",
             "document",
             "impeachment",
             "hearing",
             "evidence",
             "house",
             "family",
             "president",
             "political",
             "address"
            ]
           ],
           "abcnews.go.com",
           "Neutral",
           0.8959267139434814
          ],
          [
           9,
           "Hunter Biden prosecutor wasn’t blocked from bringing California charges, US attorney tells Congress",
           [
            [
             "say",
             "office",
             "information",
             "attorney",
             "source",
             "charge",
             "foreign",
             "family",
             "relate",
             "son"
            ]
           ],
           "apnews.com",
           "Neutral Positive",
           0.9945656061172485
          ],
          [
           10,
           "Biden-picked LA US attorney claimed he was too ‘resource-strapped’ to charge Hunter",
           [
            [
             "say",
             "office",
             "information",
             "attorney",
             "source",
             "charge",
             "foreign",
             "family",
             "relate",
             "son"
            ]
           ],
           "nypost.com",
           "Neutral",
           0.9966592192649841
          ],
          [
           11,
           "FBI received 'criminal information' from over 40 confidential sources on Joe Biden, Hunter, James: Grassley",
           [
            [
             "say",
             "office",
             "information",
             "attorney",
             "source",
             "charge",
             "foreign",
             "family",
             "relate",
             "son"
            ]
           ],
           "www.foxnews.com",
           "Negative",
           0.9988840222358704
          ],
          [
           12,
           "Grassley Reveals New Details of FBI Efforts to Tamper with Far-Reaching Biden Family Investigations",
           [
            [
             "say",
             "office",
             "information",
             "attorney",
             "source",
             "charge",
             "foreign",
             "family",
             "relate",
             "son"
            ]
           ],
           "www.grassley.senate.gov",
           "Neutral Negative",
           0.869540810585022
          ],
          [
           13,
           "Sen. Grassley demand answers over handling of federal probe into Biden family",
           [
            [
             "say",
             "office",
             "information",
             "attorney",
             "source",
             "charge",
             "foreign",
             "family",
             "relate",
             "son"
            ]
           ],
           "wjla.com",
           "Neutral Negative",
           0.6707826256752014
          ],
          [
           14,
           "Abrams: Comer’s Biden ‘bombshell’ once again falls way short",
           [
            [
             "wire",
             "say",
             "comer",
             "receive",
             "address",
             "partner",
             "loan",
             "bombshell",
             "beneficiary",
             "news"
            ]
           ],
           "www.newsnationnow.com",
           "Positive",
           0.996988832950592
          ],
          [
           15,
           "FBI hindered Hunter probe — and David Weiss skipped briefing on Biden bribery allegations, US attorney testifies",
           [
            [
             "say",
             "office",
             "information",
             "attorney",
             "source",
             "charge",
             "foreign",
             "family",
             "relate",
             "son"
            ]
           ],
           "nypost.com",
           "Positive",
           0.9979367852210999
          ],
          [
           16,
           "The Real Hunter Biden Scandal",
           [
            [
             "drug",
             "president",
             "son",
             "nation",
             "month",
             "get",
             "laptop",
             "use",
             "father",
             "crack"
            ]
           ],
           "www.thenation.com",
           "Positive",
           0.9990101456642151
          ]
         ],
         "hovertemplate": "ID: %{customdata[0]}<br>Article Title: %{customdata[1]}<br>Associated Words: %{customdata[2]}<br>Address: %{customdata[3]}<br>Sentiment Label: %{customdata[4]}<br>Main Topic Score : %{customdata[5]}",
         "legendgroup": "",
         "marker": {
          "color": "#636efa",
          "size": [
           0.9974967837333679,
           0.6036549806594849,
           0.9975943565368652,
           0.9983521103858948,
           0.9946681261062622,
           0.9941632747650146,
           0.9935459494590759,
           0.9982192516326904,
           0.8959267139434814,
           0.9945656061172485,
           0.9966592192649841,
           0.9988840222358704,
           0.869540810585022,
           0.6707826256752014,
           0.996988832950592,
           0.9979367852210999,
           0.9990101456642151
          ],
          "sizemode": "area",
          "sizeref": 0.0024975253641605377,
          "symbol": "circle"
         },
         "mode": "markers",
         "name": "",
         "orientation": "v",
         "showlegend": false,
         "type": "scatter",
         "x": [
          2,
          3,
          6,
          4,
          3,
          0,
          4,
          4,
          4,
          3,
          3,
          3,
          3,
          3,
          2,
          3,
          6
         ],
         "xaxis": "x",
         "y": [
          0.04,
          0.06,
          -0.04,
          0.02,
          -0.04,
          0.1,
          -0.11,
          -0.01,
          0.01,
          0.04,
          0.03,
          -0.03,
          0,
          -0.02,
          0.14,
          0.07,
          0.1
         ],
         "yaxis": "y"
        }
       ],
       "layout": {
        "legend": {
         "itemsizing": "constant",
         "tracegroupgap": 0
        },
        "template": {
         "data": {
          "bar": [
           {
            "error_x": {
             "color": "#2a3f5f"
            },
            "error_y": {
             "color": "#2a3f5f"
            },
            "marker": {
             "line": {
              "color": "#E5ECF6",
              "width": 0.5
             },
             "pattern": {
              "fillmode": "overlay",
              "size": 10,
              "solidity": 0.2
             }
            },
            "type": "bar"
           }
          ],
          "barpolar": [
           {
            "marker": {
             "line": {
              "color": "#E5ECF6",
              "width": 0.5
             },
             "pattern": {
              "fillmode": "overlay",
              "size": 10,
              "solidity": 0.2
             }
            },
            "type": "barpolar"
           }
          ],
          "carpet": [
           {
            "aaxis": {
             "endlinecolor": "#2a3f5f",
             "gridcolor": "white",
             "linecolor": "white",
             "minorgridcolor": "white",
             "startlinecolor": "#2a3f5f"
            },
            "baxis": {
             "endlinecolor": "#2a3f5f",
             "gridcolor": "white",
             "linecolor": "white",
             "minorgridcolor": "white",
             "startlinecolor": "#2a3f5f"
            },
            "type": "carpet"
           }
          ],
          "choropleth": [
           {
            "colorbar": {
             "outlinewidth": 0,
             "ticks": ""
            },
            "type": "choropleth"
           }
          ],
          "contour": [
           {
            "colorbar": {
             "outlinewidth": 0,
             "ticks": ""
            },
            "colorscale": [
             [
              0,
              "#0d0887"
             ],
             [
              0.1111111111111111,
              "#46039f"
             ],
             [
              0.2222222222222222,
              "#7201a8"
             ],
             [
              0.3333333333333333,
              "#9c179e"
             ],
             [
              0.4444444444444444,
              "#bd3786"
             ],
             [
              0.5555555555555556,
              "#d8576b"
             ],
             [
              0.6666666666666666,
              "#ed7953"
             ],
             [
              0.7777777777777778,
              "#fb9f3a"
             ],
             [
              0.8888888888888888,
              "#fdca26"
             ],
             [
              1,
              "#f0f921"
             ]
            ],
            "type": "contour"
           }
          ],
          "contourcarpet": [
           {
            "colorbar": {
             "outlinewidth": 0,
             "ticks": ""
            },
            "type": "contourcarpet"
           }
          ],
          "heatmap": [
           {
            "colorbar": {
             "outlinewidth": 0,
             "ticks": ""
            },
            "colorscale": [
             [
              0,
              "#0d0887"
             ],
             [
              0.1111111111111111,
              "#46039f"
             ],
             [
              0.2222222222222222,
              "#7201a8"
             ],
             [
              0.3333333333333333,
              "#9c179e"
             ],
             [
              0.4444444444444444,
              "#bd3786"
             ],
             [
              0.5555555555555556,
              "#d8576b"
             ],
             [
              0.6666666666666666,
              "#ed7953"
             ],
             [
              0.7777777777777778,
              "#fb9f3a"
             ],
             [
              0.8888888888888888,
              "#fdca26"
             ],
             [
              1,
              "#f0f921"
             ]
            ],
            "type": "heatmap"
           }
          ],
          "heatmapgl": [
           {
            "colorbar": {
             "outlinewidth": 0,
             "ticks": ""
            },
            "colorscale": [
             [
              0,
              "#0d0887"
             ],
             [
              0.1111111111111111,
              "#46039f"
             ],
             [
              0.2222222222222222,
              "#7201a8"
             ],
             [
              0.3333333333333333,
              "#9c179e"
             ],
             [
              0.4444444444444444,
              "#bd3786"
             ],
             [
              0.5555555555555556,
              "#d8576b"
             ],
             [
              0.6666666666666666,
              "#ed7953"
             ],
             [
              0.7777777777777778,
              "#fb9f3a"
             ],
             [
              0.8888888888888888,
              "#fdca26"
             ],
             [
              1,
              "#f0f921"
             ]
            ],
            "type": "heatmapgl"
           }
          ],
          "histogram": [
           {
            "marker": {
             "pattern": {
              "fillmode": "overlay",
              "size": 10,
              "solidity": 0.2
             }
            },
            "type": "histogram"
           }
          ],
          "histogram2d": [
           {
            "colorbar": {
             "outlinewidth": 0,
             "ticks": ""
            },
            "colorscale": [
             [
              0,
              "#0d0887"
             ],
             [
              0.1111111111111111,
              "#46039f"
             ],
             [
              0.2222222222222222,
              "#7201a8"
             ],
             [
              0.3333333333333333,
              "#9c179e"
             ],
             [
              0.4444444444444444,
              "#bd3786"
             ],
             [
              0.5555555555555556,
              "#d8576b"
             ],
             [
              0.6666666666666666,
              "#ed7953"
             ],
             [
              0.7777777777777778,
              "#fb9f3a"
             ],
             [
              0.8888888888888888,
              "#fdca26"
             ],
             [
              1,
              "#f0f921"
             ]
            ],
            "type": "histogram2d"
           }
          ],
          "histogram2dcontour": [
           {
            "colorbar": {
             "outlinewidth": 0,
             "ticks": ""
            },
            "colorscale": [
             [
              0,
              "#0d0887"
             ],
             [
              0.1111111111111111,
              "#46039f"
             ],
             [
              0.2222222222222222,
              "#7201a8"
             ],
             [
              0.3333333333333333,
              "#9c179e"
             ],
             [
              0.4444444444444444,
              "#bd3786"
             ],
             [
              0.5555555555555556,
              "#d8576b"
             ],
             [
              0.6666666666666666,
              "#ed7953"
             ],
             [
              0.7777777777777778,
              "#fb9f3a"
             ],
             [
              0.8888888888888888,
              "#fdca26"
             ],
             [
              1,
              "#f0f921"
             ]
            ],
            "type": "histogram2dcontour"
           }
          ],
          "mesh3d": [
           {
            "colorbar": {
             "outlinewidth": 0,
             "ticks": ""
            },
            "type": "mesh3d"
           }
          ],
          "parcoords": [
           {
            "line": {
             "colorbar": {
              "outlinewidth": 0,
              "ticks": ""
             }
            },
            "type": "parcoords"
           }
          ],
          "pie": [
           {
            "automargin": true,
            "type": "pie"
           }
          ],
          "scatter": [
           {
            "fillpattern": {
             "fillmode": "overlay",
             "size": 10,
             "solidity": 0.2
            },
            "type": "scatter"
           }
          ],
          "scatter3d": [
           {
            "line": {
             "colorbar": {
              "outlinewidth": 0,
              "ticks": ""
             }
            },
            "marker": {
             "colorbar": {
              "outlinewidth": 0,
              "ticks": ""
             }
            },
            "type": "scatter3d"
           }
          ],
          "scattercarpet": [
           {
            "marker": {
             "colorbar": {
              "outlinewidth": 0,
              "ticks": ""
             }
            },
            "type": "scattercarpet"
           }
          ],
          "scattergeo": [
           {
            "marker": {
             "colorbar": {
              "outlinewidth": 0,
              "ticks": ""
             }
            },
            "type": "scattergeo"
           }
          ],
          "scattergl": [
           {
            "marker": {
             "colorbar": {
              "outlinewidth": 0,
              "ticks": ""
             }
            },
            "type": "scattergl"
           }
          ],
          "scattermapbox": [
           {
            "marker": {
             "colorbar": {
              "outlinewidth": 0,
              "ticks": ""
             }
            },
            "type": "scattermapbox"
           }
          ],
          "scatterpolar": [
           {
            "marker": {
             "colorbar": {
              "outlinewidth": 0,
              "ticks": ""
             }
            },
            "type": "scatterpolar"
           }
          ],
          "scatterpolargl": [
           {
            "marker": {
             "colorbar": {
              "outlinewidth": 0,
              "ticks": ""
             }
            },
            "type": "scatterpolargl"
           }
          ],
          "scatterternary": [
           {
            "marker": {
             "colorbar": {
              "outlinewidth": 0,
              "ticks": ""
             }
            },
            "type": "scatterternary"
           }
          ],
          "surface": [
           {
            "colorbar": {
             "outlinewidth": 0,
             "ticks": ""
            },
            "colorscale": [
             [
              0,
              "#0d0887"
             ],
             [
              0.1111111111111111,
              "#46039f"
             ],
             [
              0.2222222222222222,
              "#7201a8"
             ],
             [
              0.3333333333333333,
              "#9c179e"
             ],
             [
              0.4444444444444444,
              "#bd3786"
             ],
             [
              0.5555555555555556,
              "#d8576b"
             ],
             [
              0.6666666666666666,
              "#ed7953"
             ],
             [
              0.7777777777777778,
              "#fb9f3a"
             ],
             [
              0.8888888888888888,
              "#fdca26"
             ],
             [
              1,
              "#f0f921"
             ]
            ],
            "type": "surface"
           }
          ],
          "table": [
           {
            "cells": {
             "fill": {
              "color": "#EBF0F8"
             },
             "line": {
              "color": "white"
             }
            },
            "header": {
             "fill": {
              "color": "#C8D4E3"
             },
             "line": {
              "color": "white"
             }
            },
            "type": "table"
           }
          ]
         },
         "layout": {
          "annotationdefaults": {
           "arrowcolor": "#2a3f5f",
           "arrowhead": 0,
           "arrowwidth": 1
          },
          "autotypenumbers": "strict",
          "coloraxis": {
           "colorbar": {
            "outlinewidth": 0,
            "ticks": ""
           }
          },
          "colorscale": {
           "diverging": [
            [
             0,
             "#8e0152"
            ],
            [
             0.1,
             "#c51b7d"
            ],
            [
             0.2,
             "#de77ae"
            ],
            [
             0.3,
             "#f1b6da"
            ],
            [
             0.4,
             "#fde0ef"
            ],
            [
             0.5,
             "#f7f7f7"
            ],
            [
             0.6,
             "#e6f5d0"
            ],
            [
             0.7,
             "#b8e186"
            ],
            [
             0.8,
             "#7fbc41"
            ],
            [
             0.9,
             "#4d9221"
            ],
            [
             1,
             "#276419"
            ]
           ],
           "sequential": [
            [
             0,
             "#0d0887"
            ],
            [
             0.1111111111111111,
             "#46039f"
            ],
            [
             0.2222222222222222,
             "#7201a8"
            ],
            [
             0.3333333333333333,
             "#9c179e"
            ],
            [
             0.4444444444444444,
             "#bd3786"
            ],
            [
             0.5555555555555556,
             "#d8576b"
            ],
            [
             0.6666666666666666,
             "#ed7953"
            ],
            [
             0.7777777777777778,
             "#fb9f3a"
            ],
            [
             0.8888888888888888,
             "#fdca26"
            ],
            [
             1,
             "#f0f921"
            ]
           ],
           "sequentialminus": [
            [
             0,
             "#0d0887"
            ],
            [
             0.1111111111111111,
             "#46039f"
            ],
            [
             0.2222222222222222,
             "#7201a8"
            ],
            [
             0.3333333333333333,
             "#9c179e"
            ],
            [
             0.4444444444444444,
             "#bd3786"
            ],
            [
             0.5555555555555556,
             "#d8576b"
            ],
            [
             0.6666666666666666,
             "#ed7953"
            ],
            [
             0.7777777777777778,
             "#fb9f3a"
            ],
            [
             0.8888888888888888,
             "#fdca26"
            ],
            [
             1,
             "#f0f921"
            ]
           ]
          },
          "colorway": [
           "#636efa",
           "#EF553B",
           "#00cc96",
           "#ab63fa",
           "#FFA15A",
           "#19d3f3",
           "#FF6692",
           "#B6E880",
           "#FF97FF",
           "#FECB52"
          ],
          "font": {
           "color": "#2a3f5f"
          },
          "geo": {
           "bgcolor": "white",
           "lakecolor": "white",
           "landcolor": "#E5ECF6",
           "showlakes": true,
           "showland": true,
           "subunitcolor": "white"
          },
          "hoverlabel": {
           "align": "left"
          },
          "hovermode": "closest",
          "mapbox": {
           "style": "light"
          },
          "paper_bgcolor": "white",
          "plot_bgcolor": "#E5ECF6",
          "polar": {
           "angularaxis": {
            "gridcolor": "white",
            "linecolor": "white",
            "ticks": ""
           },
           "bgcolor": "#E5ECF6",
           "radialaxis": {
            "gridcolor": "white",
            "linecolor": "white",
            "ticks": ""
           }
          },
          "scene": {
           "xaxis": {
            "backgroundcolor": "#E5ECF6",
            "gridcolor": "white",
            "gridwidth": 2,
            "linecolor": "white",
            "showbackground": true,
            "ticks": "",
            "zerolinecolor": "white"
           },
           "yaxis": {
            "backgroundcolor": "#E5ECF6",
            "gridcolor": "white",
            "gridwidth": 2,
            "linecolor": "white",
            "showbackground": true,
            "ticks": "",
            "zerolinecolor": "white"
           },
           "zaxis": {
            "backgroundcolor": "#E5ECF6",
            "gridcolor": "white",
            "gridwidth": 2,
            "linecolor": "white",
            "showbackground": true,
            "ticks": "",
            "zerolinecolor": "white"
           }
          },
          "shapedefaults": {
           "line": {
            "color": "#2a3f5f"
           }
          },
          "ternary": {
           "aaxis": {
            "gridcolor": "white",
            "linecolor": "white",
            "ticks": ""
           },
           "baxis": {
            "gridcolor": "white",
            "linecolor": "white",
            "ticks": ""
           },
           "bgcolor": "#E5ECF6",
           "caxis": {
            "gridcolor": "white",
            "linecolor": "white",
            "ticks": ""
           }
          },
          "title": {
           "x": 0.05
          },
          "xaxis": {
           "automargin": true,
           "gridcolor": "white",
           "linecolor": "white",
           "ticks": "",
           "title": {
            "standoff": 15
           },
           "zerolinecolor": "white",
           "zerolinewidth": 2
          },
          "yaxis": {
           "automargin": true,
           "gridcolor": "white",
           "linecolor": "white",
           "ticks": "",
           "title": {
            "standoff": 15
           },
           "zerolinecolor": "white",
           "zerolinewidth": 2
          }
         }
        },
        "title": {
         "text": "Articles Sorted By Main Topic"
        },
        "xaxis": {
         "anchor": "y",
         "domain": [
          0,
          1
         ],
         "title": {
          "text": "Main Topic"
         }
        },
        "yaxis": {
         "anchor": "x",
         "domain": [
          0,
          1
         ],
         "range": [
          -0.14,
          0.14
         ],
         "title": {
          "text": "Sentiment Score"
         }
        }
       }
      }
     },
     "metadata": {},
     "output_type": "display_data"
    },
    {
     "data": {
      "application/vnd.plotly.v1+json": {
       "config": {
        "plotlyServerURL": "https://plot.ly"
       },
       "data": [
        {
         "alignmentgroup": "True",
         "hovertemplate": "Main Topic=%{x}<br>Sentiment Score=%{y}<extra></extra>",
         "legendgroup": "",
         "marker": {
          "color": "#636efa"
         },
         "name": "",
         "notched": false,
         "offsetgroup": "",
         "orientation": "v",
         "showlegend": false,
         "type": "box",
         "x": [
          2,
          3,
          6,
          4,
          3,
          0,
          4,
          4,
          4,
          3,
          3,
          3,
          3,
          3,
          2,
          3,
          6
         ],
         "x0": " ",
         "xaxis": "x",
         "y": [
          0.04,
          0.06,
          -0.04,
          0.02,
          -0.04,
          0.1,
          -0.11,
          -0.01,
          0.01,
          0.04,
          0.03,
          -0.03,
          0,
          -0.02,
          0.14,
          0.07,
          0.1
         ],
         "y0": " ",
         "yaxis": "y"
        }
       ],
       "layout": {
        "boxmode": "group",
        "legend": {
         "tracegroupgap": 0
        },
        "template": {
         "data": {
          "bar": [
           {
            "error_x": {
             "color": "#2a3f5f"
            },
            "error_y": {
             "color": "#2a3f5f"
            },
            "marker": {
             "line": {
              "color": "#E5ECF6",
              "width": 0.5
             },
             "pattern": {
              "fillmode": "overlay",
              "size": 10,
              "solidity": 0.2
             }
            },
            "type": "bar"
           }
          ],
          "barpolar": [
           {
            "marker": {
             "line": {
              "color": "#E5ECF6",
              "width": 0.5
             },
             "pattern": {
              "fillmode": "overlay",
              "size": 10,
              "solidity": 0.2
             }
            },
            "type": "barpolar"
           }
          ],
          "carpet": [
           {
            "aaxis": {
             "endlinecolor": "#2a3f5f",
             "gridcolor": "white",
             "linecolor": "white",
             "minorgridcolor": "white",
             "startlinecolor": "#2a3f5f"
            },
            "baxis": {
             "endlinecolor": "#2a3f5f",
             "gridcolor": "white",
             "linecolor": "white",
             "minorgridcolor": "white",
             "startlinecolor": "#2a3f5f"
            },
            "type": "carpet"
           }
          ],
          "choropleth": [
           {
            "colorbar": {
             "outlinewidth": 0,
             "ticks": ""
            },
            "type": "choropleth"
           }
          ],
          "contour": [
           {
            "colorbar": {
             "outlinewidth": 0,
             "ticks": ""
            },
            "colorscale": [
             [
              0,
              "#0d0887"
             ],
             [
              0.1111111111111111,
              "#46039f"
             ],
             [
              0.2222222222222222,
              "#7201a8"
             ],
             [
              0.3333333333333333,
              "#9c179e"
             ],
             [
              0.4444444444444444,
              "#bd3786"
             ],
             [
              0.5555555555555556,
              "#d8576b"
             ],
             [
              0.6666666666666666,
              "#ed7953"
             ],
             [
              0.7777777777777778,
              "#fb9f3a"
             ],
             [
              0.8888888888888888,
              "#fdca26"
             ],
             [
              1,
              "#f0f921"
             ]
            ],
            "type": "contour"
           }
          ],
          "contourcarpet": [
           {
            "colorbar": {
             "outlinewidth": 0,
             "ticks": ""
            },
            "type": "contourcarpet"
           }
          ],
          "heatmap": [
           {
            "colorbar": {
             "outlinewidth": 0,
             "ticks": ""
            },
            "colorscale": [
             [
              0,
              "#0d0887"
             ],
             [
              0.1111111111111111,
              "#46039f"
             ],
             [
              0.2222222222222222,
              "#7201a8"
             ],
             [
              0.3333333333333333,
              "#9c179e"
             ],
             [
              0.4444444444444444,
              "#bd3786"
             ],
             [
              0.5555555555555556,
              "#d8576b"
             ],
             [
              0.6666666666666666,
              "#ed7953"
             ],
             [
              0.7777777777777778,
              "#fb9f3a"
             ],
             [
              0.8888888888888888,
              "#fdca26"
             ],
             [
              1,
              "#f0f921"
             ]
            ],
            "type": "heatmap"
           }
          ],
          "heatmapgl": [
           {
            "colorbar": {
             "outlinewidth": 0,
             "ticks": ""
            },
            "colorscale": [
             [
              0,
              "#0d0887"
             ],
             [
              0.1111111111111111,
              "#46039f"
             ],
             [
              0.2222222222222222,
              "#7201a8"
             ],
             [
              0.3333333333333333,
              "#9c179e"
             ],
             [
              0.4444444444444444,
              "#bd3786"
             ],
             [
              0.5555555555555556,
              "#d8576b"
             ],
             [
              0.6666666666666666,
              "#ed7953"
             ],
             [
              0.7777777777777778,
              "#fb9f3a"
             ],
             [
              0.8888888888888888,
              "#fdca26"
             ],
             [
              1,
              "#f0f921"
             ]
            ],
            "type": "heatmapgl"
           }
          ],
          "histogram": [
           {
            "marker": {
             "pattern": {
              "fillmode": "overlay",
              "size": 10,
              "solidity": 0.2
             }
            },
            "type": "histogram"
           }
          ],
          "histogram2d": [
           {
            "colorbar": {
             "outlinewidth": 0,
             "ticks": ""
            },
            "colorscale": [
             [
              0,
              "#0d0887"
             ],
             [
              0.1111111111111111,
              "#46039f"
             ],
             [
              0.2222222222222222,
              "#7201a8"
             ],
             [
              0.3333333333333333,
              "#9c179e"
             ],
             [
              0.4444444444444444,
              "#bd3786"
             ],
             [
              0.5555555555555556,
              "#d8576b"
             ],
             [
              0.6666666666666666,
              "#ed7953"
             ],
             [
              0.7777777777777778,
              "#fb9f3a"
             ],
             [
              0.8888888888888888,
              "#fdca26"
             ],
             [
              1,
              "#f0f921"
             ]
            ],
            "type": "histogram2d"
           }
          ],
          "histogram2dcontour": [
           {
            "colorbar": {
             "outlinewidth": 0,
             "ticks": ""
            },
            "colorscale": [
             [
              0,
              "#0d0887"
             ],
             [
              0.1111111111111111,
              "#46039f"
             ],
             [
              0.2222222222222222,
              "#7201a8"
             ],
             [
              0.3333333333333333,
              "#9c179e"
             ],
             [
              0.4444444444444444,
              "#bd3786"
             ],
             [
              0.5555555555555556,
              "#d8576b"
             ],
             [
              0.6666666666666666,
              "#ed7953"
             ],
             [
              0.7777777777777778,
              "#fb9f3a"
             ],
             [
              0.8888888888888888,
              "#fdca26"
             ],
             [
              1,
              "#f0f921"
             ]
            ],
            "type": "histogram2dcontour"
           }
          ],
          "mesh3d": [
           {
            "colorbar": {
             "outlinewidth": 0,
             "ticks": ""
            },
            "type": "mesh3d"
           }
          ],
          "parcoords": [
           {
            "line": {
             "colorbar": {
              "outlinewidth": 0,
              "ticks": ""
             }
            },
            "type": "parcoords"
           }
          ],
          "pie": [
           {
            "automargin": true,
            "type": "pie"
           }
          ],
          "scatter": [
           {
            "fillpattern": {
             "fillmode": "overlay",
             "size": 10,
             "solidity": 0.2
            },
            "type": "scatter"
           }
          ],
          "scatter3d": [
           {
            "line": {
             "colorbar": {
              "outlinewidth": 0,
              "ticks": ""
             }
            },
            "marker": {
             "colorbar": {
              "outlinewidth": 0,
              "ticks": ""
             }
            },
            "type": "scatter3d"
           }
          ],
          "scattercarpet": [
           {
            "marker": {
             "colorbar": {
              "outlinewidth": 0,
              "ticks": ""
             }
            },
            "type": "scattercarpet"
           }
          ],
          "scattergeo": [
           {
            "marker": {
             "colorbar": {
              "outlinewidth": 0,
              "ticks": ""
             }
            },
            "type": "scattergeo"
           }
          ],
          "scattergl": [
           {
            "marker": {
             "colorbar": {
              "outlinewidth": 0,
              "ticks": ""
             }
            },
            "type": "scattergl"
           }
          ],
          "scattermapbox": [
           {
            "marker": {
             "colorbar": {
              "outlinewidth": 0,
              "ticks": ""
             }
            },
            "type": "scattermapbox"
           }
          ],
          "scatterpolar": [
           {
            "marker": {
             "colorbar": {
              "outlinewidth": 0,
              "ticks": ""
             }
            },
            "type": "scatterpolar"
           }
          ],
          "scatterpolargl": [
           {
            "marker": {
             "colorbar": {
              "outlinewidth": 0,
              "ticks": ""
             }
            },
            "type": "scatterpolargl"
           }
          ],
          "scatterternary": [
           {
            "marker": {
             "colorbar": {
              "outlinewidth": 0,
              "ticks": ""
             }
            },
            "type": "scatterternary"
           }
          ],
          "surface": [
           {
            "colorbar": {
             "outlinewidth": 0,
             "ticks": ""
            },
            "colorscale": [
             [
              0,
              "#0d0887"
             ],
             [
              0.1111111111111111,
              "#46039f"
             ],
             [
              0.2222222222222222,
              "#7201a8"
             ],
             [
              0.3333333333333333,
              "#9c179e"
             ],
             [
              0.4444444444444444,
              "#bd3786"
             ],
             [
              0.5555555555555556,
              "#d8576b"
             ],
             [
              0.6666666666666666,
              "#ed7953"
             ],
             [
              0.7777777777777778,
              "#fb9f3a"
             ],
             [
              0.8888888888888888,
              "#fdca26"
             ],
             [
              1,
              "#f0f921"
             ]
            ],
            "type": "surface"
           }
          ],
          "table": [
           {
            "cells": {
             "fill": {
              "color": "#EBF0F8"
             },
             "line": {
              "color": "white"
             }
            },
            "header": {
             "fill": {
              "color": "#C8D4E3"
             },
             "line": {
              "color": "white"
             }
            },
            "type": "table"
           }
          ]
         },
         "layout": {
          "annotationdefaults": {
           "arrowcolor": "#2a3f5f",
           "arrowhead": 0,
           "arrowwidth": 1
          },
          "autotypenumbers": "strict",
          "coloraxis": {
           "colorbar": {
            "outlinewidth": 0,
            "ticks": ""
           }
          },
          "colorscale": {
           "diverging": [
            [
             0,
             "#8e0152"
            ],
            [
             0.1,
             "#c51b7d"
            ],
            [
             0.2,
             "#de77ae"
            ],
            [
             0.3,
             "#f1b6da"
            ],
            [
             0.4,
             "#fde0ef"
            ],
            [
             0.5,
             "#f7f7f7"
            ],
            [
             0.6,
             "#e6f5d0"
            ],
            [
             0.7,
             "#b8e186"
            ],
            [
             0.8,
             "#7fbc41"
            ],
            [
             0.9,
             "#4d9221"
            ],
            [
             1,
             "#276419"
            ]
           ],
           "sequential": [
            [
             0,
             "#0d0887"
            ],
            [
             0.1111111111111111,
             "#46039f"
            ],
            [
             0.2222222222222222,
             "#7201a8"
            ],
            [
             0.3333333333333333,
             "#9c179e"
            ],
            [
             0.4444444444444444,
             "#bd3786"
            ],
            [
             0.5555555555555556,
             "#d8576b"
            ],
            [
             0.6666666666666666,
             "#ed7953"
            ],
            [
             0.7777777777777778,
             "#fb9f3a"
            ],
            [
             0.8888888888888888,
             "#fdca26"
            ],
            [
             1,
             "#f0f921"
            ]
           ],
           "sequentialminus": [
            [
             0,
             "#0d0887"
            ],
            [
             0.1111111111111111,
             "#46039f"
            ],
            [
             0.2222222222222222,
             "#7201a8"
            ],
            [
             0.3333333333333333,
             "#9c179e"
            ],
            [
             0.4444444444444444,
             "#bd3786"
            ],
            [
             0.5555555555555556,
             "#d8576b"
            ],
            [
             0.6666666666666666,
             "#ed7953"
            ],
            [
             0.7777777777777778,
             "#fb9f3a"
            ],
            [
             0.8888888888888888,
             "#fdca26"
            ],
            [
             1,
             "#f0f921"
            ]
           ]
          },
          "colorway": [
           "#636efa",
           "#EF553B",
           "#00cc96",
           "#ab63fa",
           "#FFA15A",
           "#19d3f3",
           "#FF6692",
           "#B6E880",
           "#FF97FF",
           "#FECB52"
          ],
          "font": {
           "color": "#2a3f5f"
          },
          "geo": {
           "bgcolor": "white",
           "lakecolor": "white",
           "landcolor": "#E5ECF6",
           "showlakes": true,
           "showland": true,
           "subunitcolor": "white"
          },
          "hoverlabel": {
           "align": "left"
          },
          "hovermode": "closest",
          "mapbox": {
           "style": "light"
          },
          "paper_bgcolor": "white",
          "plot_bgcolor": "#E5ECF6",
          "polar": {
           "angularaxis": {
            "gridcolor": "white",
            "linecolor": "white",
            "ticks": ""
           },
           "bgcolor": "#E5ECF6",
           "radialaxis": {
            "gridcolor": "white",
            "linecolor": "white",
            "ticks": ""
           }
          },
          "scene": {
           "xaxis": {
            "backgroundcolor": "#E5ECF6",
            "gridcolor": "white",
            "gridwidth": 2,
            "linecolor": "white",
            "showbackground": true,
            "ticks": "",
            "zerolinecolor": "white"
           },
           "yaxis": {
            "backgroundcolor": "#E5ECF6",
            "gridcolor": "white",
            "gridwidth": 2,
            "linecolor": "white",
            "showbackground": true,
            "ticks": "",
            "zerolinecolor": "white"
           },
           "zaxis": {
            "backgroundcolor": "#E5ECF6",
            "gridcolor": "white",
            "gridwidth": 2,
            "linecolor": "white",
            "showbackground": true,
            "ticks": "",
            "zerolinecolor": "white"
           }
          },
          "shapedefaults": {
           "line": {
            "color": "#2a3f5f"
           }
          },
          "ternary": {
           "aaxis": {
            "gridcolor": "white",
            "linecolor": "white",
            "ticks": ""
           },
           "baxis": {
            "gridcolor": "white",
            "linecolor": "white",
            "ticks": ""
           },
           "bgcolor": "#E5ECF6",
           "caxis": {
            "gridcolor": "white",
            "linecolor": "white",
            "ticks": ""
           }
          },
          "title": {
           "x": 0.05
          },
          "xaxis": {
           "automargin": true,
           "gridcolor": "white",
           "linecolor": "white",
           "ticks": "",
           "title": {
            "standoff": 15
           },
           "zerolinecolor": "white",
           "zerolinewidth": 2
          },
          "yaxis": {
           "automargin": true,
           "gridcolor": "white",
           "linecolor": "white",
           "ticks": "",
           "title": {
            "standoff": 15
           },
           "zerolinecolor": "white",
           "zerolinewidth": 2
          }
         }
        },
        "title": {
         "text": "Articles Sorted By Main Topic"
        },
        "xaxis": {
         "anchor": "y",
         "categoryarray": [
          2,
          3,
          6,
          4,
          0
         ],
         "categoryorder": "array",
         "domain": [
          0,
          1
         ],
         "title": {
          "text": "Main Topic"
         }
        },
        "yaxis": {
         "anchor": "x",
         "domain": [
          0,
          1
         ],
         "range": [
          -0.14,
          0.14
         ],
         "title": {
          "text": "Sentiment Score"
         }
        }
       }
      }
     },
     "metadata": {},
     "output_type": "display_data"
    }
   ],
   "source": [
    "visualize_all_articles_on_main_topic(df)\n",
    "visualize_all_articles_on_main_topic(df, plot_type=\"box\")"
   ]
  },
  {
   "cell_type": "markdown",
   "id": "e2dceebf",
   "metadata": {},
   "source": [
    "## Generating 2D and 3D Cluster Graphs of Topics (T-SNE)"
   ]
  },
  {
   "cell_type": "markdown",
   "id": "b37fc21b",
   "metadata": {},
   "source": [
    "This visualization generates a 2D clustering graph representing each article as a point in the topic space, which uses t-SNE dimensionality reduction and clustering. The goal of this visualization is to show every article compared to each other by their similarity in topics. You should see clusters of articles that share a lot of topic words and overall themes, while articles that differ in their topics are shown far apart. Colored by an article's main topic."
   ]
  },
  {
   "cell_type": "code",
   "execution_count": null,
   "id": "235fbeca",
   "metadata": {
    "scrolled": false
   },
   "outputs": [
    {
     "name": "stdout",
     "output_type": "stream",
     "text": [
      "[t-SNE] Computing 16 nearest neighbors...\n",
      "[t-SNE] Indexed 17 samples in 0.000s...\n",
      "[t-SNE] Computed neighbors for 17 samples in 0.253s...\n",
      "[t-SNE] Computed conditional probabilities for sample 17 / 17\n",
      "[t-SNE] Mean sigma: 0.333712\n",
      "[t-SNE] KL divergence after 250 iterations with early exaggeration: 55.363495\n",
      "[t-SNE] KL divergence after 1000 iterations: 0.105411\n"
     ]
    },
    {
     "data": {
      "application/vnd.plotly.v1+json": {
       "config": {
        "plotlyServerURL": "https://plot.ly"
       },
       "data": [
        {
         "customdata": [
          [
           5,
           "White House on defensive over Hunter Biden art sales",
           [
            [
             "say",
             "president",
             "son",
             "buyer",
             "artwork",
             "purchase",
             "year",
             "work",
             "know",
             "target"
            ]
           ],
           "www.nation.com.pk",
           "Positive",
           0.9941632747650146
          ]
         ],
         "hovertemplate": "ID: %{customdata[0]}<br>Article Title: %{customdata[1]}<br>Associated Words: %{customdata[2]}<br>Address: %{customdata[3]}<br>Sentiment Label: %{customdata[4]}<br>Main Topic Score: %{customdata[5]}",
         "legendgroup": "0",
         "marker": {
          "color": "#636efa",
          "size": [
           0.9941632747650146
          ],
          "sizemode": "area",
          "sizeref": 0.0024975253641605377,
          "symbol": "circle"
         },
         "mode": "markers",
         "name": "0",
         "orientation": "v",
         "showlegend": true,
         "type": "scatter",
         "x": [
          157.05747985839844
         ],
         "xaxis": "x",
         "y": [
          -8.056323051452637
         ],
         "yaxis": "y"
        },
        {
         "customdata": [
          [
           0,
           "Hunter Biden's $250K wire from China labeled as a 'personal investment'",
           [
            [
             "wire",
             "say",
             "comer",
             "receive",
             "address",
             "partner",
             "loan",
             "bombshell",
             "beneficiary",
             "news"
            ]
           ],
           "www.foxnews.com",
           "Neutral Positive",
           0.9974967837333679
          ],
          [
           14,
           "Abrams: Comer’s Biden ‘bombshell’ once again falls way short",
           [
            [
             "wire",
             "say",
             "comer",
             "receive",
             "address",
             "partner",
             "loan",
             "bombshell",
             "beneficiary",
             "news"
            ]
           ],
           "www.newsnationnow.com",
           "Positive",
           0.996988832950592
          ]
         ],
         "hovertemplate": "ID: %{customdata[0]}<br>Article Title: %{customdata[1]}<br>Associated Words: %{customdata[2]}<br>Address: %{customdata[3]}<br>Sentiment Label: %{customdata[4]}<br>Main Topic Score: %{customdata[5]}",
         "legendgroup": "2",
         "marker": {
          "color": "#EF553B",
          "size": [
           0.9974967837333679,
           0.996988832950592
          ],
          "sizemode": "area",
          "sizeref": 0.0024975253641605377,
          "symbol": "circle"
         },
         "mode": "markers",
         "name": "2",
         "orientation": "v",
         "showlegend": true,
         "type": "scatter",
         "x": [
          50.320213317871094,
          45.68099594116211
         ],
         "xaxis": "x",
         "y": [
          209.7364501953125,
          48.90149688720703
         ],
         "yaxis": "y"
        },
        {
         "customdata": [
          [
           1,
           "DOJ ordered Hunter Biden investigators to 'remove any reference' to Joe Biden in FARA probe warrant: House GOP",
           [
            [
             "say",
             "office",
             "information",
             "attorney",
             "source",
             "charge",
             "foreign",
             "family",
             "relate",
             "son"
            ]
           ],
           "www.foxnews.com",
           "Neutral Positive",
           0.6036549806594849
          ],
          [
           13,
           "Sen. Grassley demand answers over handling of federal probe into Biden family",
           [
            [
             "say",
             "office",
             "information",
             "attorney",
             "source",
             "charge",
             "foreign",
             "family",
             "relate",
             "son"
            ]
           ],
           "wjla.com",
           "Neutral Negative",
           0.6707826256752014
          ],
          [
           4,
           "Hunter Biden to plead guilty to federal tax charges, strikes deal on gun charge",
           [
            [
             "say",
             "office",
             "information",
             "attorney",
             "source",
             "charge",
             "foreign",
             "family",
             "relate",
             "son"
            ]
           ],
           "www.nation.com.pk",
           "Negative",
           0.9946681261062622
          ],
          [
           12,
           "Grassley Reveals New Details of FBI Efforts to Tamper with Far-Reaching Biden Family Investigations",
           [
            [
             "say",
             "office",
             "information",
             "attorney",
             "source",
             "charge",
             "foreign",
             "family",
             "relate",
             "son"
            ]
           ],
           "www.grassley.senate.gov",
           "Neutral Negative",
           0.869540810585022
          ],
          [
           11,
           "FBI received 'criminal information' from over 40 confidential sources on Joe Biden, Hunter, James: Grassley",
           [
            [
             "say",
             "office",
             "information",
             "attorney",
             "source",
             "charge",
             "foreign",
             "family",
             "relate",
             "son"
            ]
           ],
           "www.foxnews.com",
           "Negative",
           0.9988840222358704
          ],
          [
           15,
           "FBI hindered Hunter probe — and David Weiss skipped briefing on Biden bribery allegations, US attorney testifies",
           [
            [
             "say",
             "office",
             "information",
             "attorney",
             "source",
             "charge",
             "foreign",
             "family",
             "relate",
             "son"
            ]
           ],
           "nypost.com",
           "Positive",
           0.9979367852210999
          ],
          [
           9,
           "Hunter Biden prosecutor wasn’t blocked from bringing California charges, US attorney tells Congress",
           [
            [
             "say",
             "office",
             "information",
             "attorney",
             "source",
             "charge",
             "foreign",
             "family",
             "relate",
             "son"
            ]
           ],
           "apnews.com",
           "Neutral Positive",
           0.9945656061172485
          ],
          [
           10,
           "Biden-picked LA US attorney claimed he was too ‘resource-strapped’ to charge Hunter",
           [
            [
             "say",
             "office",
             "information",
             "attorney",
             "source",
             "charge",
             "foreign",
             "family",
             "relate",
             "son"
            ]
           ],
           "nypost.com",
           "Neutral",
           0.9966592192649841
          ]
         ],
         "hovertemplate": "ID: %{customdata[0]}<br>Article Title: %{customdata[1]}<br>Associated Words: %{customdata[2]}<br>Address: %{customdata[3]}<br>Sentiment Label: %{customdata[4]}<br>Main Topic Score: %{customdata[5]}",
         "legendgroup": "3",
         "marker": {
          "color": "#00cc96",
          "size": [
           0.6036549806594849,
           0.6707826256752014,
           0.9946681261062622,
           0.869540810585022,
           0.9988840222358704,
           0.9979367852210999,
           0.9945656061172485,
           0.9966592192649841
          ],
          "sizemode": "area",
          "sizeref": 0.0024975253641605377,
          "symbol": "circle"
         },
         "mode": "markers",
         "name": "3",
         "orientation": "v",
         "showlegend": true,
         "type": "scatter",
         "x": [
          -27.60118865966797,
          -12.477331161499023,
          37.74004364013672,
          -24.63312339782715,
          -71.29851531982422,
          -68.7413101196289,
          -48.450252532958984,
          -59.75859832763672
         ],
         "xaxis": "x",
         "y": [
          -94.0362548828125,
          161.79026794433594,
          316.9346923828125,
          -137.3385772705078,
          -95.20559692382812,
          -139.08474731445312,
          190.856201171875,
          144.61680603027344
         ],
         "yaxis": "y"
        },
        {
         "customdata": [
          [
           8,
           "Comer says he will issue subpoenas 'today' for Hunter Biden, James Biden bank records",
           [
            [
             "say",
             "document",
             "impeachment",
             "hearing",
             "evidence",
             "house",
             "family",
             "president",
             "political",
             "address"
            ]
           ],
           "abcnews.go.com",
           "Neutral",
           0.8959267139434814
          ],
          [
           6,
           "Hunter Biden figures in ‘multiple criminal investigations”",
           [
            [
             "say",
             "document",
             "impeachment",
             "hearing",
             "evidence",
             "house",
             "family",
             "president",
             "political",
             "address"
            ]
           ],
           "www.nation.com.pk",
           "Negative",
           0.9935459494590759
          ],
          [
           3,
           "House Republicans make their case for Biden impeachment inquiry at first hearing",
           [
            [
             "say",
             "document",
             "impeachment",
             "hearing",
             "evidence",
             "house",
             "family",
             "president",
             "political",
             "address"
            ]
           ],
           "apnews.com",
           "Neutral",
           0.9983521103858948
          ],
          [
           7,
           "Hunter Biden probe: House Republicans release more than 700 pages of internal IRS documents from whistleblowers",
           [
            [
             "say",
             "document",
             "impeachment",
             "hearing",
             "evidence",
             "house",
             "family",
             "president",
             "political",
             "address"
            ]
           ],
           "www.cnn.com",
           "Neutral Negative",
           0.9982192516326904
          ]
         ],
         "hovertemplate": "ID: %{customdata[0]}<br>Article Title: %{customdata[1]}<br>Associated Words: %{customdata[2]}<br>Address: %{customdata[3]}<br>Sentiment Label: %{customdata[4]}<br>Main Topic Score: %{customdata[5]}",
         "legendgroup": "4",
         "marker": {
          "color": "#ab63fa",
          "size": [
           0.8959267139434814,
           0.9935459494590759,
           0.9983521103858948,
           0.9982192516326904
          ],
          "sizemode": "area",
          "sizeref": 0.0024975253641605377,
          "symbol": "circle"
         },
         "mode": "markers",
         "name": "4",
         "orientation": "v",
         "showlegend": true,
         "type": "scatter",
         "x": [
          -94.82291412353516,
          -10.46810531616211,
          15.486411094665527,
          166.39459228515625
         ],
         "xaxis": "x",
         "y": [
          178.7383575439453,
          220.35572814941406,
          271.5376892089844,
          22.963289260864258
         ],
         "yaxis": "y"
        },
        {
         "customdata": [
          [
           2,
           "Hunter Biden sues Rudy Giuliani over laptop, accuses ex-Trump lawyer of 'hacking'",
           [
            [
             "drug",
             "president",
             "son",
             "nation",
             "month",
             "get",
             "laptop",
             "use",
             "father",
             "crack"
            ]
           ],
           "www.foxnews.com",
           "Negative",
           0.9975943565368652
          ],
          [
           16,
           "The Real Hunter Biden Scandal",
           [
            [
             "drug",
             "president",
             "son",
             "nation",
             "month",
             "get",
             "laptop",
             "use",
             "father",
             "crack"
            ]
           ],
           "www.thenation.com",
           "Positive",
           0.9990101456642151
          ]
         ],
         "hovertemplate": "ID: %{customdata[0]}<br>Article Title: %{customdata[1]}<br>Associated Words: %{customdata[2]}<br>Address: %{customdata[3]}<br>Sentiment Label: %{customdata[4]}<br>Main Topic Score: %{customdata[5]}",
         "legendgroup": "6",
         "marker": {
          "color": "#FFA15A",
          "size": [
           0.9975943565368652,
           0.9990101456642151
          ],
          "sizemode": "area",
          "sizeref": 0.0024975253641605377,
          "symbol": "circle"
         },
         "mode": "markers",
         "name": "6",
         "orientation": "v",
         "showlegend": true,
         "type": "scatter",
         "x": [
          -76.73977661132812,
          20.323148727416992
         ],
         "xaxis": "x",
         "y": [
          226.1561737060547,
          28.814945220947266
         ],
         "yaxis": "y"
        }
       ],
       "layout": {
        "legend": {
         "itemsizing": "constant",
         "title": {
          "text": "Main Topic"
         },
         "tracegroupgap": 0
        },
        "template": {
         "data": {
          "bar": [
           {
            "error_x": {
             "color": "#2a3f5f"
            },
            "error_y": {
             "color": "#2a3f5f"
            },
            "marker": {
             "line": {
              "color": "#E5ECF6",
              "width": 0.5
             },
             "pattern": {
              "fillmode": "overlay",
              "size": 10,
              "solidity": 0.2
             }
            },
            "type": "bar"
           }
          ],
          "barpolar": [
           {
            "marker": {
             "line": {
              "color": "#E5ECF6",
              "width": 0.5
             },
             "pattern": {
              "fillmode": "overlay",
              "size": 10,
              "solidity": 0.2
             }
            },
            "type": "barpolar"
           }
          ],
          "carpet": [
           {
            "aaxis": {
             "endlinecolor": "#2a3f5f",
             "gridcolor": "white",
             "linecolor": "white",
             "minorgridcolor": "white",
             "startlinecolor": "#2a3f5f"
            },
            "baxis": {
             "endlinecolor": "#2a3f5f",
             "gridcolor": "white",
             "linecolor": "white",
             "minorgridcolor": "white",
             "startlinecolor": "#2a3f5f"
            },
            "type": "carpet"
           }
          ],
          "choropleth": [
           {
            "colorbar": {
             "outlinewidth": 0,
             "ticks": ""
            },
            "type": "choropleth"
           }
          ],
          "contour": [
           {
            "colorbar": {
             "outlinewidth": 0,
             "ticks": ""
            },
            "colorscale": [
             [
              0,
              "#0d0887"
             ],
             [
              0.1111111111111111,
              "#46039f"
             ],
             [
              0.2222222222222222,
              "#7201a8"
             ],
             [
              0.3333333333333333,
              "#9c179e"
             ],
             [
              0.4444444444444444,
              "#bd3786"
             ],
             [
              0.5555555555555556,
              "#d8576b"
             ],
             [
              0.6666666666666666,
              "#ed7953"
             ],
             [
              0.7777777777777778,
              "#fb9f3a"
             ],
             [
              0.8888888888888888,
              "#fdca26"
             ],
             [
              1,
              "#f0f921"
             ]
            ],
            "type": "contour"
           }
          ],
          "contourcarpet": [
           {
            "colorbar": {
             "outlinewidth": 0,
             "ticks": ""
            },
            "type": "contourcarpet"
           }
          ],
          "heatmap": [
           {
            "colorbar": {
             "outlinewidth": 0,
             "ticks": ""
            },
            "colorscale": [
             [
              0,
              "#0d0887"
             ],
             [
              0.1111111111111111,
              "#46039f"
             ],
             [
              0.2222222222222222,
              "#7201a8"
             ],
             [
              0.3333333333333333,
              "#9c179e"
             ],
             [
              0.4444444444444444,
              "#bd3786"
             ],
             [
              0.5555555555555556,
              "#d8576b"
             ],
             [
              0.6666666666666666,
              "#ed7953"
             ],
             [
              0.7777777777777778,
              "#fb9f3a"
             ],
             [
              0.8888888888888888,
              "#fdca26"
             ],
             [
              1,
              "#f0f921"
             ]
            ],
            "type": "heatmap"
           }
          ],
          "heatmapgl": [
           {
            "colorbar": {
             "outlinewidth": 0,
             "ticks": ""
            },
            "colorscale": [
             [
              0,
              "#0d0887"
             ],
             [
              0.1111111111111111,
              "#46039f"
             ],
             [
              0.2222222222222222,
              "#7201a8"
             ],
             [
              0.3333333333333333,
              "#9c179e"
             ],
             [
              0.4444444444444444,
              "#bd3786"
             ],
             [
              0.5555555555555556,
              "#d8576b"
             ],
             [
              0.6666666666666666,
              "#ed7953"
             ],
             [
              0.7777777777777778,
              "#fb9f3a"
             ],
             [
              0.8888888888888888,
              "#fdca26"
             ],
             [
              1,
              "#f0f921"
             ]
            ],
            "type": "heatmapgl"
           }
          ],
          "histogram": [
           {
            "marker": {
             "pattern": {
              "fillmode": "overlay",
              "size": 10,
              "solidity": 0.2
             }
            },
            "type": "histogram"
           }
          ],
          "histogram2d": [
           {
            "colorbar": {
             "outlinewidth": 0,
             "ticks": ""
            },
            "colorscale": [
             [
              0,
              "#0d0887"
             ],
             [
              0.1111111111111111,
              "#46039f"
             ],
             [
              0.2222222222222222,
              "#7201a8"
             ],
             [
              0.3333333333333333,
              "#9c179e"
             ],
             [
              0.4444444444444444,
              "#bd3786"
             ],
             [
              0.5555555555555556,
              "#d8576b"
             ],
             [
              0.6666666666666666,
              "#ed7953"
             ],
             [
              0.7777777777777778,
              "#fb9f3a"
             ],
             [
              0.8888888888888888,
              "#fdca26"
             ],
             [
              1,
              "#f0f921"
             ]
            ],
            "type": "histogram2d"
           }
          ],
          "histogram2dcontour": [
           {
            "colorbar": {
             "outlinewidth": 0,
             "ticks": ""
            },
            "colorscale": [
             [
              0,
              "#0d0887"
             ],
             [
              0.1111111111111111,
              "#46039f"
             ],
             [
              0.2222222222222222,
              "#7201a8"
             ],
             [
              0.3333333333333333,
              "#9c179e"
             ],
             [
              0.4444444444444444,
              "#bd3786"
             ],
             [
              0.5555555555555556,
              "#d8576b"
             ],
             [
              0.6666666666666666,
              "#ed7953"
             ],
             [
              0.7777777777777778,
              "#fb9f3a"
             ],
             [
              0.8888888888888888,
              "#fdca26"
             ],
             [
              1,
              "#f0f921"
             ]
            ],
            "type": "histogram2dcontour"
           }
          ],
          "mesh3d": [
           {
            "colorbar": {
             "outlinewidth": 0,
             "ticks": ""
            },
            "type": "mesh3d"
           }
          ],
          "parcoords": [
           {
            "line": {
             "colorbar": {
              "outlinewidth": 0,
              "ticks": ""
             }
            },
            "type": "parcoords"
           }
          ],
          "pie": [
           {
            "automargin": true,
            "type": "pie"
           }
          ],
          "scatter": [
           {
            "fillpattern": {
             "fillmode": "overlay",
             "size": 10,
             "solidity": 0.2
            },
            "type": "scatter"
           }
          ],
          "scatter3d": [
           {
            "line": {
             "colorbar": {
              "outlinewidth": 0,
              "ticks": ""
             }
            },
            "marker": {
             "colorbar": {
              "outlinewidth": 0,
              "ticks": ""
             }
            },
            "type": "scatter3d"
           }
          ],
          "scattercarpet": [
           {
            "marker": {
             "colorbar": {
              "outlinewidth": 0,
              "ticks": ""
             }
            },
            "type": "scattercarpet"
           }
          ],
          "scattergeo": [
           {
            "marker": {
             "colorbar": {
              "outlinewidth": 0,
              "ticks": ""
             }
            },
            "type": "scattergeo"
           }
          ],
          "scattergl": [
           {
            "marker": {
             "colorbar": {
              "outlinewidth": 0,
              "ticks": ""
             }
            },
            "type": "scattergl"
           }
          ],
          "scattermapbox": [
           {
            "marker": {
             "colorbar": {
              "outlinewidth": 0,
              "ticks": ""
             }
            },
            "type": "scattermapbox"
           }
          ],
          "scatterpolar": [
           {
            "marker": {
             "colorbar": {
              "outlinewidth": 0,
              "ticks": ""
             }
            },
            "type": "scatterpolar"
           }
          ],
          "scatterpolargl": [
           {
            "marker": {
             "colorbar": {
              "outlinewidth": 0,
              "ticks": ""
             }
            },
            "type": "scatterpolargl"
           }
          ],
          "scatterternary": [
           {
            "marker": {
             "colorbar": {
              "outlinewidth": 0,
              "ticks": ""
             }
            },
            "type": "scatterternary"
           }
          ],
          "surface": [
           {
            "colorbar": {
             "outlinewidth": 0,
             "ticks": ""
            },
            "colorscale": [
             [
              0,
              "#0d0887"
             ],
             [
              0.1111111111111111,
              "#46039f"
             ],
             [
              0.2222222222222222,
              "#7201a8"
             ],
             [
              0.3333333333333333,
              "#9c179e"
             ],
             [
              0.4444444444444444,
              "#bd3786"
             ],
             [
              0.5555555555555556,
              "#d8576b"
             ],
             [
              0.6666666666666666,
              "#ed7953"
             ],
             [
              0.7777777777777778,
              "#fb9f3a"
             ],
             [
              0.8888888888888888,
              "#fdca26"
             ],
             [
              1,
              "#f0f921"
             ]
            ],
            "type": "surface"
           }
          ],
          "table": [
           {
            "cells": {
             "fill": {
              "color": "#EBF0F8"
             },
             "line": {
              "color": "white"
             }
            },
            "header": {
             "fill": {
              "color": "#C8D4E3"
             },
             "line": {
              "color": "white"
             }
            },
            "type": "table"
           }
          ]
         },
         "layout": {
          "annotationdefaults": {
           "arrowcolor": "#2a3f5f",
           "arrowhead": 0,
           "arrowwidth": 1
          },
          "autotypenumbers": "strict",
          "coloraxis": {
           "colorbar": {
            "outlinewidth": 0,
            "ticks": ""
           }
          },
          "colorscale": {
           "diverging": [
            [
             0,
             "#8e0152"
            ],
            [
             0.1,
             "#c51b7d"
            ],
            [
             0.2,
             "#de77ae"
            ],
            [
             0.3,
             "#f1b6da"
            ],
            [
             0.4,
             "#fde0ef"
            ],
            [
             0.5,
             "#f7f7f7"
            ],
            [
             0.6,
             "#e6f5d0"
            ],
            [
             0.7,
             "#b8e186"
            ],
            [
             0.8,
             "#7fbc41"
            ],
            [
             0.9,
             "#4d9221"
            ],
            [
             1,
             "#276419"
            ]
           ],
           "sequential": [
            [
             0,
             "#0d0887"
            ],
            [
             0.1111111111111111,
             "#46039f"
            ],
            [
             0.2222222222222222,
             "#7201a8"
            ],
            [
             0.3333333333333333,
             "#9c179e"
            ],
            [
             0.4444444444444444,
             "#bd3786"
            ],
            [
             0.5555555555555556,
             "#d8576b"
            ],
            [
             0.6666666666666666,
             "#ed7953"
            ],
            [
             0.7777777777777778,
             "#fb9f3a"
            ],
            [
             0.8888888888888888,
             "#fdca26"
            ],
            [
             1,
             "#f0f921"
            ]
           ],
           "sequentialminus": [
            [
             0,
             "#0d0887"
            ],
            [
             0.1111111111111111,
             "#46039f"
            ],
            [
             0.2222222222222222,
             "#7201a8"
            ],
            [
             0.3333333333333333,
             "#9c179e"
            ],
            [
             0.4444444444444444,
             "#bd3786"
            ],
            [
             0.5555555555555556,
             "#d8576b"
            ],
            [
             0.6666666666666666,
             "#ed7953"
            ],
            [
             0.7777777777777778,
             "#fb9f3a"
            ],
            [
             0.8888888888888888,
             "#fdca26"
            ],
            [
             1,
             "#f0f921"
            ]
           ]
          },
          "colorway": [
           "#636efa",
           "#EF553B",
           "#00cc96",
           "#ab63fa",
           "#FFA15A",
           "#19d3f3",
           "#FF6692",
           "#B6E880",
           "#FF97FF",
           "#FECB52"
          ],
          "font": {
           "color": "#2a3f5f"
          },
          "geo": {
           "bgcolor": "white",
           "lakecolor": "white",
           "landcolor": "#E5ECF6",
           "showlakes": true,
           "showland": true,
           "subunitcolor": "white"
          },
          "hoverlabel": {
           "align": "left"
          },
          "hovermode": "closest",
          "mapbox": {
           "style": "light"
          },
          "paper_bgcolor": "white",
          "plot_bgcolor": "#E5ECF6",
          "polar": {
           "angularaxis": {
            "gridcolor": "white",
            "linecolor": "white",
            "ticks": ""
           },
           "bgcolor": "#E5ECF6",
           "radialaxis": {
            "gridcolor": "white",
            "linecolor": "white",
            "ticks": ""
           }
          },
          "scene": {
           "xaxis": {
            "backgroundcolor": "#E5ECF6",
            "gridcolor": "white",
            "gridwidth": 2,
            "linecolor": "white",
            "showbackground": true,
            "ticks": "",
            "zerolinecolor": "white"
           },
           "yaxis": {
            "backgroundcolor": "#E5ECF6",
            "gridcolor": "white",
            "gridwidth": 2,
            "linecolor": "white",
            "showbackground": true,
            "ticks": "",
            "zerolinecolor": "white"
           },
           "zaxis": {
            "backgroundcolor": "#E5ECF6",
            "gridcolor": "white",
            "gridwidth": 2,
            "linecolor": "white",
            "showbackground": true,
            "ticks": "",
            "zerolinecolor": "white"
           }
          },
          "shapedefaults": {
           "line": {
            "color": "#2a3f5f"
           }
          },
          "ternary": {
           "aaxis": {
            "gridcolor": "white",
            "linecolor": "white",
            "ticks": ""
           },
           "baxis": {
            "gridcolor": "white",
            "linecolor": "white",
            "ticks": ""
           },
           "bgcolor": "#E5ECF6",
           "caxis": {
            "gridcolor": "white",
            "linecolor": "white",
            "ticks": ""
           }
          },
          "title": {
           "x": 0.05
          },
          "xaxis": {
           "automargin": true,
           "gridcolor": "white",
           "linecolor": "white",
           "ticks": "",
           "title": {
            "standoff": 15
           },
           "zerolinecolor": "white",
           "zerolinewidth": 2
          },
          "yaxis": {
           "automargin": true,
           "gridcolor": "white",
           "linecolor": "white",
           "ticks": "",
           "title": {
            "standoff": 15
           },
           "zerolinecolor": "white",
           "zerolinewidth": 2
          }
         }
        },
        "title": {
         "text": "Topic Clustering Graph"
        },
        "xaxis": {
         "anchor": "y",
         "domain": [
          0,
          1
         ],
         "title": {
          "text": "x"
         }
        },
        "yaxis": {
         "anchor": "x",
         "domain": [
          0,
          1
         ],
         "title": {
          "text": "y"
         }
        }
       }
      }
     },
     "metadata": {},
     "output_type": "display_data"
    }
   ],
   "source": [
    "visualize_topic_cluster_tsne(lda_model, df)"
   ]
  },
  {
   "cell_type": "markdown",
   "id": "749fea08",
   "metadata": {},
   "source": [
    "This generates a 3D clustering graph where the x and y-axis represent each article in the topic space, and the z-axis shows the sentiment value for each article. The 2D xy-plane is exactly the same as the 2D graph generated above, but we add a 3rd dimension in the form of sentiment to show how article clusters differ by their sentiment value as well as their topics. Colored by main topic."
   ]
  },
  {
   "cell_type": "code",
   "execution_count": null,
   "id": "329b2fc7",
   "metadata": {},
   "outputs": [
    {
     "name": "stdout",
     "output_type": "stream",
     "text": [
      "[t-SNE] Computing 16 nearest neighbors...\n",
      "[t-SNE] Indexed 17 samples in 0.001s...\n",
      "[t-SNE] Computed neighbors for 17 samples in 0.015s...\n",
      "[t-SNE] Computed conditional probabilities for sample 17 / 17\n",
      "[t-SNE] Mean sigma: 0.333712\n",
      "[t-SNE] KL divergence after 250 iterations with early exaggeration: 55.363495\n",
      "[t-SNE] KL divergence after 1000 iterations: 0.105411\n"
     ]
    },
    {
     "data": {
      "application/vnd.plotly.v1+json": {
       "config": {
        "plotlyServerURL": "https://plot.ly"
       },
       "data": [
        {
         "customdata": [
          [
           5,
           "White House on defensive over Hunter Biden art sales",
           [
            [
             "say",
             "president",
             "son",
             "buyer",
             "artwork",
             "purchase",
             "year",
             "work",
             "know",
             "target"
            ]
           ],
           "www.nation.com.pk",
           "Positive",
           "0"
          ]
         ],
         "hovertemplate": "ID: %{customdata[0]}<br>Article Title: %{customdata[1]}<br>Associated Words: %{customdata[2]}<br>Address: %{customdata[3]}<br>Sentiment Label: %{customdata[4]}<br>Main Topic: %{customdata[5]}",
         "legendgroup": "0",
         "marker": {
          "color": "#636efa",
          "size": [
           0.9941632747650146
          ],
          "sizemode": "area",
          "sizeref": 0.0024975253641605377,
          "symbol": "circle"
         },
         "mode": "markers",
         "name": "0",
         "scene": "scene",
         "showlegend": true,
         "type": "scatter3d",
         "x": [
          157.05747985839844
         ],
         "y": [
          -8.056323051452637
         ],
         "z": [
          0.1
         ]
        },
        {
         "customdata": [
          [
           0,
           "Hunter Biden's $250K wire from China labeled as a 'personal investment'",
           [
            [
             "wire",
             "say",
             "comer",
             "receive",
             "address",
             "partner",
             "loan",
             "bombshell",
             "beneficiary",
             "news"
            ]
           ],
           "www.foxnews.com",
           "Neutral Positive",
           "2"
          ],
          [
           14,
           "Abrams: Comer’s Biden ‘bombshell’ once again falls way short",
           [
            [
             "wire",
             "say",
             "comer",
             "receive",
             "address",
             "partner",
             "loan",
             "bombshell",
             "beneficiary",
             "news"
            ]
           ],
           "www.newsnationnow.com",
           "Positive",
           "2"
          ]
         ],
         "hovertemplate": "ID: %{customdata[0]}<br>Article Title: %{customdata[1]}<br>Associated Words: %{customdata[2]}<br>Address: %{customdata[3]}<br>Sentiment Label: %{customdata[4]}<br>Main Topic: %{customdata[5]}",
         "legendgroup": "2",
         "marker": {
          "color": "#EF553B",
          "size": [
           0.9974967837333679,
           0.996988832950592
          ],
          "sizemode": "area",
          "sizeref": 0.0024975253641605377,
          "symbol": "circle"
         },
         "mode": "markers",
         "name": "2",
         "scene": "scene",
         "showlegend": true,
         "type": "scatter3d",
         "x": [
          50.320213317871094,
          45.68099594116211
         ],
         "y": [
          209.7364501953125,
          48.90149688720703
         ],
         "z": [
          0.04,
          0.14
         ]
        },
        {
         "customdata": [
          [
           1,
           "DOJ ordered Hunter Biden investigators to 'remove any reference' to Joe Biden in FARA probe warrant: House GOP",
           [
            [
             "say",
             "office",
             "information",
             "attorney",
             "source",
             "charge",
             "foreign",
             "family",
             "relate",
             "son"
            ]
           ],
           "www.foxnews.com",
           "Neutral Positive",
           "3"
          ],
          [
           13,
           "Sen. Grassley demand answers over handling of federal probe into Biden family",
           [
            [
             "say",
             "office",
             "information",
             "attorney",
             "source",
             "charge",
             "foreign",
             "family",
             "relate",
             "son"
            ]
           ],
           "wjla.com",
           "Neutral Negative",
           "3"
          ],
          [
           4,
           "Hunter Biden to plead guilty to federal tax charges, strikes deal on gun charge",
           [
            [
             "say",
             "office",
             "information",
             "attorney",
             "source",
             "charge",
             "foreign",
             "family",
             "relate",
             "son"
            ]
           ],
           "www.nation.com.pk",
           "Negative",
           "3"
          ],
          [
           12,
           "Grassley Reveals New Details of FBI Efforts to Tamper with Far-Reaching Biden Family Investigations",
           [
            [
             "say",
             "office",
             "information",
             "attorney",
             "source",
             "charge",
             "foreign",
             "family",
             "relate",
             "son"
            ]
           ],
           "www.grassley.senate.gov",
           "Neutral Negative",
           "3"
          ],
          [
           11,
           "FBI received 'criminal information' from over 40 confidential sources on Joe Biden, Hunter, James: Grassley",
           [
            [
             "say",
             "office",
             "information",
             "attorney",
             "source",
             "charge",
             "foreign",
             "family",
             "relate",
             "son"
            ]
           ],
           "www.foxnews.com",
           "Negative",
           "3"
          ],
          [
           15,
           "FBI hindered Hunter probe — and David Weiss skipped briefing on Biden bribery allegations, US attorney testifies",
           [
            [
             "say",
             "office",
             "information",
             "attorney",
             "source",
             "charge",
             "foreign",
             "family",
             "relate",
             "son"
            ]
           ],
           "nypost.com",
           "Positive",
           "3"
          ],
          [
           9,
           "Hunter Biden prosecutor wasn’t blocked from bringing California charges, US attorney tells Congress",
           [
            [
             "say",
             "office",
             "information",
             "attorney",
             "source",
             "charge",
             "foreign",
             "family",
             "relate",
             "son"
            ]
           ],
           "apnews.com",
           "Neutral Positive",
           "3"
          ],
          [
           10,
           "Biden-picked LA US attorney claimed he was too ‘resource-strapped’ to charge Hunter",
           [
            [
             "say",
             "office",
             "information",
             "attorney",
             "source",
             "charge",
             "foreign",
             "family",
             "relate",
             "son"
            ]
           ],
           "nypost.com",
           "Neutral",
           "3"
          ]
         ],
         "hovertemplate": "ID: %{customdata[0]}<br>Article Title: %{customdata[1]}<br>Associated Words: %{customdata[2]}<br>Address: %{customdata[3]}<br>Sentiment Label: %{customdata[4]}<br>Main Topic: %{customdata[5]}",
         "legendgroup": "3",
         "marker": {
          "color": "#00cc96",
          "size": [
           0.6036549806594849,
           0.6707826256752014,
           0.9946681261062622,
           0.869540810585022,
           0.9988840222358704,
           0.9979367852210999,
           0.9945656061172485,
           0.9966592192649841
          ],
          "sizemode": "area",
          "sizeref": 0.0024975253641605377,
          "symbol": "circle"
         },
         "mode": "markers",
         "name": "3",
         "scene": "scene",
         "showlegend": true,
         "type": "scatter3d",
         "x": [
          -27.60118865966797,
          -12.477331161499023,
          37.74004364013672,
          -24.63312339782715,
          -71.29851531982422,
          -68.7413101196289,
          -48.450252532958984,
          -59.75859832763672
         ],
         "y": [
          -94.0362548828125,
          161.79026794433594,
          316.9346923828125,
          -137.3385772705078,
          -95.20559692382812,
          -139.08474731445312,
          190.856201171875,
          144.61680603027344
         ],
         "z": [
          0.06,
          -0.02,
          -0.04,
          0,
          -0.03,
          0.07,
          0.04,
          0.03
         ]
        },
        {
         "customdata": [
          [
           8,
           "Comer says he will issue subpoenas 'today' for Hunter Biden, James Biden bank records",
           [
            [
             "say",
             "document",
             "impeachment",
             "hearing",
             "evidence",
             "house",
             "family",
             "president",
             "political",
             "address"
            ]
           ],
           "abcnews.go.com",
           "Neutral",
           "4"
          ],
          [
           6,
           "Hunter Biden figures in ‘multiple criminal investigations”",
           [
            [
             "say",
             "document",
             "impeachment",
             "hearing",
             "evidence",
             "house",
             "family",
             "president",
             "political",
             "address"
            ]
           ],
           "www.nation.com.pk",
           "Negative",
           "4"
          ],
          [
           3,
           "House Republicans make their case for Biden impeachment inquiry at first hearing",
           [
            [
             "say",
             "document",
             "impeachment",
             "hearing",
             "evidence",
             "house",
             "family",
             "president",
             "political",
             "address"
            ]
           ],
           "apnews.com",
           "Neutral",
           "4"
          ],
          [
           7,
           "Hunter Biden probe: House Republicans release more than 700 pages of internal IRS documents from whistleblowers",
           [
            [
             "say",
             "document",
             "impeachment",
             "hearing",
             "evidence",
             "house",
             "family",
             "president",
             "political",
             "address"
            ]
           ],
           "www.cnn.com",
           "Neutral Negative",
           "4"
          ]
         ],
         "hovertemplate": "ID: %{customdata[0]}<br>Article Title: %{customdata[1]}<br>Associated Words: %{customdata[2]}<br>Address: %{customdata[3]}<br>Sentiment Label: %{customdata[4]}<br>Main Topic: %{customdata[5]}",
         "legendgroup": "4",
         "marker": {
          "color": "#ab63fa",
          "size": [
           0.8959267139434814,
           0.9935459494590759,
           0.9983521103858948,
           0.9982192516326904
          ],
          "sizemode": "area",
          "sizeref": 0.0024975253641605377,
          "symbol": "circle"
         },
         "mode": "markers",
         "name": "4",
         "scene": "scene",
         "showlegend": true,
         "type": "scatter3d",
         "x": [
          -94.82291412353516,
          -10.46810531616211,
          15.486411094665527,
          166.39459228515625
         ],
         "y": [
          178.7383575439453,
          220.35572814941406,
          271.5376892089844,
          22.963289260864258
         ],
         "z": [
          0.01,
          -0.11,
          0.02,
          -0.01
         ]
        },
        {
         "customdata": [
          [
           2,
           "Hunter Biden sues Rudy Giuliani over laptop, accuses ex-Trump lawyer of 'hacking'",
           [
            [
             "drug",
             "president",
             "son",
             "nation",
             "month",
             "get",
             "laptop",
             "use",
             "father",
             "crack"
            ]
           ],
           "www.foxnews.com",
           "Negative",
           "6"
          ],
          [
           16,
           "The Real Hunter Biden Scandal",
           [
            [
             "drug",
             "president",
             "son",
             "nation",
             "month",
             "get",
             "laptop",
             "use",
             "father",
             "crack"
            ]
           ],
           "www.thenation.com",
           "Positive",
           "6"
          ]
         ],
         "hovertemplate": "ID: %{customdata[0]}<br>Article Title: %{customdata[1]}<br>Associated Words: %{customdata[2]}<br>Address: %{customdata[3]}<br>Sentiment Label: %{customdata[4]}<br>Main Topic: %{customdata[5]}",
         "legendgroup": "6",
         "marker": {
          "color": "#FFA15A",
          "size": [
           0.9975943565368652,
           0.9990101456642151
          ],
          "sizemode": "area",
          "sizeref": 0.0024975253641605377,
          "symbol": "circle"
         },
         "mode": "markers",
         "name": "6",
         "scene": "scene",
         "showlegend": true,
         "type": "scatter3d",
         "x": [
          -76.73977661132812,
          20.323148727416992
         ],
         "y": [
          226.1561737060547,
          28.814945220947266
         ],
         "z": [
          -0.04,
          0.1
         ]
        }
       ],
       "layout": {
        "legend": {
         "itemsizing": "constant",
         "title": {
          "text": "Main Topic"
         },
         "tracegroupgap": 0
        },
        "scene": {
         "domain": {
          "x": [
           0,
           1
          ],
          "y": [
           0,
           1
          ]
         },
         "xaxis": {
          "title": {
           "text": "x"
          }
         },
         "yaxis": {
          "title": {
           "text": "y"
          }
         },
         "zaxis": {
          "title": {
           "text": "Sentiment Score"
          }
         }
        },
        "template": {
         "data": {
          "bar": [
           {
            "error_x": {
             "color": "#2a3f5f"
            },
            "error_y": {
             "color": "#2a3f5f"
            },
            "marker": {
             "line": {
              "color": "#E5ECF6",
              "width": 0.5
             },
             "pattern": {
              "fillmode": "overlay",
              "size": 10,
              "solidity": 0.2
             }
            },
            "type": "bar"
           }
          ],
          "barpolar": [
           {
            "marker": {
             "line": {
              "color": "#E5ECF6",
              "width": 0.5
             },
             "pattern": {
              "fillmode": "overlay",
              "size": 10,
              "solidity": 0.2
             }
            },
            "type": "barpolar"
           }
          ],
          "carpet": [
           {
            "aaxis": {
             "endlinecolor": "#2a3f5f",
             "gridcolor": "white",
             "linecolor": "white",
             "minorgridcolor": "white",
             "startlinecolor": "#2a3f5f"
            },
            "baxis": {
             "endlinecolor": "#2a3f5f",
             "gridcolor": "white",
             "linecolor": "white",
             "minorgridcolor": "white",
             "startlinecolor": "#2a3f5f"
            },
            "type": "carpet"
           }
          ],
          "choropleth": [
           {
            "colorbar": {
             "outlinewidth": 0,
             "ticks": ""
            },
            "type": "choropleth"
           }
          ],
          "contour": [
           {
            "colorbar": {
             "outlinewidth": 0,
             "ticks": ""
            },
            "colorscale": [
             [
              0,
              "#0d0887"
             ],
             [
              0.1111111111111111,
              "#46039f"
             ],
             [
              0.2222222222222222,
              "#7201a8"
             ],
             [
              0.3333333333333333,
              "#9c179e"
             ],
             [
              0.4444444444444444,
              "#bd3786"
             ],
             [
              0.5555555555555556,
              "#d8576b"
             ],
             [
              0.6666666666666666,
              "#ed7953"
             ],
             [
              0.7777777777777778,
              "#fb9f3a"
             ],
             [
              0.8888888888888888,
              "#fdca26"
             ],
             [
              1,
              "#f0f921"
             ]
            ],
            "type": "contour"
           }
          ],
          "contourcarpet": [
           {
            "colorbar": {
             "outlinewidth": 0,
             "ticks": ""
            },
            "type": "contourcarpet"
           }
          ],
          "heatmap": [
           {
            "colorbar": {
             "outlinewidth": 0,
             "ticks": ""
            },
            "colorscale": [
             [
              0,
              "#0d0887"
             ],
             [
              0.1111111111111111,
              "#46039f"
             ],
             [
              0.2222222222222222,
              "#7201a8"
             ],
             [
              0.3333333333333333,
              "#9c179e"
             ],
             [
              0.4444444444444444,
              "#bd3786"
             ],
             [
              0.5555555555555556,
              "#d8576b"
             ],
             [
              0.6666666666666666,
              "#ed7953"
             ],
             [
              0.7777777777777778,
              "#fb9f3a"
             ],
             [
              0.8888888888888888,
              "#fdca26"
             ],
             [
              1,
              "#f0f921"
             ]
            ],
            "type": "heatmap"
           }
          ],
          "heatmapgl": [
           {
            "colorbar": {
             "outlinewidth": 0,
             "ticks": ""
            },
            "colorscale": [
             [
              0,
              "#0d0887"
             ],
             [
              0.1111111111111111,
              "#46039f"
             ],
             [
              0.2222222222222222,
              "#7201a8"
             ],
             [
              0.3333333333333333,
              "#9c179e"
             ],
             [
              0.4444444444444444,
              "#bd3786"
             ],
             [
              0.5555555555555556,
              "#d8576b"
             ],
             [
              0.6666666666666666,
              "#ed7953"
             ],
             [
              0.7777777777777778,
              "#fb9f3a"
             ],
             [
              0.8888888888888888,
              "#fdca26"
             ],
             [
              1,
              "#f0f921"
             ]
            ],
            "type": "heatmapgl"
           }
          ],
          "histogram": [
           {
            "marker": {
             "pattern": {
              "fillmode": "overlay",
              "size": 10,
              "solidity": 0.2
             }
            },
            "type": "histogram"
           }
          ],
          "histogram2d": [
           {
            "colorbar": {
             "outlinewidth": 0,
             "ticks": ""
            },
            "colorscale": [
             [
              0,
              "#0d0887"
             ],
             [
              0.1111111111111111,
              "#46039f"
             ],
             [
              0.2222222222222222,
              "#7201a8"
             ],
             [
              0.3333333333333333,
              "#9c179e"
             ],
             [
              0.4444444444444444,
              "#bd3786"
             ],
             [
              0.5555555555555556,
              "#d8576b"
             ],
             [
              0.6666666666666666,
              "#ed7953"
             ],
             [
              0.7777777777777778,
              "#fb9f3a"
             ],
             [
              0.8888888888888888,
              "#fdca26"
             ],
             [
              1,
              "#f0f921"
             ]
            ],
            "type": "histogram2d"
           }
          ],
          "histogram2dcontour": [
           {
            "colorbar": {
             "outlinewidth": 0,
             "ticks": ""
            },
            "colorscale": [
             [
              0,
              "#0d0887"
             ],
             [
              0.1111111111111111,
              "#46039f"
             ],
             [
              0.2222222222222222,
              "#7201a8"
             ],
             [
              0.3333333333333333,
              "#9c179e"
             ],
             [
              0.4444444444444444,
              "#bd3786"
             ],
             [
              0.5555555555555556,
              "#d8576b"
             ],
             [
              0.6666666666666666,
              "#ed7953"
             ],
             [
              0.7777777777777778,
              "#fb9f3a"
             ],
             [
              0.8888888888888888,
              "#fdca26"
             ],
             [
              1,
              "#f0f921"
             ]
            ],
            "type": "histogram2dcontour"
           }
          ],
          "mesh3d": [
           {
            "colorbar": {
             "outlinewidth": 0,
             "ticks": ""
            },
            "type": "mesh3d"
           }
          ],
          "parcoords": [
           {
            "line": {
             "colorbar": {
              "outlinewidth": 0,
              "ticks": ""
             }
            },
            "type": "parcoords"
           }
          ],
          "pie": [
           {
            "automargin": true,
            "type": "pie"
           }
          ],
          "scatter": [
           {
            "fillpattern": {
             "fillmode": "overlay",
             "size": 10,
             "solidity": 0.2
            },
            "type": "scatter"
           }
          ],
          "scatter3d": [
           {
            "line": {
             "colorbar": {
              "outlinewidth": 0,
              "ticks": ""
             }
            },
            "marker": {
             "colorbar": {
              "outlinewidth": 0,
              "ticks": ""
             }
            },
            "type": "scatter3d"
           }
          ],
          "scattercarpet": [
           {
            "marker": {
             "colorbar": {
              "outlinewidth": 0,
              "ticks": ""
             }
            },
            "type": "scattercarpet"
           }
          ],
          "scattergeo": [
           {
            "marker": {
             "colorbar": {
              "outlinewidth": 0,
              "ticks": ""
             }
            },
            "type": "scattergeo"
           }
          ],
          "scattergl": [
           {
            "marker": {
             "colorbar": {
              "outlinewidth": 0,
              "ticks": ""
             }
            },
            "type": "scattergl"
           }
          ],
          "scattermapbox": [
           {
            "marker": {
             "colorbar": {
              "outlinewidth": 0,
              "ticks": ""
             }
            },
            "type": "scattermapbox"
           }
          ],
          "scatterpolar": [
           {
            "marker": {
             "colorbar": {
              "outlinewidth": 0,
              "ticks": ""
             }
            },
            "type": "scatterpolar"
           }
          ],
          "scatterpolargl": [
           {
            "marker": {
             "colorbar": {
              "outlinewidth": 0,
              "ticks": ""
             }
            },
            "type": "scatterpolargl"
           }
          ],
          "scatterternary": [
           {
            "marker": {
             "colorbar": {
              "outlinewidth": 0,
              "ticks": ""
             }
            },
            "type": "scatterternary"
           }
          ],
          "surface": [
           {
            "colorbar": {
             "outlinewidth": 0,
             "ticks": ""
            },
            "colorscale": [
             [
              0,
              "#0d0887"
             ],
             [
              0.1111111111111111,
              "#46039f"
             ],
             [
              0.2222222222222222,
              "#7201a8"
             ],
             [
              0.3333333333333333,
              "#9c179e"
             ],
             [
              0.4444444444444444,
              "#bd3786"
             ],
             [
              0.5555555555555556,
              "#d8576b"
             ],
             [
              0.6666666666666666,
              "#ed7953"
             ],
             [
              0.7777777777777778,
              "#fb9f3a"
             ],
             [
              0.8888888888888888,
              "#fdca26"
             ],
             [
              1,
              "#f0f921"
             ]
            ],
            "type": "surface"
           }
          ],
          "table": [
           {
            "cells": {
             "fill": {
              "color": "#EBF0F8"
             },
             "line": {
              "color": "white"
             }
            },
            "header": {
             "fill": {
              "color": "#C8D4E3"
             },
             "line": {
              "color": "white"
             }
            },
            "type": "table"
           }
          ]
         },
         "layout": {
          "annotationdefaults": {
           "arrowcolor": "#2a3f5f",
           "arrowhead": 0,
           "arrowwidth": 1
          },
          "autotypenumbers": "strict",
          "coloraxis": {
           "colorbar": {
            "outlinewidth": 0,
            "ticks": ""
           }
          },
          "colorscale": {
           "diverging": [
            [
             0,
             "#8e0152"
            ],
            [
             0.1,
             "#c51b7d"
            ],
            [
             0.2,
             "#de77ae"
            ],
            [
             0.3,
             "#f1b6da"
            ],
            [
             0.4,
             "#fde0ef"
            ],
            [
             0.5,
             "#f7f7f7"
            ],
            [
             0.6,
             "#e6f5d0"
            ],
            [
             0.7,
             "#b8e186"
            ],
            [
             0.8,
             "#7fbc41"
            ],
            [
             0.9,
             "#4d9221"
            ],
            [
             1,
             "#276419"
            ]
           ],
           "sequential": [
            [
             0,
             "#0d0887"
            ],
            [
             0.1111111111111111,
             "#46039f"
            ],
            [
             0.2222222222222222,
             "#7201a8"
            ],
            [
             0.3333333333333333,
             "#9c179e"
            ],
            [
             0.4444444444444444,
             "#bd3786"
            ],
            [
             0.5555555555555556,
             "#d8576b"
            ],
            [
             0.6666666666666666,
             "#ed7953"
            ],
            [
             0.7777777777777778,
             "#fb9f3a"
            ],
            [
             0.8888888888888888,
             "#fdca26"
            ],
            [
             1,
             "#f0f921"
            ]
           ],
           "sequentialminus": [
            [
             0,
             "#0d0887"
            ],
            [
             0.1111111111111111,
             "#46039f"
            ],
            [
             0.2222222222222222,
             "#7201a8"
            ],
            [
             0.3333333333333333,
             "#9c179e"
            ],
            [
             0.4444444444444444,
             "#bd3786"
            ],
            [
             0.5555555555555556,
             "#d8576b"
            ],
            [
             0.6666666666666666,
             "#ed7953"
            ],
            [
             0.7777777777777778,
             "#fb9f3a"
            ],
            [
             0.8888888888888888,
             "#fdca26"
            ],
            [
             1,
             "#f0f921"
            ]
           ]
          },
          "colorway": [
           "#636efa",
           "#EF553B",
           "#00cc96",
           "#ab63fa",
           "#FFA15A",
           "#19d3f3",
           "#FF6692",
           "#B6E880",
           "#FF97FF",
           "#FECB52"
          ],
          "font": {
           "color": "#2a3f5f"
          },
          "geo": {
           "bgcolor": "white",
           "lakecolor": "white",
           "landcolor": "#E5ECF6",
           "showlakes": true,
           "showland": true,
           "subunitcolor": "white"
          },
          "hoverlabel": {
           "align": "left"
          },
          "hovermode": "closest",
          "mapbox": {
           "style": "light"
          },
          "paper_bgcolor": "white",
          "plot_bgcolor": "#E5ECF6",
          "polar": {
           "angularaxis": {
            "gridcolor": "white",
            "linecolor": "white",
            "ticks": ""
           },
           "bgcolor": "#E5ECF6",
           "radialaxis": {
            "gridcolor": "white",
            "linecolor": "white",
            "ticks": ""
           }
          },
          "scene": {
           "xaxis": {
            "backgroundcolor": "#E5ECF6",
            "gridcolor": "white",
            "gridwidth": 2,
            "linecolor": "white",
            "showbackground": true,
            "ticks": "",
            "zerolinecolor": "white"
           },
           "yaxis": {
            "backgroundcolor": "#E5ECF6",
            "gridcolor": "white",
            "gridwidth": 2,
            "linecolor": "white",
            "showbackground": true,
            "ticks": "",
            "zerolinecolor": "white"
           },
           "zaxis": {
            "backgroundcolor": "#E5ECF6",
            "gridcolor": "white",
            "gridwidth": 2,
            "linecolor": "white",
            "showbackground": true,
            "ticks": "",
            "zerolinecolor": "white"
           }
          },
          "shapedefaults": {
           "line": {
            "color": "#2a3f5f"
           }
          },
          "ternary": {
           "aaxis": {
            "gridcolor": "white",
            "linecolor": "white",
            "ticks": ""
           },
           "baxis": {
            "gridcolor": "white",
            "linecolor": "white",
            "ticks": ""
           },
           "bgcolor": "#E5ECF6",
           "caxis": {
            "gridcolor": "white",
            "linecolor": "white",
            "ticks": ""
           }
          },
          "title": {
           "x": 0.05
          },
          "xaxis": {
           "automargin": true,
           "gridcolor": "white",
           "linecolor": "white",
           "ticks": "",
           "title": {
            "standoff": 15
           },
           "zerolinecolor": "white",
           "zerolinewidth": 2
          },
          "yaxis": {
           "automargin": true,
           "gridcolor": "white",
           "linecolor": "white",
           "ticks": "",
           "title": {
            "standoff": 15
           },
           "zerolinecolor": "white",
           "zerolinewidth": 2
          }
         }
        },
        "title": {
         "text": "Topic Clustering Graph"
        }
       }
      }
     },
     "metadata": {},
     "output_type": "display_data"
    }
   ],
   "source": [
    "visualize_topic_cluster_tsne_3d(lda_model, df)"
   ]
  },
  {
   "cell_type": "markdown",
   "id": "69a452f5",
   "metadata": {},
   "source": [
    "## Subjectivity vs Sentiment of Articles for a single topic"
   ]
  },
  {
   "cell_type": "markdown",
   "id": "92b721a6",
   "metadata": {},
   "source": [
    "Will iterate through our list_of_topics_to_visualize and will make a graph for each topic number in that list as well as that topic's word cloud of the top 10 topic words for that topic. So for each topic we want to look at, it will show all the articles with that topic as their main topic, and plot the articles on their subjectivity vs sentiment. A higher subjectivity will show you that the author chose more opinionated words, rather than relying on neutral, factual statements. Compare that with the sentiment value to show whether they are positive and negative towards that topic, and how factual vs. opinionated their claims were. The word cloud will simply tell you what words are in that topic."
   ]
  },
  {
   "cell_type": "code",
   "execution_count": null,
   "id": "8cb3e81c",
   "metadata": {
    "scrolled": true
   },
   "outputs": [
    {
     "data": {
      "application/vnd.plotly.v1+json": {
       "config": {
        "plotlyServerURL": "https://plot.ly"
       },
       "data": [
        {
         "customdata": [],
         "hovertemplate": "ID: %{customdata[0]}<br>Article Title: %{customdata[1]}<br>Associated Words: %{customdata[2]}<br>Address: %{customdata[3]}<br>Sentiment Score: %{customdata[4]}<br>Subjectivity Score: %{customdata[5]}<br>Main Topic: %{customdata[6]}",
         "hovertext": [],
         "legendgroup": "",
         "marker": {
          "color": "#636efa",
          "size": [],
          "sizemode": "area",
          "sizeref": null,
          "symbol": "circle"
         },
         "mode": "markers",
         "name": "",
         "orientation": "v",
         "showlegend": false,
         "type": "scatter",
         "x": [],
         "xaxis": "x",
         "y": [],
         "yaxis": "y"
        }
       ],
       "layout": {
        "legend": {
         "itemsizing": "constant",
         "tracegroupgap": 0
        },
        "template": {
         "data": {
          "bar": [
           {
            "error_x": {
             "color": "#2a3f5f"
            },
            "error_y": {
             "color": "#2a3f5f"
            },
            "marker": {
             "line": {
              "color": "#E5ECF6",
              "width": 0.5
             },
             "pattern": {
              "fillmode": "overlay",
              "size": 10,
              "solidity": 0.2
             }
            },
            "type": "bar"
           }
          ],
          "barpolar": [
           {
            "marker": {
             "line": {
              "color": "#E5ECF6",
              "width": 0.5
             },
             "pattern": {
              "fillmode": "overlay",
              "size": 10,
              "solidity": 0.2
             }
            },
            "type": "barpolar"
           }
          ],
          "carpet": [
           {
            "aaxis": {
             "endlinecolor": "#2a3f5f",
             "gridcolor": "white",
             "linecolor": "white",
             "minorgridcolor": "white",
             "startlinecolor": "#2a3f5f"
            },
            "baxis": {
             "endlinecolor": "#2a3f5f",
             "gridcolor": "white",
             "linecolor": "white",
             "minorgridcolor": "white",
             "startlinecolor": "#2a3f5f"
            },
            "type": "carpet"
           }
          ],
          "choropleth": [
           {
            "colorbar": {
             "outlinewidth": 0,
             "ticks": ""
            },
            "type": "choropleth"
           }
          ],
          "contour": [
           {
            "colorbar": {
             "outlinewidth": 0,
             "ticks": ""
            },
            "colorscale": [
             [
              0,
              "#0d0887"
             ],
             [
              0.1111111111111111,
              "#46039f"
             ],
             [
              0.2222222222222222,
              "#7201a8"
             ],
             [
              0.3333333333333333,
              "#9c179e"
             ],
             [
              0.4444444444444444,
              "#bd3786"
             ],
             [
              0.5555555555555556,
              "#d8576b"
             ],
             [
              0.6666666666666666,
              "#ed7953"
             ],
             [
              0.7777777777777778,
              "#fb9f3a"
             ],
             [
              0.8888888888888888,
              "#fdca26"
             ],
             [
              1,
              "#f0f921"
             ]
            ],
            "type": "contour"
           }
          ],
          "contourcarpet": [
           {
            "colorbar": {
             "outlinewidth": 0,
             "ticks": ""
            },
            "type": "contourcarpet"
           }
          ],
          "heatmap": [
           {
            "colorbar": {
             "outlinewidth": 0,
             "ticks": ""
            },
            "colorscale": [
             [
              0,
              "#0d0887"
             ],
             [
              0.1111111111111111,
              "#46039f"
             ],
             [
              0.2222222222222222,
              "#7201a8"
             ],
             [
              0.3333333333333333,
              "#9c179e"
             ],
             [
              0.4444444444444444,
              "#bd3786"
             ],
             [
              0.5555555555555556,
              "#d8576b"
             ],
             [
              0.6666666666666666,
              "#ed7953"
             ],
             [
              0.7777777777777778,
              "#fb9f3a"
             ],
             [
              0.8888888888888888,
              "#fdca26"
             ],
             [
              1,
              "#f0f921"
             ]
            ],
            "type": "heatmap"
           }
          ],
          "heatmapgl": [
           {
            "colorbar": {
             "outlinewidth": 0,
             "ticks": ""
            },
            "colorscale": [
             [
              0,
              "#0d0887"
             ],
             [
              0.1111111111111111,
              "#46039f"
             ],
             [
              0.2222222222222222,
              "#7201a8"
             ],
             [
              0.3333333333333333,
              "#9c179e"
             ],
             [
              0.4444444444444444,
              "#bd3786"
             ],
             [
              0.5555555555555556,
              "#d8576b"
             ],
             [
              0.6666666666666666,
              "#ed7953"
             ],
             [
              0.7777777777777778,
              "#fb9f3a"
             ],
             [
              0.8888888888888888,
              "#fdca26"
             ],
             [
              1,
              "#f0f921"
             ]
            ],
            "type": "heatmapgl"
           }
          ],
          "histogram": [
           {
            "marker": {
             "pattern": {
              "fillmode": "overlay",
              "size": 10,
              "solidity": 0.2
             }
            },
            "type": "histogram"
           }
          ],
          "histogram2d": [
           {
            "colorbar": {
             "outlinewidth": 0,
             "ticks": ""
            },
            "colorscale": [
             [
              0,
              "#0d0887"
             ],
             [
              0.1111111111111111,
              "#46039f"
             ],
             [
              0.2222222222222222,
              "#7201a8"
             ],
             [
              0.3333333333333333,
              "#9c179e"
             ],
             [
              0.4444444444444444,
              "#bd3786"
             ],
             [
              0.5555555555555556,
              "#d8576b"
             ],
             [
              0.6666666666666666,
              "#ed7953"
             ],
             [
              0.7777777777777778,
              "#fb9f3a"
             ],
             [
              0.8888888888888888,
              "#fdca26"
             ],
             [
              1,
              "#f0f921"
             ]
            ],
            "type": "histogram2d"
           }
          ],
          "histogram2dcontour": [
           {
            "colorbar": {
             "outlinewidth": 0,
             "ticks": ""
            },
            "colorscale": [
             [
              0,
              "#0d0887"
             ],
             [
              0.1111111111111111,
              "#46039f"
             ],
             [
              0.2222222222222222,
              "#7201a8"
             ],
             [
              0.3333333333333333,
              "#9c179e"
             ],
             [
              0.4444444444444444,
              "#bd3786"
             ],
             [
              0.5555555555555556,
              "#d8576b"
             ],
             [
              0.6666666666666666,
              "#ed7953"
             ],
             [
              0.7777777777777778,
              "#fb9f3a"
             ],
             [
              0.8888888888888888,
              "#fdca26"
             ],
             [
              1,
              "#f0f921"
             ]
            ],
            "type": "histogram2dcontour"
           }
          ],
          "mesh3d": [
           {
            "colorbar": {
             "outlinewidth": 0,
             "ticks": ""
            },
            "type": "mesh3d"
           }
          ],
          "parcoords": [
           {
            "line": {
             "colorbar": {
              "outlinewidth": 0,
              "ticks": ""
             }
            },
            "type": "parcoords"
           }
          ],
          "pie": [
           {
            "automargin": true,
            "type": "pie"
           }
          ],
          "scatter": [
           {
            "fillpattern": {
             "fillmode": "overlay",
             "size": 10,
             "solidity": 0.2
            },
            "type": "scatter"
           }
          ],
          "scatter3d": [
           {
            "line": {
             "colorbar": {
              "outlinewidth": 0,
              "ticks": ""
             }
            },
            "marker": {
             "colorbar": {
              "outlinewidth": 0,
              "ticks": ""
             }
            },
            "type": "scatter3d"
           }
          ],
          "scattercarpet": [
           {
            "marker": {
             "colorbar": {
              "outlinewidth": 0,
              "ticks": ""
             }
            },
            "type": "scattercarpet"
           }
          ],
          "scattergeo": [
           {
            "marker": {
             "colorbar": {
              "outlinewidth": 0,
              "ticks": ""
             }
            },
            "type": "scattergeo"
           }
          ],
          "scattergl": [
           {
            "marker": {
             "colorbar": {
              "outlinewidth": 0,
              "ticks": ""
             }
            },
            "type": "scattergl"
           }
          ],
          "scattermapbox": [
           {
            "marker": {
             "colorbar": {
              "outlinewidth": 0,
              "ticks": ""
             }
            },
            "type": "scattermapbox"
           }
          ],
          "scatterpolar": [
           {
            "marker": {
             "colorbar": {
              "outlinewidth": 0,
              "ticks": ""
             }
            },
            "type": "scatterpolar"
           }
          ],
          "scatterpolargl": [
           {
            "marker": {
             "colorbar": {
              "outlinewidth": 0,
              "ticks": ""
             }
            },
            "type": "scatterpolargl"
           }
          ],
          "scatterternary": [
           {
            "marker": {
             "colorbar": {
              "outlinewidth": 0,
              "ticks": ""
             }
            },
            "type": "scatterternary"
           }
          ],
          "surface": [
           {
            "colorbar": {
             "outlinewidth": 0,
             "ticks": ""
            },
            "colorscale": [
             [
              0,
              "#0d0887"
             ],
             [
              0.1111111111111111,
              "#46039f"
             ],
             [
              0.2222222222222222,
              "#7201a8"
             ],
             [
              0.3333333333333333,
              "#9c179e"
             ],
             [
              0.4444444444444444,
              "#bd3786"
             ],
             [
              0.5555555555555556,
              "#d8576b"
             ],
             [
              0.6666666666666666,
              "#ed7953"
             ],
             [
              0.7777777777777778,
              "#fb9f3a"
             ],
             [
              0.8888888888888888,
              "#fdca26"
             ],
             [
              1,
              "#f0f921"
             ]
            ],
            "type": "surface"
           }
          ],
          "table": [
           {
            "cells": {
             "fill": {
              "color": "#EBF0F8"
             },
             "line": {
              "color": "white"
             }
            },
            "header": {
             "fill": {
              "color": "#C8D4E3"
             },
             "line": {
              "color": "white"
             }
            },
            "type": "table"
           }
          ]
         },
         "layout": {
          "annotationdefaults": {
           "arrowcolor": "#2a3f5f",
           "arrowhead": 0,
           "arrowwidth": 1
          },
          "autotypenumbers": "strict",
          "coloraxis": {
           "colorbar": {
            "outlinewidth": 0,
            "ticks": ""
           }
          },
          "colorscale": {
           "diverging": [
            [
             0,
             "#8e0152"
            ],
            [
             0.1,
             "#c51b7d"
            ],
            [
             0.2,
             "#de77ae"
            ],
            [
             0.3,
             "#f1b6da"
            ],
            [
             0.4,
             "#fde0ef"
            ],
            [
             0.5,
             "#f7f7f7"
            ],
            [
             0.6,
             "#e6f5d0"
            ],
            [
             0.7,
             "#b8e186"
            ],
            [
             0.8,
             "#7fbc41"
            ],
            [
             0.9,
             "#4d9221"
            ],
            [
             1,
             "#276419"
            ]
           ],
           "sequential": [
            [
             0,
             "#0d0887"
            ],
            [
             0.1111111111111111,
             "#46039f"
            ],
            [
             0.2222222222222222,
             "#7201a8"
            ],
            [
             0.3333333333333333,
             "#9c179e"
            ],
            [
             0.4444444444444444,
             "#bd3786"
            ],
            [
             0.5555555555555556,
             "#d8576b"
            ],
            [
             0.6666666666666666,
             "#ed7953"
            ],
            [
             0.7777777777777778,
             "#fb9f3a"
            ],
            [
             0.8888888888888888,
             "#fdca26"
            ],
            [
             1,
             "#f0f921"
            ]
           ],
           "sequentialminus": [
            [
             0,
             "#0d0887"
            ],
            [
             0.1111111111111111,
             "#46039f"
            ],
            [
             0.2222222222222222,
             "#7201a8"
            ],
            [
             0.3333333333333333,
             "#9c179e"
            ],
            [
             0.4444444444444444,
             "#bd3786"
            ],
            [
             0.5555555555555556,
             "#d8576b"
            ],
            [
             0.6666666666666666,
             "#ed7953"
            ],
            [
             0.7777777777777778,
             "#fb9f3a"
            ],
            [
             0.8888888888888888,
             "#fdca26"
            ],
            [
             1,
             "#f0f921"
            ]
           ]
          },
          "colorway": [
           "#636efa",
           "#EF553B",
           "#00cc96",
           "#ab63fa",
           "#FFA15A",
           "#19d3f3",
           "#FF6692",
           "#B6E880",
           "#FF97FF",
           "#FECB52"
          ],
          "font": {
           "color": "#2a3f5f"
          },
          "geo": {
           "bgcolor": "white",
           "lakecolor": "white",
           "landcolor": "#E5ECF6",
           "showlakes": true,
           "showland": true,
           "subunitcolor": "white"
          },
          "hoverlabel": {
           "align": "left"
          },
          "hovermode": "closest",
          "mapbox": {
           "style": "light"
          },
          "paper_bgcolor": "white",
          "plot_bgcolor": "#E5ECF6",
          "polar": {
           "angularaxis": {
            "gridcolor": "white",
            "linecolor": "white",
            "ticks": ""
           },
           "bgcolor": "#E5ECF6",
           "radialaxis": {
            "gridcolor": "white",
            "linecolor": "white",
            "ticks": ""
           }
          },
          "scene": {
           "xaxis": {
            "backgroundcolor": "#E5ECF6",
            "gridcolor": "white",
            "gridwidth": 2,
            "linecolor": "white",
            "showbackground": true,
            "ticks": "",
            "zerolinecolor": "white"
           },
           "yaxis": {
            "backgroundcolor": "#E5ECF6",
            "gridcolor": "white",
            "gridwidth": 2,
            "linecolor": "white",
            "showbackground": true,
            "ticks": "",
            "zerolinecolor": "white"
           },
           "zaxis": {
            "backgroundcolor": "#E5ECF6",
            "gridcolor": "white",
            "gridwidth": 2,
            "linecolor": "white",
            "showbackground": true,
            "ticks": "",
            "zerolinecolor": "white"
           }
          },
          "shapedefaults": {
           "line": {
            "color": "#2a3f5f"
           }
          },
          "ternary": {
           "aaxis": {
            "gridcolor": "white",
            "linecolor": "white",
            "ticks": ""
           },
           "baxis": {
            "gridcolor": "white",
            "linecolor": "white",
            "ticks": ""
           },
           "bgcolor": "#E5ECF6",
           "caxis": {
            "gridcolor": "white",
            "linecolor": "white",
            "ticks": ""
           }
          },
          "title": {
           "x": 0.05
          },
          "xaxis": {
           "automargin": true,
           "gridcolor": "white",
           "linecolor": "white",
           "ticks": "",
           "title": {
            "standoff": 15
           },
           "zerolinecolor": "white",
           "zerolinewidth": 2
          },
          "yaxis": {
           "automargin": true,
           "gridcolor": "white",
           "linecolor": "white",
           "ticks": "",
           "title": {
            "standoff": 15
           },
           "zerolinecolor": "white",
           "zerolinewidth": 2
          }
         }
        },
        "title": {
         "text": "Sentiment Analysis on Topic 1"
        },
        "xaxis": {
         "anchor": "y",
         "domain": [
          0,
          1
         ],
         "title": {
          "text": "Subjectivity Score"
         }
        },
        "yaxis": {
         "anchor": "x",
         "domain": [
          0,
          1
         ],
         "title": {
          "text": "Sentiment Score"
         }
        }
       }
      }
     },
     "metadata": {},
     "output_type": "display_data"
    },
    {
     "data": {
      "image/png": "[encoded data removed]",
      "text/plain": [
       "<Figure size 600x600 with 1 Axes>"
      ]
     },
     "metadata": {},
     "output_type": "display_data"
    },
    {
     "data": {
      "application/vnd.plotly.v1+json": {
       "config": {
        "plotlyServerURL": "https://plot.ly"
       },
       "data": [
        {
         "customdata": [
          [
           0,
           "Hunter Biden's $250K wire from China labeled as a 'personal investment'",
           [
            [
             "wire",
             "say",
             "comer",
             "receive",
             "address",
             "partner",
             "loan",
             "bombshell",
             "beneficiary",
             "news"
            ]
           ],
           "www.foxnews.com",
           0.04,
           0.24,
           2
          ],
          [
           14,
           "Abrams: Comer’s Biden ‘bombshell’ once again falls way short",
           [
            [
             "wire",
             "say",
             "comer",
             "receive",
             "address",
             "partner",
             "loan",
             "bombshell",
             "beneficiary",
             "news"
            ]
           ],
           "www.newsnationnow.com",
           0.14,
           0.43,
           2
          ]
         ],
         "hovertemplate": "ID: %{customdata[0]}<br>Article Title: %{customdata[1]}<br>Associated Words: %{customdata[2]}<br>Address: %{customdata[3]}<br>Sentiment Score: %{customdata[4]}<br>Subjectivity Score: %{customdata[5]}<br>Main Topic: %{customdata[6]}",
         "hovertext": [
          "www.foxnews.com",
          "www.newsnationnow.com"
         ],
         "legendgroup": "",
         "marker": {
          "color": "#636efa",
          "size": [
           0.9974967837333679,
           0.996988832950592
          ],
          "sizemode": "area",
          "sizeref": 0.00249374195933342,
          "symbol": "circle"
         },
         "mode": "markers",
         "name": "",
         "orientation": "v",
         "showlegend": false,
         "type": "scatter",
         "x": [
          0.24,
          0.43
         ],
         "xaxis": "x",
         "y": [
          0.04,
          0.14
         ],
         "yaxis": "y"
        }
       ],
       "layout": {
        "legend": {
         "itemsizing": "constant",
         "tracegroupgap": 0
        },
        "template": {
         "data": {
          "bar": [
           {
            "error_x": {
             "color": "#2a3f5f"
            },
            "error_y": {
             "color": "#2a3f5f"
            },
            "marker": {
             "line": {
              "color": "#E5ECF6",
              "width": 0.5
             },
             "pattern": {
              "fillmode": "overlay",
              "size": 10,
              "solidity": 0.2
             }
            },
            "type": "bar"
           }
          ],
          "barpolar": [
           {
            "marker": {
             "line": {
              "color": "#E5ECF6",
              "width": 0.5
             },
             "pattern": {
              "fillmode": "overlay",
              "size": 10,
              "solidity": 0.2
             }
            },
            "type": "barpolar"
           }
          ],
          "carpet": [
           {
            "aaxis": {
             "endlinecolor": "#2a3f5f",
             "gridcolor": "white",
             "linecolor": "white",
             "minorgridcolor": "white",
             "startlinecolor": "#2a3f5f"
            },
            "baxis": {
             "endlinecolor": "#2a3f5f",
             "gridcolor": "white",
             "linecolor": "white",
             "minorgridcolor": "white",
             "startlinecolor": "#2a3f5f"
            },
            "type": "carpet"
           }
          ],
          "choropleth": [
           {
            "colorbar": {
             "outlinewidth": 0,
             "ticks": ""
            },
            "type": "choropleth"
           }
          ],
          "contour": [
           {
            "colorbar": {
             "outlinewidth": 0,
             "ticks": ""
            },
            "colorscale": [
             [
              0,
              "#0d0887"
             ],
             [
              0.1111111111111111,
              "#46039f"
             ],
             [
              0.2222222222222222,
              "#7201a8"
             ],
             [
              0.3333333333333333,
              "#9c179e"
             ],
             [
              0.4444444444444444,
              "#bd3786"
             ],
             [
              0.5555555555555556,
              "#d8576b"
             ],
             [
              0.6666666666666666,
              "#ed7953"
             ],
             [
              0.7777777777777778,
              "#fb9f3a"
             ],
             [
              0.8888888888888888,
              "#fdca26"
             ],
             [
              1,
              "#f0f921"
             ]
            ],
            "type": "contour"
           }
          ],
          "contourcarpet": [
           {
            "colorbar": {
             "outlinewidth": 0,
             "ticks": ""
            },
            "type": "contourcarpet"
           }
          ],
          "heatmap": [
           {
            "colorbar": {
             "outlinewidth": 0,
             "ticks": ""
            },
            "colorscale": [
             [
              0,
              "#0d0887"
             ],
             [
              0.1111111111111111,
              "#46039f"
             ],
             [
              0.2222222222222222,
              "#7201a8"
             ],
             [
              0.3333333333333333,
              "#9c179e"
             ],
             [
              0.4444444444444444,
              "#bd3786"
             ],
             [
              0.5555555555555556,
              "#d8576b"
             ],
             [
              0.6666666666666666,
              "#ed7953"
             ],
             [
              0.7777777777777778,
              "#fb9f3a"
             ],
             [
              0.8888888888888888,
              "#fdca26"
             ],
             [
              1,
              "#f0f921"
             ]
            ],
            "type": "heatmap"
           }
          ],
          "heatmapgl": [
           {
            "colorbar": {
             "outlinewidth": 0,
             "ticks": ""
            },
            "colorscale": [
             [
              0,
              "#0d0887"
             ],
             [
              0.1111111111111111,
              "#46039f"
             ],
             [
              0.2222222222222222,
              "#7201a8"
             ],
             [
              0.3333333333333333,
              "#9c179e"
             ],
             [
              0.4444444444444444,
              "#bd3786"
             ],
             [
              0.5555555555555556,
              "#d8576b"
             ],
             [
              0.6666666666666666,
              "#ed7953"
             ],
             [
              0.7777777777777778,
              "#fb9f3a"
             ],
             [
              0.8888888888888888,
              "#fdca26"
             ],
             [
              1,
              "#f0f921"
             ]
            ],
            "type": "heatmapgl"
           }
          ],
          "histogram": [
           {
            "marker": {
             "pattern": {
              "fillmode": "overlay",
              "size": 10,
              "solidity": 0.2
             }
            },
            "type": "histogram"
           }
          ],
          "histogram2d": [
           {
            "colorbar": {
             "outlinewidth": 0,
             "ticks": ""
            },
            "colorscale": [
             [
              0,
              "#0d0887"
             ],
             [
              0.1111111111111111,
              "#46039f"
             ],
             [
              0.2222222222222222,
              "#7201a8"
             ],
             [
              0.3333333333333333,
              "#9c179e"
             ],
             [
              0.4444444444444444,
              "#bd3786"
             ],
             [
              0.5555555555555556,
              "#d8576b"
             ],
             [
              0.6666666666666666,
              "#ed7953"
             ],
             [
              0.7777777777777778,
              "#fb9f3a"
             ],
             [
              0.8888888888888888,
              "#fdca26"
             ],
             [
              1,
              "#f0f921"
             ]
            ],
            "type": "histogram2d"
           }
          ],
          "histogram2dcontour": [
           {
            "colorbar": {
             "outlinewidth": 0,
             "ticks": ""
            },
            "colorscale": [
             [
              0,
              "#0d0887"
             ],
             [
              0.1111111111111111,
              "#46039f"
             ],
             [
              0.2222222222222222,
              "#7201a8"
             ],
             [
              0.3333333333333333,
              "#9c179e"
             ],
             [
              0.4444444444444444,
              "#bd3786"
             ],
             [
              0.5555555555555556,
              "#d8576b"
             ],
             [
              0.6666666666666666,
              "#ed7953"
             ],
             [
              0.7777777777777778,
              "#fb9f3a"
             ],
             [
              0.8888888888888888,
              "#fdca26"
             ],
             [
              1,
              "#f0f921"
             ]
            ],
            "type": "histogram2dcontour"
           }
          ],
          "mesh3d": [
           {
            "colorbar": {
             "outlinewidth": 0,
             "ticks": ""
            },
            "type": "mesh3d"
           }
          ],
          "parcoords": [
           {
            "line": {
             "colorbar": {
              "outlinewidth": 0,
              "ticks": ""
             }
            },
            "type": "parcoords"
           }
          ],
          "pie": [
           {
            "automargin": true,
            "type": "pie"
           }
          ],
          "scatter": [
           {
            "fillpattern": {
             "fillmode": "overlay",
             "size": 10,
             "solidity": 0.2
            },
            "type": "scatter"
           }
          ],
          "scatter3d": [
           {
            "line": {
             "colorbar": {
              "outlinewidth": 0,
              "ticks": ""
             }
            },
            "marker": {
             "colorbar": {
              "outlinewidth": 0,
              "ticks": ""
             }
            },
            "type": "scatter3d"
           }
          ],
          "scattercarpet": [
           {
            "marker": {
             "colorbar": {
              "outlinewidth": 0,
              "ticks": ""
             }
            },
            "type": "scattercarpet"
           }
          ],
          "scattergeo": [
           {
            "marker": {
             "colorbar": {
              "outlinewidth": 0,
              "ticks": ""
             }
            },
            "type": "scattergeo"
           }
          ],
          "scattergl": [
           {
            "marker": {
             "colorbar": {
              "outlinewidth": 0,
              "ticks": ""
             }
            },
            "type": "scattergl"
           }
          ],
          "scattermapbox": [
           {
            "marker": {
             "colorbar": {
              "outlinewidth": 0,
              "ticks": ""
             }
            },
            "type": "scattermapbox"
           }
          ],
          "scatterpolar": [
           {
            "marker": {
             "colorbar": {
              "outlinewidth": 0,
              "ticks": ""
             }
            },
            "type": "scatterpolar"
           }
          ],
          "scatterpolargl": [
           {
            "marker": {
             "colorbar": {
              "outlinewidth": 0,
              "ticks": ""
             }
            },
            "type": "scatterpolargl"
           }
          ],
          "scatterternary": [
           {
            "marker": {
             "colorbar": {
              "outlinewidth": 0,
              "ticks": ""
             }
            },
            "type": "scatterternary"
           }
          ],
          "surface": [
           {
            "colorbar": {
             "outlinewidth": 0,
             "ticks": ""
            },
            "colorscale": [
             [
              0,
              "#0d0887"
             ],
             [
              0.1111111111111111,
              "#46039f"
             ],
             [
              0.2222222222222222,
              "#7201a8"
             ],
             [
              0.3333333333333333,
              "#9c179e"
             ],
             [
              0.4444444444444444,
              "#bd3786"
             ],
             [
              0.5555555555555556,
              "#d8576b"
             ],
             [
              0.6666666666666666,
              "#ed7953"
             ],
             [
              0.7777777777777778,
              "#fb9f3a"
             ],
             [
              0.8888888888888888,
              "#fdca26"
             ],
             [
              1,
              "#f0f921"
             ]
            ],
            "type": "surface"
           }
          ],
          "table": [
           {
            "cells": {
             "fill": {
              "color": "#EBF0F8"
             },
             "line": {
              "color": "white"
             }
            },
            "header": {
             "fill": {
              "color": "#C8D4E3"
             },
             "line": {
              "color": "white"
             }
            },
            "type": "table"
           }
          ]
         },
         "layout": {
          "annotationdefaults": {
           "arrowcolor": "#2a3f5f",
           "arrowhead": 0,
           "arrowwidth": 1
          },
          "autotypenumbers": "strict",
          "coloraxis": {
           "colorbar": {
            "outlinewidth": 0,
            "ticks": ""
           }
          },
          "colorscale": {
           "diverging": [
            [
             0,
             "#8e0152"
            ],
            [
             0.1,
             "#c51b7d"
            ],
            [
             0.2,
             "#de77ae"
            ],
            [
             0.3,
             "#f1b6da"
            ],
            [
             0.4,
             "#fde0ef"
            ],
            [
             0.5,
             "#f7f7f7"
            ],
            [
             0.6,
             "#e6f5d0"
            ],
            [
             0.7,
             "#b8e186"
            ],
            [
             0.8,
             "#7fbc41"
            ],
            [
             0.9,
             "#4d9221"
            ],
            [
             1,
             "#276419"
            ]
           ],
           "sequential": [
            [
             0,
             "#0d0887"
            ],
            [
             0.1111111111111111,
             "#46039f"
            ],
            [
             0.2222222222222222,
             "#7201a8"
            ],
            [
             0.3333333333333333,
             "#9c179e"
            ],
            [
             0.4444444444444444,
             "#bd3786"
            ],
            [
             0.5555555555555556,
             "#d8576b"
            ],
            [
             0.6666666666666666,
             "#ed7953"
            ],
            [
             0.7777777777777778,
             "#fb9f3a"
            ],
            [
             0.8888888888888888,
             "#fdca26"
            ],
            [
             1,
             "#f0f921"
            ]
           ],
           "sequentialminus": [
            [
             0,
             "#0d0887"
            ],
            [
             0.1111111111111111,
             "#46039f"
            ],
            [
             0.2222222222222222,
             "#7201a8"
            ],
            [
             0.3333333333333333,
             "#9c179e"
            ],
            [
             0.4444444444444444,
             "#bd3786"
            ],
            [
             0.5555555555555556,
             "#d8576b"
            ],
            [
             0.6666666666666666,
             "#ed7953"
            ],
            [
             0.7777777777777778,
             "#fb9f3a"
            ],
            [
             0.8888888888888888,
             "#fdca26"
            ],
            [
             1,
             "#f0f921"
            ]
           ]
          },
          "colorway": [
           "#636efa",
           "#EF553B",
           "#00cc96",
           "#ab63fa",
           "#FFA15A",
           "#19d3f3",
           "#FF6692",
           "#B6E880",
           "#FF97FF",
           "#FECB52"
          ],
          "font": {
           "color": "#2a3f5f"
          },
          "geo": {
           "bgcolor": "white",
           "lakecolor": "white",
           "landcolor": "#E5ECF6",
           "showlakes": true,
           "showland": true,
           "subunitcolor": "white"
          },
          "hoverlabel": {
           "align": "left"
          },
          "hovermode": "closest",
          "mapbox": {
           "style": "light"
          },
          "paper_bgcolor": "white",
          "plot_bgcolor": "#E5ECF6",
          "polar": {
           "angularaxis": {
            "gridcolor": "white",
            "linecolor": "white",
            "ticks": ""
           },
           "bgcolor": "#E5ECF6",
           "radialaxis": {
            "gridcolor": "white",
            "linecolor": "white",
            "ticks": ""
           }
          },
          "scene": {
           "xaxis": {
            "backgroundcolor": "#E5ECF6",
            "gridcolor": "white",
            "gridwidth": 2,
            "linecolor": "white",
            "showbackground": true,
            "ticks": "",
            "zerolinecolor": "white"
           },
           "yaxis": {
            "backgroundcolor": "#E5ECF6",
            "gridcolor": "white",
            "gridwidth": 2,
            "linecolor": "white",
            "showbackground": true,
            "ticks": "",
            "zerolinecolor": "white"
           },
           "zaxis": {
            "backgroundcolor": "#E5ECF6",
            "gridcolor": "white",
            "gridwidth": 2,
            "linecolor": "white",
            "showbackground": true,
            "ticks": "",
            "zerolinecolor": "white"
           }
          },
          "shapedefaults": {
           "line": {
            "color": "#2a3f5f"
           }
          },
          "ternary": {
           "aaxis": {
            "gridcolor": "white",
            "linecolor": "white",
            "ticks": ""
           },
           "baxis": {
            "gridcolor": "white",
            "linecolor": "white",
            "ticks": ""
           },
           "bgcolor": "#E5ECF6",
           "caxis": {
            "gridcolor": "white",
            "linecolor": "white",
            "ticks": ""
           }
          },
          "title": {
           "x": 0.05
          },
          "xaxis": {
           "automargin": true,
           "gridcolor": "white",
           "linecolor": "white",
           "ticks": "",
           "title": {
            "standoff": 15
           },
           "zerolinecolor": "white",
           "zerolinewidth": 2
          },
          "yaxis": {
           "automargin": true,
           "gridcolor": "white",
           "linecolor": "white",
           "ticks": "",
           "title": {
            "standoff": 15
           },
           "zerolinecolor": "white",
           "zerolinewidth": 2
          }
         }
        },
        "title": {
         "text": "Sentiment Analysis on Topic 2"
        },
        "xaxis": {
         "anchor": "y",
         "domain": [
          0,
          1
         ],
         "title": {
          "text": "Subjectivity Score"
         }
        },
        "yaxis": {
         "anchor": "x",
         "domain": [
          0,
          1
         ],
         "title": {
          "text": "Sentiment Score"
         }
        }
       }
      }
     },
     "metadata": {},
     "output_type": "display_data"
    },
    {
     "data": {
      "image/png": "[encoded data removed]",
      "text/plain": [
       "<Figure size 600x600 with 1 Axes>"
      ]
     },
     "metadata": {},
     "output_type": "display_data"
    }
   ],
   "source": [
    "# Using our list_of_topics_to_visualize list in the customizable settings, \n",
    "# produce a graph for each topic\n",
    "for topic_id in list_of_topics_to_visualize:\n",
    "    if topic_id <= len(lda_model.print_topics()) - 1:\n",
    "        visualize_single_topic_subjectivity_vs_sentiment(df, topic_id)\n",
    "        visualize_topic_word_cloud(lda_model, topic_id)\n",
    "    else:\n",
    "        print(\"Error, topic_id {0} not availible\".format(topic_id))\n"
   ]
  },
  {
   "cell_type": "markdown",
   "id": "f184ac6b",
   "metadata": {},
   "source": [
    "## Generating 2D and 3D Cluster Graphs of Topics (K means Clustering)"
   ]
  },
  {
   "cell_type": "markdown",
   "id": "84b465b0",
   "metadata": {},
   "source": [
    "Generate a visual of number of topic clusters vs inertia (WCSS score) of the model (low inertia is good). We want to find the optimal number of topic clusters to use, and you can use the \"elbow method\" on this graph to find it. Ideally, the number of clusters is as small as possible and the inertia is also as small as possible. So to find the point where increasing the number of clusters gives diminishing returns on the inertia score, we imagine the line graph as an arm and use the number of clusters at the \"elbow\", or the point on the graph where the slope becomes much closer to 0 than the point before."
   ]
  },
  {
   "cell_type": "code",
   "execution_count": null,
   "id": "65098654",
   "metadata": {
    "scrolled": false
   },
   "outputs": [
    {
     "data": {
      "image/png": "[encoded data removed]",
      "text/plain": [
       "<Figure size 1000x1000 with 1 Axes>"
      ]
     },
     "metadata": {},
     "output_type": "display_data"
    }
   ],
   "source": [
    "visualize_optimal_cluster_count(df_topics= df_topics,\n",
    "                                max_clusters= kmeans_settings[\"max_clusters\"],\n",
    "                                pca_components= kmeans_settings[\"pca_components\"])\n"
   ]
  },
  {
   "cell_type": "markdown",
   "id": "75cabb2b",
   "metadata": {},
   "source": [
    "This will generate the topic space in 2D with every article represented as a single point. Very similar to the t-SNE clustering graph, this visualization has the same goal: show topic clusters of articles that are very similar in topic and overall theme. Points closer together means they have very similar topics, while points further apart will be less related. This visualization uses the relevance of each topic to an article as the data behind the clustering. Articles are colored by the user-selected number of clusters (not by main topic)."
   ]
  },
  {
   "cell_type": "code",
   "execution_count": null,
   "id": "75bab1e8",
   "metadata": {
    "scrolled": false
   },
   "outputs": [
    {
     "data": {
      "application/vnd.plotly.v1+json": {
       "config": {
        "plotlyServerURL": "https://plot.ly"
       },
       "data": [
        {
         "customdata": [
          [
           13,
           "Sen. Grassley demand answers over handling of federal probe into Biden family",
           [
            [
             "say",
             "office",
             "information",
             "attorney",
             "source",
             "charge",
             "foreign",
             "family",
             "relate",
             "son"
            ]
           ],
           "wjla.com",
           "Neutral Negative",
           3
          ],
          [
           4,
           "Hunter Biden to plead guilty to federal tax charges, strikes deal on gun charge",
           [
            [
             "say",
             "office",
             "information",
             "attorney",
             "source",
             "charge",
             "foreign",
             "family",
             "relate",
             "son"
            ]
           ],
           "www.nation.com.pk",
           "Negative",
           3
          ],
          [
           12,
           "Grassley Reveals New Details of FBI Efforts to Tamper with Far-Reaching Biden Family Investigations",
           [
            [
             "say",
             "office",
             "information",
             "attorney",
             "source",
             "charge",
             "foreign",
             "family",
             "relate",
             "son"
            ]
           ],
           "www.grassley.senate.gov",
           "Neutral Negative",
           3
          ],
          [
           15,
           "FBI hindered Hunter probe — and David Weiss skipped briefing on Biden bribery allegations, US attorney testifies",
           [
            [
             "say",
             "office",
             "information",
             "attorney",
             "source",
             "charge",
             "foreign",
             "family",
             "relate",
             "son"
            ]
           ],
           "nypost.com",
           "Positive",
           3
          ],
          [
           9,
           "Hunter Biden prosecutor wasn’t blocked from bringing California charges, US attorney tells Congress",
           [
            [
             "say",
             "office",
             "information",
             "attorney",
             "source",
             "charge",
             "foreign",
             "family",
             "relate",
             "son"
            ]
           ],
           "apnews.com",
           "Neutral Positive",
           3
          ],
          [
           10,
           "Biden-picked LA US attorney claimed he was too ‘resource-strapped’ to charge Hunter",
           [
            [
             "say",
             "office",
             "information",
             "attorney",
             "source",
             "charge",
             "foreign",
             "family",
             "relate",
             "son"
            ]
           ],
           "nypost.com",
           "Neutral",
           3
          ],
          [
           11,
           "FBI received 'criminal information' from over 40 confidential sources on Joe Biden, Hunter, James: Grassley",
           [
            [
             "say",
             "office",
             "information",
             "attorney",
             "source",
             "charge",
             "foreign",
             "family",
             "relate",
             "son"
            ]
           ],
           "www.foxnews.com",
           "Negative",
           3
          ]
         ],
         "hovertemplate": "ID: %{customdata[0]}<br>Article Title: %{customdata[1]}<br>Associated Words: %{customdata[2]}<br>Address: %{customdata[3]}<br>Sentiment Label: %{customdata[4]}<br>Main Topic: %{customdata[5]}",
         "legendgroup": "0",
         "marker": {
          "color": "#636efa",
          "symbol": "circle"
         },
         "mode": "markers",
         "name": "0",
         "orientation": "v",
         "showlegend": true,
         "type": "scatter",
         "x": [
          -0.3702540993690491,
          -0.6361729502677917,
          -0.5235762000083923,
          -0.6392545104026794,
          -0.6360765099525452,
          -0.6380500793457031,
          -0.6401472687721252
         ],
         "xaxis": "x",
         "y": [
          -0.0031550282146781683,
          -0.14780044555664062,
          -0.045010726898908615,
          -0.14910326898097992,
          -0.14775961637496948,
          -0.14859431982040405,
          -0.14948102831840515
         ],
         "yaxis": "y"
        },
        {
         "customdata": [
          [
           8,
           "Comer says he will issue subpoenas 'today' for Hunter Biden, James Biden bank records",
           [
            [
             "say",
             "document",
             "impeachment",
             "hearing",
             "evidence",
             "house",
             "family",
             "president",
             "political",
             "address"
            ]
           ],
           "abcnews.go.com",
           "Neutral",
           4
          ],
          [
           3,
           "House Republicans make their case for Biden impeachment inquiry at first hearing",
           [
            [
             "say",
             "document",
             "impeachment",
             "hearing",
             "evidence",
             "house",
             "family",
             "president",
             "political",
             "address"
            ]
           ],
           "apnews.com",
           "Neutral",
           4
          ],
          [
           6,
           "Hunter Biden figures in ‘multiple criminal investigations”",
           [
            [
             "say",
             "document",
             "impeachment",
             "hearing",
             "evidence",
             "house",
             "family",
             "president",
             "political",
             "address"
            ]
           ],
           "www.nation.com.pk",
           "Negative",
           4
          ],
          [
           7,
           "Hunter Biden probe: House Republicans release more than 700 pages of internal IRS documents from whistleblowers",
           [
            [
             "say",
             "document",
             "impeachment",
             "hearing",
             "evidence",
             "house",
             "family",
             "president",
             "political",
             "address"
            ]
           ],
           "www.cnn.com",
           "Neutral Negative",
           4
          ]
         ],
         "hovertemplate": "ID: %{customdata[0]}<br>Article Title: %{customdata[1]}<br>Associated Words: %{customdata[2]}<br>Address: %{customdata[3]}<br>Sentiment Label: %{customdata[4]}<br>Main Topic: %{customdata[5]}",
         "legendgroup": "1",
         "marker": {
          "color": "#EF553B",
          "symbol": "circle"
         },
         "mode": "markers",
         "name": "1",
         "orientation": "v",
         "showlegend": true,
         "type": "scatter",
         "x": [
          0.686633288860321,
          0.7308202385902405,
          0.7276479005813599,
          0.730732262134552
         ],
         "xaxis": "x",
         "y": [
          -0.3689672648906708,
          -0.4819084405899048,
          -0.4781241714954376,
          -0.48180416226387024
         ],
         "yaxis": "y"
        },
        {
         "customdata": [
          [
           14,
           "Abrams: Comer’s Biden ‘bombshell’ once again falls way short",
           [
            [
             "wire",
             "say",
             "comer",
             "receive",
             "address",
             "partner",
             "loan",
             "bombshell",
             "beneficiary",
             "news"
            ]
           ],
           "www.newsnationnow.com",
           "Positive",
           2
          ],
          [
           0,
           "Hunter Biden's $250K wire from China labeled as a 'personal investment'",
           [
            [
             "wire",
             "say",
             "comer",
             "receive",
             "address",
             "partner",
             "loan",
             "bombshell",
             "beneficiary",
             "news"
            ]
           ],
           "www.foxnews.com",
           "Neutral Positive",
           2
          ],
          [
           2,
           "Hunter Biden sues Rudy Giuliani over laptop, accuses ex-Trump lawyer of 'hacking'",
           [
            [
             "drug",
             "president",
             "son",
             "nation",
             "month",
             "get",
             "laptop",
             "use",
             "father",
             "crack"
            ]
           ],
           "www.foxnews.com",
           "Negative",
           6
          ],
          [
           5,
           "White House on defensive over Hunter Biden art sales",
           [
            [
             "say",
             "president",
             "son",
             "buyer",
             "artwork",
             "purchase",
             "year",
             "work",
             "know",
             "target"
            ]
           ],
           "www.nation.com.pk",
           "Positive",
           0
          ],
          [
           16,
           "The Real Hunter Biden Scandal",
           [
            [
             "drug",
             "president",
             "son",
             "nation",
             "month",
             "get",
             "laptop",
             "use",
             "father",
             "crack"
            ]
           ],
           "www.thenation.com",
           "Positive",
           6
          ]
         ],
         "hovertemplate": "ID: %{customdata[0]}<br>Article Title: %{customdata[1]}<br>Associated Words: %{customdata[2]}<br>Address: %{customdata[3]}<br>Sentiment Label: %{customdata[4]}<br>Main Topic: %{customdata[5]}",
         "legendgroup": "2",
         "marker": {
          "color": "#00cc96",
          "symbol": "circle"
         },
         "mode": "markers",
         "name": "2",
         "orientation": "v",
         "showlegend": true,
         "type": "scatter",
         "x": [
          0.3047694265842438,
          0.3048517107963562,
          0.25864729285240173,
          0.17844516038894653,
          0.25880035758018494
         ],
         "xaxis": "x",
         "y": [
          0.6245918273925781,
          0.6248486638069153,
          0.667798638343811,
          0.2964648902416229,
          0.6685876250267029
         ],
         "yaxis": "y"
        },
        {
         "customdata": [
          [
           1,
           "DOJ ordered Hunter Biden investigators to 'remove any reference' to Joe Biden in FARA probe warrant: House GOP",
           [
            [
             "say",
             "office",
             "information",
             "attorney",
             "source",
             "charge",
             "foreign",
             "family",
             "relate",
             "son"
            ]
           ],
           "www.foxnews.com",
           "Neutral Positive",
           3
          ]
         ],
         "hovertemplate": "ID: %{customdata[0]}<br>Article Title: %{customdata[1]}<br>Associated Words: %{customdata[2]}<br>Address: %{customdata[3]}<br>Sentiment Label: %{customdata[4]}<br>Main Topic: %{customdata[5]}",
         "legendgroup": "3",
         "marker": {
          "color": "#ab63fa",
          "symbol": "circle"
         },
         "mode": "markers",
         "name": "3",
         "orientation": "v",
         "showlegend": true,
         "type": "scatter",
         "x": [
          -0.09781580418348312
         ],
         "xaxis": "x",
         "y": [
          -0.2805829346179962
         ],
         "yaxis": "y"
        }
       ],
       "layout": {
        "legend": {
         "title": {
          "text": "Cluster"
         },
         "tracegroupgap": 0
        },
        "margin": {
         "t": 60
        },
        "template": {
         "data": {
          "bar": [
           {
            "error_x": {
             "color": "#2a3f5f"
            },
            "error_y": {
             "color": "#2a3f5f"
            },
            "marker": {
             "line": {
              "color": "#E5ECF6",
              "width": 0.5
             },
             "pattern": {
              "fillmode": "overlay",
              "size": 10,
              "solidity": 0.2
             }
            },
            "type": "bar"
           }
          ],
          "barpolar": [
           {
            "marker": {
             "line": {
              "color": "#E5ECF6",
              "width": 0.5
             },
             "pattern": {
              "fillmode": "overlay",
              "size": 10,
              "solidity": 0.2
             }
            },
            "type": "barpolar"
           }
          ],
          "carpet": [
           {
            "aaxis": {
             "endlinecolor": "#2a3f5f",
             "gridcolor": "white",
             "linecolor": "white",
             "minorgridcolor": "white",
             "startlinecolor": "#2a3f5f"
            },
            "baxis": {
             "endlinecolor": "#2a3f5f",
             "gridcolor": "white",
             "linecolor": "white",
             "minorgridcolor": "white",
             "startlinecolor": "#2a3f5f"
            },
            "type": "carpet"
           }
          ],
          "choropleth": [
           {
            "colorbar": {
             "outlinewidth": 0,
             "ticks": ""
            },
            "type": "choropleth"
           }
          ],
          "contour": [
           {
            "colorbar": {
             "outlinewidth": 0,
             "ticks": ""
            },
            "colorscale": [
             [
              0,
              "#0d0887"
             ],
             [
              0.1111111111111111,
              "#46039f"
             ],
             [
              0.2222222222222222,
              "#7201a8"
             ],
             [
              0.3333333333333333,
              "#9c179e"
             ],
             [
              0.4444444444444444,
              "#bd3786"
             ],
             [
              0.5555555555555556,
              "#d8576b"
             ],
             [
              0.6666666666666666,
              "#ed7953"
             ],
             [
              0.7777777777777778,
              "#fb9f3a"
             ],
             [
              0.8888888888888888,
              "#fdca26"
             ],
             [
              1,
              "#f0f921"
             ]
            ],
            "type": "contour"
           }
          ],
          "contourcarpet": [
           {
            "colorbar": {
             "outlinewidth": 0,
             "ticks": ""
            },
            "type": "contourcarpet"
           }
          ],
          "heatmap": [
           {
            "colorbar": {
             "outlinewidth": 0,
             "ticks": ""
            },
            "colorscale": [
             [
              0,
              "#0d0887"
             ],
             [
              0.1111111111111111,
              "#46039f"
             ],
             [
              0.2222222222222222,
              "#7201a8"
             ],
             [
              0.3333333333333333,
              "#9c179e"
             ],
             [
              0.4444444444444444,
              "#bd3786"
             ],
             [
              0.5555555555555556,
              "#d8576b"
             ],
             [
              0.6666666666666666,
              "#ed7953"
             ],
             [
              0.7777777777777778,
              "#fb9f3a"
             ],
             [
              0.8888888888888888,
              "#fdca26"
             ],
             [
              1,
              "#f0f921"
             ]
            ],
            "type": "heatmap"
           }
          ],
          "heatmapgl": [
           {
            "colorbar": {
             "outlinewidth": 0,
             "ticks": ""
            },
            "colorscale": [
             [
              0,
              "#0d0887"
             ],
             [
              0.1111111111111111,
              "#46039f"
             ],
             [
              0.2222222222222222,
              "#7201a8"
             ],
             [
              0.3333333333333333,
              "#9c179e"
             ],
             [
              0.4444444444444444,
              "#bd3786"
             ],
             [
              0.5555555555555556,
              "#d8576b"
             ],
             [
              0.6666666666666666,
              "#ed7953"
             ],
             [
              0.7777777777777778,
              "#fb9f3a"
             ],
             [
              0.8888888888888888,
              "#fdca26"
             ],
             [
              1,
              "#f0f921"
             ]
            ],
            "type": "heatmapgl"
           }
          ],
          "histogram": [
           {
            "marker": {
             "pattern": {
              "fillmode": "overlay",
              "size": 10,
              "solidity": 0.2
             }
            },
            "type": "histogram"
           }
          ],
          "histogram2d": [
           {
            "colorbar": {
             "outlinewidth": 0,
             "ticks": ""
            },
            "colorscale": [
             [
              0,
              "#0d0887"
             ],
             [
              0.1111111111111111,
              "#46039f"
             ],
             [
              0.2222222222222222,
              "#7201a8"
             ],
             [
              0.3333333333333333,
              "#9c179e"
             ],
             [
              0.4444444444444444,
              "#bd3786"
             ],
             [
              0.5555555555555556,
              "#d8576b"
             ],
             [
              0.6666666666666666,
              "#ed7953"
             ],
             [
              0.7777777777777778,
              "#fb9f3a"
             ],
             [
              0.8888888888888888,
              "#fdca26"
             ],
             [
              1,
              "#f0f921"
             ]
            ],
            "type": "histogram2d"
           }
          ],
          "histogram2dcontour": [
           {
            "colorbar": {
             "outlinewidth": 0,
             "ticks": ""
            },
            "colorscale": [
             [
              0,
              "#0d0887"
             ],
             [
              0.1111111111111111,
              "#46039f"
             ],
             [
              0.2222222222222222,
              "#7201a8"
             ],
             [
              0.3333333333333333,
              "#9c179e"
             ],
             [
              0.4444444444444444,
              "#bd3786"
             ],
             [
              0.5555555555555556,
              "#d8576b"
             ],
             [
              0.6666666666666666,
              "#ed7953"
             ],
             [
              0.7777777777777778,
              "#fb9f3a"
             ],
             [
              0.8888888888888888,
              "#fdca26"
             ],
             [
              1,
              "#f0f921"
             ]
            ],
            "type": "histogram2dcontour"
           }
          ],
          "mesh3d": [
           {
            "colorbar": {
             "outlinewidth": 0,
             "ticks": ""
            },
            "type": "mesh3d"
           }
          ],
          "parcoords": [
           {
            "line": {
             "colorbar": {
              "outlinewidth": 0,
              "ticks": ""
             }
            },
            "type": "parcoords"
           }
          ],
          "pie": [
           {
            "automargin": true,
            "type": "pie"
           }
          ],
          "scatter": [
           {
            "fillpattern": {
             "fillmode": "overlay",
             "size": 10,
             "solidity": 0.2
            },
            "type": "scatter"
           }
          ],
          "scatter3d": [
           {
            "line": {
             "colorbar": {
              "outlinewidth": 0,
              "ticks": ""
             }
            },
            "marker": {
             "colorbar": {
              "outlinewidth": 0,
              "ticks": ""
             }
            },
            "type": "scatter3d"
           }
          ],
          "scattercarpet": [
           {
            "marker": {
             "colorbar": {
              "outlinewidth": 0,
              "ticks": ""
             }
            },
            "type": "scattercarpet"
           }
          ],
          "scattergeo": [
           {
            "marker": {
             "colorbar": {
              "outlinewidth": 0,
              "ticks": ""
             }
            },
            "type": "scattergeo"
           }
          ],
          "scattergl": [
           {
            "marker": {
             "colorbar": {
              "outlinewidth": 0,
              "ticks": ""
             }
            },
            "type": "scattergl"
           }
          ],
          "scattermapbox": [
           {
            "marker": {
             "colorbar": {
              "outlinewidth": 0,
              "ticks": ""
             }
            },
            "type": "scattermapbox"
           }
          ],
          "scatterpolar": [
           {
            "marker": {
             "colorbar": {
              "outlinewidth": 0,
              "ticks": ""
             }
            },
            "type": "scatterpolar"
           }
          ],
          "scatterpolargl": [
           {
            "marker": {
             "colorbar": {
              "outlinewidth": 0,
              "ticks": ""
             }
            },
            "type": "scatterpolargl"
           }
          ],
          "scatterternary": [
           {
            "marker": {
             "colorbar": {
              "outlinewidth": 0,
              "ticks": ""
             }
            },
            "type": "scatterternary"
           }
          ],
          "surface": [
           {
            "colorbar": {
             "outlinewidth": 0,
             "ticks": ""
            },
            "colorscale": [
             [
              0,
              "#0d0887"
             ],
             [
              0.1111111111111111,
              "#46039f"
             ],
             [
              0.2222222222222222,
              "#7201a8"
             ],
             [
              0.3333333333333333,
              "#9c179e"
             ],
             [
              0.4444444444444444,
              "#bd3786"
             ],
             [
              0.5555555555555556,
              "#d8576b"
             ],
             [
              0.6666666666666666,
              "#ed7953"
             ],
             [
              0.7777777777777778,
              "#fb9f3a"
             ],
             [
              0.8888888888888888,
              "#fdca26"
             ],
             [
              1,
              "#f0f921"
             ]
            ],
            "type": "surface"
           }
          ],
          "table": [
           {
            "cells": {
             "fill": {
              "color": "#EBF0F8"
             },
             "line": {
              "color": "white"
             }
            },
            "header": {
             "fill": {
              "color": "#C8D4E3"
             },
             "line": {
              "color": "white"
             }
            },
            "type": "table"
           }
          ]
         },
         "layout": {
          "annotationdefaults": {
           "arrowcolor": "#2a3f5f",
           "arrowhead": 0,
           "arrowwidth": 1
          },
          "autotypenumbers": "strict",
          "coloraxis": {
           "colorbar": {
            "outlinewidth": 0,
            "ticks": ""
           }
          },
          "colorscale": {
           "diverging": [
            [
             0,
             "#8e0152"
            ],
            [
             0.1,
             "#c51b7d"
            ],
            [
             0.2,
             "#de77ae"
            ],
            [
             0.3,
             "#f1b6da"
            ],
            [
             0.4,
             "#fde0ef"
            ],
            [
             0.5,
             "#f7f7f7"
            ],
            [
             0.6,
             "#e6f5d0"
            ],
            [
             0.7,
             "#b8e186"
            ],
            [
             0.8,
             "#7fbc41"
            ],
            [
             0.9,
             "#4d9221"
            ],
            [
             1,
             "#276419"
            ]
           ],
           "sequential": [
            [
             0,
             "#0d0887"
            ],
            [
             0.1111111111111111,
             "#46039f"
            ],
            [
             0.2222222222222222,
             "#7201a8"
            ],
            [
             0.3333333333333333,
             "#9c179e"
            ],
            [
             0.4444444444444444,
             "#bd3786"
            ],
            [
             0.5555555555555556,
             "#d8576b"
            ],
            [
             0.6666666666666666,
             "#ed7953"
            ],
            [
             0.7777777777777778,
             "#fb9f3a"
            ],
            [
             0.8888888888888888,
             "#fdca26"
            ],
            [
             1,
             "#f0f921"
            ]
           ],
           "sequentialminus": [
            [
             0,
             "#0d0887"
            ],
            [
             0.1111111111111111,
             "#46039f"
            ],
            [
             0.2222222222222222,
             "#7201a8"
            ],
            [
             0.3333333333333333,
             "#9c179e"
            ],
            [
             0.4444444444444444,
             "#bd3786"
            ],
            [
             0.5555555555555556,
             "#d8576b"
            ],
            [
             0.6666666666666666,
             "#ed7953"
            ],
            [
             0.7777777777777778,
             "#fb9f3a"
            ],
            [
             0.8888888888888888,
             "#fdca26"
            ],
            [
             1,
             "#f0f921"
            ]
           ]
          },
          "colorway": [
           "#636efa",
           "#EF553B",
           "#00cc96",
           "#ab63fa",
           "#FFA15A",
           "#19d3f3",
           "#FF6692",
           "#B6E880",
           "#FF97FF",
           "#FECB52"
          ],
          "font": {
           "color": "#2a3f5f"
          },
          "geo": {
           "bgcolor": "white",
           "lakecolor": "white",
           "landcolor": "#E5ECF6",
           "showlakes": true,
           "showland": true,
           "subunitcolor": "white"
          },
          "hoverlabel": {
           "align": "left"
          },
          "hovermode": "closest",
          "mapbox": {
           "style": "light"
          },
          "paper_bgcolor": "white",
          "plot_bgcolor": "#E5ECF6",
          "polar": {
           "angularaxis": {
            "gridcolor": "white",
            "linecolor": "white",
            "ticks": ""
           },
           "bgcolor": "#E5ECF6",
           "radialaxis": {
            "gridcolor": "white",
            "linecolor": "white",
            "ticks": ""
           }
          },
          "scene": {
           "xaxis": {
            "backgroundcolor": "#E5ECF6",
            "gridcolor": "white",
            "gridwidth": 2,
            "linecolor": "white",
            "showbackground": true,
            "ticks": "",
            "zerolinecolor": "white"
           },
           "yaxis": {
            "backgroundcolor": "#E5ECF6",
            "gridcolor": "white",
            "gridwidth": 2,
            "linecolor": "white",
            "showbackground": true,
            "ticks": "",
            "zerolinecolor": "white"
           },
           "zaxis": {
            "backgroundcolor": "#E5ECF6",
            "gridcolor": "white",
            "gridwidth": 2,
            "linecolor": "white",
            "showbackground": true,
            "ticks": "",
            "zerolinecolor": "white"
           }
          },
          "shapedefaults": {
           "line": {
            "color": "#2a3f5f"
           }
          },
          "ternary": {
           "aaxis": {
            "gridcolor": "white",
            "linecolor": "white",
            "ticks": ""
           },
           "baxis": {
            "gridcolor": "white",
            "linecolor": "white",
            "ticks": ""
           },
           "bgcolor": "#E5ECF6",
           "caxis": {
            "gridcolor": "white",
            "linecolor": "white",
            "ticks": ""
           }
          },
          "title": {
           "x": 0.05
          },
          "xaxis": {
           "automargin": true,
           "gridcolor": "white",
           "linecolor": "white",
           "ticks": "",
           "title": {
            "standoff": 15
           },
           "zerolinecolor": "white",
           "zerolinewidth": 2
          },
          "yaxis": {
           "automargin": true,
           "gridcolor": "white",
           "linecolor": "white",
           "ticks": "",
           "title": {
            "standoff": 15
           },
           "zerolinecolor": "white",
           "zerolinewidth": 2
          }
         }
        },
        "xaxis": {
         "anchor": "y",
         "domain": [
          0,
          1
         ],
         "title": {
          "text": "x"
         }
        },
        "yaxis": {
         "anchor": "x",
         "domain": [
          0,
          1
         ],
         "title": {
          "text": "y"
         }
        }
       }
      }
     },
     "metadata": {},
     "output_type": "display_data"
    }
   ],
   "source": [
    "visualize_kmeans_clustering(dataframe = df,\n",
    "                            df_topics= df_topics,\n",
    "                            num_clusters = kmeans_settings[\"num_clusters\"],\n",
    "                            pca_components = kmeans_settings[\"pca_components\"])\n"
   ]
  },
  {
   "cell_type": "markdown",
   "id": "1ffe2adb",
   "metadata": {},
   "source": [
    "This visualization is a 3D version of the one above, with a 3rd dimension added to represent sentiment value of each article. So the 2D xy-plane will be exactly the same as the visualization above--meant to represent articles in the topic space and how they are related by topic. The third dimension will show every article's sentiment value, to show how clusters or individual articles differ by sentiment (or are closely related!)"
   ]
  },
  {
   "cell_type": "code",
   "execution_count": null,
   "id": "ca9b5c2b",
   "metadata": {
    "scrolled": false
   },
   "outputs": [
    {
     "data": {
      "application/vnd.plotly.v1+json": {
       "config": {
        "plotlyServerURL": "https://plot.ly"
       },
       "data": [
        {
         "customdata": [
          [
           0,
           "Hunter Biden's $250K wire from China labeled as a 'personal investment'",
           [
            [
             "wire",
             "say",
             "comer",
             "receive",
             "address",
             "partner",
             "loan",
             "bombshell",
             "beneficiary",
             "news"
            ]
           ],
           "www.foxnews.com",
           "Neutral Positive",
           2
          ],
          [
           14,
           "Abrams: Comer’s Biden ‘bombshell’ once again falls way short",
           [
            [
             "wire",
             "say",
             "comer",
             "receive",
             "address",
             "partner",
             "loan",
             "bombshell",
             "beneficiary",
             "news"
            ]
           ],
           "www.newsnationnow.com",
           "Positive",
           2
          ],
          [
           5,
           "White House on defensive over Hunter Biden art sales",
           [
            [
             "say",
             "president",
             "son",
             "buyer",
             "artwork",
             "purchase",
             "year",
             "work",
             "know",
             "target"
            ]
           ],
           "www.nation.com.pk",
           "Positive",
           0
          ],
          [
           16,
           "The Real Hunter Biden Scandal",
           [
            [
             "drug",
             "president",
             "son",
             "nation",
             "month",
             "get",
             "laptop",
             "use",
             "father",
             "crack"
            ]
           ],
           "www.thenation.com",
           "Positive",
           6
          ],
          [
           2,
           "Hunter Biden sues Rudy Giuliani over laptop, accuses ex-Trump lawyer of 'hacking'",
           [
            [
             "drug",
             "president",
             "son",
             "nation",
             "month",
             "get",
             "laptop",
             "use",
             "father",
             "crack"
            ]
           ],
           "www.foxnews.com",
           "Negative",
           6
          ]
         ],
         "hovertemplate": "ID: %{customdata[0]}<br>Article Title: %{customdata[1]}<br>Associated Words: %{customdata[2]}<br>Address: %{customdata[3]}<br>Sentiment Label: %{customdata[4]}<br>Main Topic: %{customdata[5]}",
         "legendgroup": "0",
         "marker": {
          "color": "#636efa",
          "symbol": "circle"
         },
         "mode": "markers",
         "name": "0",
         "scene": "scene",
         "showlegend": true,
         "type": "scatter3d",
         "x": [
          0.3048517107963562,
          0.3047694265842438,
          0.17844516038894653,
          0.25880035758018494,
          0.25864729285240173
         ],
         "y": [
          0.6248486638069153,
          0.6245918273925781,
          0.2964648902416229,
          0.6685876250267029,
          0.667798638343811
         ],
         "z": [
          0.04,
          0.14,
          0.1,
          0.1,
          -0.04
         ]
        },
        {
         "customdata": [
          [
           4,
           "Hunter Biden to plead guilty to federal tax charges, strikes deal on gun charge",
           [
            [
             "say",
             "office",
             "information",
             "attorney",
             "source",
             "charge",
             "foreign",
             "family",
             "relate",
             "son"
            ]
           ],
           "www.nation.com.pk",
           "Negative",
           3
          ],
          [
           15,
           "FBI hindered Hunter probe — and David Weiss skipped briefing on Biden bribery allegations, US attorney testifies",
           [
            [
             "say",
             "office",
             "information",
             "attorney",
             "source",
             "charge",
             "foreign",
             "family",
             "relate",
             "son"
            ]
           ],
           "nypost.com",
           "Positive",
           3
          ],
          [
           9,
           "Hunter Biden prosecutor wasn’t blocked from bringing California charges, US attorney tells Congress",
           [
            [
             "say",
             "office",
             "information",
             "attorney",
             "source",
             "charge",
             "foreign",
             "family",
             "relate",
             "son"
            ]
           ],
           "apnews.com",
           "Neutral Positive",
           3
          ],
          [
           10,
           "Biden-picked LA US attorney claimed he was too ‘resource-strapped’ to charge Hunter",
           [
            [
             "say",
             "office",
             "information",
             "attorney",
             "source",
             "charge",
             "foreign",
             "family",
             "relate",
             "son"
            ]
           ],
           "nypost.com",
           "Neutral",
           3
          ],
          [
           11,
           "FBI received 'criminal information' from over 40 confidential sources on Joe Biden, Hunter, James: Grassley",
           [
            [
             "say",
             "office",
             "information",
             "attorney",
             "source",
             "charge",
             "foreign",
             "family",
             "relate",
             "son"
            ]
           ],
           "www.foxnews.com",
           "Negative",
           3
          ],
          [
           12,
           "Grassley Reveals New Details of FBI Efforts to Tamper with Far-Reaching Biden Family Investigations",
           [
            [
             "say",
             "office",
             "information",
             "attorney",
             "source",
             "charge",
             "foreign",
             "family",
             "relate",
             "son"
            ]
           ],
           "www.grassley.senate.gov",
           "Neutral Negative",
           3
          ],
          [
           13,
           "Sen. Grassley demand answers over handling of federal probe into Biden family",
           [
            [
             "say",
             "office",
             "information",
             "attorney",
             "source",
             "charge",
             "foreign",
             "family",
             "relate",
             "son"
            ]
           ],
           "wjla.com",
           "Neutral Negative",
           3
          ]
         ],
         "hovertemplate": "ID: %{customdata[0]}<br>Article Title: %{customdata[1]}<br>Associated Words: %{customdata[2]}<br>Address: %{customdata[3]}<br>Sentiment Label: %{customdata[4]}<br>Main Topic: %{customdata[5]}",
         "legendgroup": "1",
         "marker": {
          "color": "#EF553B",
          "symbol": "circle"
         },
         "mode": "markers",
         "name": "1",
         "scene": "scene",
         "showlegend": true,
         "type": "scatter3d",
         "x": [
          -0.6361729502677917,
          -0.6392545104026794,
          -0.6360765099525452,
          -0.6380500793457031,
          -0.6401472687721252,
          -0.5235762000083923,
          -0.3702540993690491
         ],
         "y": [
          -0.14780044555664062,
          -0.14910326898097992,
          -0.14775961637496948,
          -0.14859431982040405,
          -0.14948102831840515,
          -0.045010726898908615,
          -0.0031550282146781683
         ],
         "z": [
          -0.04,
          0.07,
          0.04,
          0.03,
          -0.03,
          0,
          -0.02
         ]
        },
        {
         "customdata": [
          [
           6,
           "Hunter Biden figures in ‘multiple criminal investigations”",
           [
            [
             "say",
             "document",
             "impeachment",
             "hearing",
             "evidence",
             "house",
             "family",
             "president",
             "political",
             "address"
            ]
           ],
           "www.nation.com.pk",
           "Negative",
           4
          ],
          [
           7,
           "Hunter Biden probe: House Republicans release more than 700 pages of internal IRS documents from whistleblowers",
           [
            [
             "say",
             "document",
             "impeachment",
             "hearing",
             "evidence",
             "house",
             "family",
             "president",
             "political",
             "address"
            ]
           ],
           "www.cnn.com",
           "Neutral Negative",
           4
          ],
          [
           3,
           "House Republicans make their case for Biden impeachment inquiry at first hearing",
           [
            [
             "say",
             "document",
             "impeachment",
             "hearing",
             "evidence",
             "house",
             "family",
             "president",
             "political",
             "address"
            ]
           ],
           "apnews.com",
           "Neutral",
           4
          ],
          [
           8,
           "Comer says he will issue subpoenas 'today' for Hunter Biden, James Biden bank records",
           [
            [
             "say",
             "document",
             "impeachment",
             "hearing",
             "evidence",
             "house",
             "family",
             "president",
             "political",
             "address"
            ]
           ],
           "abcnews.go.com",
           "Neutral",
           4
          ]
         ],
         "hovertemplate": "ID: %{customdata[0]}<br>Article Title: %{customdata[1]}<br>Associated Words: %{customdata[2]}<br>Address: %{customdata[3]}<br>Sentiment Label: %{customdata[4]}<br>Main Topic: %{customdata[5]}",
         "legendgroup": "2",
         "marker": {
          "color": "#00cc96",
          "symbol": "circle"
         },
         "mode": "markers",
         "name": "2",
         "scene": "scene",
         "showlegend": true,
         "type": "scatter3d",
         "x": [
          0.7276479005813599,
          0.730732262134552,
          0.7308202385902405,
          0.686633288860321
         ],
         "y": [
          -0.4781241714954376,
          -0.48180416226387024,
          -0.4819084405899048,
          -0.3689672648906708
         ],
         "z": [
          -0.11,
          -0.01,
          0.02,
          0.01
         ]
        },
        {
         "customdata": [
          [
           1,
           "DOJ ordered Hunter Biden investigators to 'remove any reference' to Joe Biden in FARA probe warrant: House GOP",
           [
            [
             "say",
             "office",
             "information",
             "attorney",
             "source",
             "charge",
             "foreign",
             "family",
             "relate",
             "son"
            ]
           ],
           "www.foxnews.com",
           "Neutral Positive",
           3
          ]
         ],
         "hovertemplate": "ID: %{customdata[0]}<br>Article Title: %{customdata[1]}<br>Associated Words: %{customdata[2]}<br>Address: %{customdata[3]}<br>Sentiment Label: %{customdata[4]}<br>Main Topic: %{customdata[5]}",
         "legendgroup": "3",
         "marker": {
          "color": "#ab63fa",
          "symbol": "circle"
         },
         "mode": "markers",
         "name": "3",
         "scene": "scene",
         "showlegend": true,
         "type": "scatter3d",
         "x": [
          -0.09781580418348312
         ],
         "y": [
          -0.2805829346179962
         ],
         "z": [
          0.06
         ]
        }
       ],
       "layout": {
        "legend": {
         "title": {
          "text": "Cluster"
         },
         "tracegroupgap": 0
        },
        "margin": {
         "t": 60
        },
        "scene": {
         "domain": {
          "x": [
           0,
           1
          ],
          "y": [
           0,
           1
          ]
         },
         "xaxis": {
          "title": {
           "text": "x"
          }
         },
         "yaxis": {
          "title": {
           "text": "y"
          }
         },
         "zaxis": {
          "title": {
           "text": "Sentiment Score"
          }
         }
        },
        "template": {
         "data": {
          "bar": [
           {
            "error_x": {
             "color": "#2a3f5f"
            },
            "error_y": {
             "color": "#2a3f5f"
            },
            "marker": {
             "line": {
              "color": "#E5ECF6",
              "width": 0.5
             },
             "pattern": {
              "fillmode": "overlay",
              "size": 10,
              "solidity": 0.2
             }
            },
            "type": "bar"
           }
          ],
          "barpolar": [
           {
            "marker": {
             "line": {
              "color": "#E5ECF6",
              "width": 0.5
             },
             "pattern": {
              "fillmode": "overlay",
              "size": 10,
              "solidity": 0.2
             }
            },
            "type": "barpolar"
           }
          ],
          "carpet": [
           {
            "aaxis": {
             "endlinecolor": "#2a3f5f",
             "gridcolor": "white",
             "linecolor": "white",
             "minorgridcolor": "white",
             "startlinecolor": "#2a3f5f"
            },
            "baxis": {
             "endlinecolor": "#2a3f5f",
             "gridcolor": "white",
             "linecolor": "white",
             "minorgridcolor": "white",
             "startlinecolor": "#2a3f5f"
            },
            "type": "carpet"
           }
          ],
          "choropleth": [
           {
            "colorbar": {
             "outlinewidth": 0,
             "ticks": ""
            },
            "type": "choropleth"
           }
          ],
          "contour": [
           {
            "colorbar": {
             "outlinewidth": 0,
             "ticks": ""
            },
            "colorscale": [
             [
              0,
              "#0d0887"
             ],
             [
              0.1111111111111111,
              "#46039f"
             ],
             [
              0.2222222222222222,
              "#7201a8"
             ],
             [
              0.3333333333333333,
              "#9c179e"
             ],
             [
              0.4444444444444444,
              "#bd3786"
             ],
             [
              0.5555555555555556,
              "#d8576b"
             ],
             [
              0.6666666666666666,
              "#ed7953"
             ],
             [
              0.7777777777777778,
              "#fb9f3a"
             ],
             [
              0.8888888888888888,
              "#fdca26"
             ],
             [
              1,
              "#f0f921"
             ]
            ],
            "type": "contour"
           }
          ],
          "contourcarpet": [
           {
            "colorbar": {
             "outlinewidth": 0,
             "ticks": ""
            },
            "type": "contourcarpet"
           }
          ],
          "heatmap": [
           {
            "colorbar": {
             "outlinewidth": 0,
             "ticks": ""
            },
            "colorscale": [
             [
              0,
              "#0d0887"
             ],
             [
              0.1111111111111111,
              "#46039f"
             ],
             [
              0.2222222222222222,
              "#7201a8"
             ],
             [
              0.3333333333333333,
              "#9c179e"
             ],
             [
              0.4444444444444444,
              "#bd3786"
             ],
             [
              0.5555555555555556,
              "#d8576b"
             ],
             [
              0.6666666666666666,
              "#ed7953"
             ],
             [
              0.7777777777777778,
              "#fb9f3a"
             ],
             [
              0.8888888888888888,
              "#fdca26"
             ],
             [
              1,
              "#f0f921"
             ]
            ],
            "type": "heatmap"
           }
          ],
          "heatmapgl": [
           {
            "colorbar": {
             "outlinewidth": 0,
             "ticks": ""
            },
            "colorscale": [
             [
              0,
              "#0d0887"
             ],
             [
              0.1111111111111111,
              "#46039f"
             ],
             [
              0.2222222222222222,
              "#7201a8"
             ],
             [
              0.3333333333333333,
              "#9c179e"
             ],
             [
              0.4444444444444444,
              "#bd3786"
             ],
             [
              0.5555555555555556,
              "#d8576b"
             ],
             [
              0.6666666666666666,
              "#ed7953"
             ],
             [
              0.7777777777777778,
              "#fb9f3a"
             ],
             [
              0.8888888888888888,
              "#fdca26"
             ],
             [
              1,
              "#f0f921"
             ]
            ],
            "type": "heatmapgl"
           }
          ],
          "histogram": [
           {
            "marker": {
             "pattern": {
              "fillmode": "overlay",
              "size": 10,
              "solidity": 0.2
             }
            },
            "type": "histogram"
           }
          ],
          "histogram2d": [
           {
            "colorbar": {
             "outlinewidth": 0,
             "ticks": ""
            },
            "colorscale": [
             [
              0,
              "#0d0887"
             ],
             [
              0.1111111111111111,
              "#46039f"
             ],
             [
              0.2222222222222222,
              "#7201a8"
             ],
             [
              0.3333333333333333,
              "#9c179e"
             ],
             [
              0.4444444444444444,
              "#bd3786"
             ],
             [
              0.5555555555555556,
              "#d8576b"
             ],
             [
              0.6666666666666666,
              "#ed7953"
             ],
             [
              0.7777777777777778,
              "#fb9f3a"
             ],
             [
              0.8888888888888888,
              "#fdca26"
             ],
             [
              1,
              "#f0f921"
             ]
            ],
            "type": "histogram2d"
           }
          ],
          "histogram2dcontour": [
           {
            "colorbar": {
             "outlinewidth": 0,
             "ticks": ""
            },
            "colorscale": [
             [
              0,
              "#0d0887"
             ],
             [
              0.1111111111111111,
              "#46039f"
             ],
             [
              0.2222222222222222,
              "#7201a8"
             ],
             [
              0.3333333333333333,
              "#9c179e"
             ],
             [
              0.4444444444444444,
              "#bd3786"
             ],
             [
              0.5555555555555556,
              "#d8576b"
             ],
             [
              0.6666666666666666,
              "#ed7953"
             ],
             [
              0.7777777777777778,
              "#fb9f3a"
             ],
             [
              0.8888888888888888,
              "#fdca26"
             ],
             [
              1,
              "#f0f921"
             ]
            ],
            "type": "histogram2dcontour"
           }
          ],
          "mesh3d": [
           {
            "colorbar": {
             "outlinewidth": 0,
             "ticks": ""
            },
            "type": "mesh3d"
           }
          ],
          "parcoords": [
           {
            "line": {
             "colorbar": {
              "outlinewidth": 0,
              "ticks": ""
             }
            },
            "type": "parcoords"
           }
          ],
          "pie": [
           {
            "automargin": true,
            "type": "pie"
           }
          ],
          "scatter": [
           {
            "fillpattern": {
             "fillmode": "overlay",
             "size": 10,
             "solidity": 0.2
            },
            "type": "scatter"
           }
          ],
          "scatter3d": [
           {
            "line": {
             "colorbar": {
              "outlinewidth": 0,
              "ticks": ""
             }
            },
            "marker": {
             "colorbar": {
              "outlinewidth": 0,
              "ticks": ""
             }
            },
            "type": "scatter3d"
           }
          ],
          "scattercarpet": [
           {
            "marker": {
             "colorbar": {
              "outlinewidth": 0,
              "ticks": ""
             }
            },
            "type": "scattercarpet"
           }
          ],
          "scattergeo": [
           {
            "marker": {
             "colorbar": {
              "outlinewidth": 0,
              "ticks": ""
             }
            },
            "type": "scattergeo"
           }
          ],
          "scattergl": [
           {
            "marker": {
             "colorbar": {
              "outlinewidth": 0,
              "ticks": ""
             }
            },
            "type": "scattergl"
           }
          ],
          "scattermapbox": [
           {
            "marker": {
             "colorbar": {
              "outlinewidth": 0,
              "ticks": ""
             }
            },
            "type": "scattermapbox"
           }
          ],
          "scatterpolar": [
           {
            "marker": {
             "colorbar": {
              "outlinewidth": 0,
              "ticks": ""
             }
            },
            "type": "scatterpolar"
           }
          ],
          "scatterpolargl": [
           {
            "marker": {
             "colorbar": {
              "outlinewidth": 0,
              "ticks": ""
             }
            },
            "type": "scatterpolargl"
           }
          ],
          "scatterternary": [
           {
            "marker": {
             "colorbar": {
              "outlinewidth": 0,
              "ticks": ""
             }
            },
            "type": "scatterternary"
           }
          ],
          "surface": [
           {
            "colorbar": {
             "outlinewidth": 0,
             "ticks": ""
            },
            "colorscale": [
             [
              0,
              "#0d0887"
             ],
             [
              0.1111111111111111,
              "#46039f"
             ],
             [
              0.2222222222222222,
              "#7201a8"
             ],
             [
              0.3333333333333333,
              "#9c179e"
             ],
             [
              0.4444444444444444,
              "#bd3786"
             ],
             [
              0.5555555555555556,
              "#d8576b"
             ],
             [
              0.6666666666666666,
              "#ed7953"
             ],
             [
              0.7777777777777778,
              "#fb9f3a"
             ],
             [
              0.8888888888888888,
              "#fdca26"
             ],
             [
              1,
              "#f0f921"
             ]
            ],
            "type": "surface"
           }
          ],
          "table": [
           {
            "cells": {
             "fill": {
              "color": "#EBF0F8"
             },
             "line": {
              "color": "white"
             }
            },
            "header": {
             "fill": {
              "color": "#C8D4E3"
             },
             "line": {
              "color": "white"
             }
            },
            "type": "table"
           }
          ]
         },
         "layout": {
          "annotationdefaults": {
           "arrowcolor": "#2a3f5f",
           "arrowhead": 0,
           "arrowwidth": 1
          },
          "autotypenumbers": "strict",
          "coloraxis": {
           "colorbar": {
            "outlinewidth": 0,
            "ticks": ""
           }
          },
          "colorscale": {
           "diverging": [
            [
             0,
             "#8e0152"
            ],
            [
             0.1,
             "#c51b7d"
            ],
            [
             0.2,
             "#de77ae"
            ],
            [
             0.3,
             "#f1b6da"
            ],
            [
             0.4,
             "#fde0ef"
            ],
            [
             0.5,
             "#f7f7f7"
            ],
            [
             0.6,
             "#e6f5d0"
            ],
            [
             0.7,
             "#b8e186"
            ],
            [
             0.8,
             "#7fbc41"
            ],
            [
             0.9,
             "#4d9221"
            ],
            [
             1,
             "#276419"
            ]
           ],
           "sequential": [
            [
             0,
             "#0d0887"
            ],
            [
             0.1111111111111111,
             "#46039f"
            ],
            [
             0.2222222222222222,
             "#7201a8"
            ],
            [
             0.3333333333333333,
             "#9c179e"
            ],
            [
             0.4444444444444444,
             "#bd3786"
            ],
            [
             0.5555555555555556,
             "#d8576b"
            ],
            [
             0.6666666666666666,
             "#ed7953"
            ],
            [
             0.7777777777777778,
             "#fb9f3a"
            ],
            [
             0.8888888888888888,
             "#fdca26"
            ],
            [
             1,
             "#f0f921"
            ]
           ],
           "sequentialminus": [
            [
             0,
             "#0d0887"
            ],
            [
             0.1111111111111111,
             "#46039f"
            ],
            [
             0.2222222222222222,
             "#7201a8"
            ],
            [
             0.3333333333333333,
             "#9c179e"
            ],
            [
             0.4444444444444444,
             "#bd3786"
            ],
            [
             0.5555555555555556,
             "#d8576b"
            ],
            [
             0.6666666666666666,
             "#ed7953"
            ],
            [
             0.7777777777777778,
             "#fb9f3a"
            ],
            [
             0.8888888888888888,
             "#fdca26"
            ],
            [
             1,
             "#f0f921"
            ]
           ]
          },
          "colorway": [
           "#636efa",
           "#EF553B",
           "#00cc96",
           "#ab63fa",
           "#FFA15A",
           "#19d3f3",
           "#FF6692",
           "#B6E880",
           "#FF97FF",
           "#FECB52"
          ],
          "font": {
           "color": "#2a3f5f"
          },
          "geo": {
           "bgcolor": "white",
           "lakecolor": "white",
           "landcolor": "#E5ECF6",
           "showlakes": true,
           "showland": true,
           "subunitcolor": "white"
          },
          "hoverlabel": {
           "align": "left"
          },
          "hovermode": "closest",
          "mapbox": {
           "style": "light"
          },
          "paper_bgcolor": "white",
          "plot_bgcolor": "#E5ECF6",
          "polar": {
           "angularaxis": {
            "gridcolor": "white",
            "linecolor": "white",
            "ticks": ""
           },
           "bgcolor": "#E5ECF6",
           "radialaxis": {
            "gridcolor": "white",
            "linecolor": "white",
            "ticks": ""
           }
          },
          "scene": {
           "xaxis": {
            "backgroundcolor": "#E5ECF6",
            "gridcolor": "white",
            "gridwidth": 2,
            "linecolor": "white",
            "showbackground": true,
            "ticks": "",
            "zerolinecolor": "white"
           },
           "yaxis": {
            "backgroundcolor": "#E5ECF6",
            "gridcolor": "white",
            "gridwidth": 2,
            "linecolor": "white",
            "showbackground": true,
            "ticks": "",
            "zerolinecolor": "white"
           },
           "zaxis": {
            "backgroundcolor": "#E5ECF6",
            "gridcolor": "white",
            "gridwidth": 2,
            "linecolor": "white",
            "showbackground": true,
            "ticks": "",
            "zerolinecolor": "white"
           }
          },
          "shapedefaults": {
           "line": {
            "color": "#2a3f5f"
           }
          },
          "ternary": {
           "aaxis": {
            "gridcolor": "white",
            "linecolor": "white",
            "ticks": ""
           },
           "baxis": {
            "gridcolor": "white",
            "linecolor": "white",
            "ticks": ""
           },
           "bgcolor": "#E5ECF6",
           "caxis": {
            "gridcolor": "white",
            "linecolor": "white",
            "ticks": ""
           }
          },
          "title": {
           "x": 0.05
          },
          "xaxis": {
           "automargin": true,
           "gridcolor": "white",
           "linecolor": "white",
           "ticks": "",
           "title": {
            "standoff": 15
           },
           "zerolinecolor": "white",
           "zerolinewidth": 2
          },
          "yaxis": {
           "automargin": true,
           "gridcolor": "white",
           "linecolor": "white",
           "ticks": "",
           "title": {
            "standoff": 15
           },
           "zerolinecolor": "white",
           "zerolinewidth": 2
          }
         }
        }
       }
      }
     },
     "metadata": {},
     "output_type": "display_data"
    }
   ],
   "source": [
    "visualize_kmeans_clustering_3d(dataframe = df,\n",
    "                                      df_topics= df_topics,\n",
    "                                      num_clusters = kmeans_settings[\"num_clusters\"],\n",
    "                                      pca_components = kmeans_settings[\"pca_components\"])"
   ]
  },
  {
   "cell_type": "markdown",
   "id": "ad512fee",
   "metadata": {},
   "source": [
    "## Relevance X Sentiment of Articles K-MEANS"
   ]
  },
  {
   "cell_type": "markdown",
   "id": "7c27d2dd",
   "metadata": {},
   "source": [
    "This visualization is a 2D clustering (using k-means) of the sentiment-weighted topic relevance values of every article. By that, we mean we have the relevance values of each article for every topic. We multiply each of those relevance values by that topic's associated sentiment value for an article, giving us a weighted relevance value based on the sentiment of that article towards that topic.\n",
    "\n",
    "With that information, we use the same clustering algorithm as the 2D k-means graph above to produce a 2D topic space for every article, but this time it is weighted by the article's sentiment towards the topics."
   ]
  },
  {
   "cell_type": "code",
   "execution_count": null,
   "id": "bf536faf",
   "metadata": {},
   "outputs": [
    {
     "data": {
      "application/vnd.plotly.v1+json": {
       "config": {
        "plotlyServerURL": "https://plot.ly"
       },
       "data": [
        {
         "customdata": [
          [
           0,
           "Hunter Biden's $250K wire from China labeled as a 'personal investment'",
           [
            [
             "wire",
             "say",
             "comer",
             "receive",
             "address",
             "partner",
             "loan",
             "bombshell",
             "beneficiary",
             "news"
            ]
           ],
           "www.foxnews.com",
           "Neutral Positive",
           2
          ],
          [
           13,
           "Sen. Grassley demand answers over handling of federal probe into Biden family",
           [
            [
             "say",
             "office",
             "information",
             "attorney",
             "source",
             "charge",
             "foreign",
             "family",
             "relate",
             "son"
            ]
           ],
           "wjla.com",
           "Neutral Negative",
           3
          ],
          [
           12,
           "Grassley Reveals New Details of FBI Efforts to Tamper with Far-Reaching Biden Family Investigations",
           [
            [
             "say",
             "office",
             "information",
             "attorney",
             "source",
             "charge",
             "foreign",
             "family",
             "relate",
             "son"
            ]
           ],
           "www.grassley.senate.gov",
           "Neutral Negative",
           3
          ],
          [
           11,
           "FBI received 'criminal information' from over 40 confidential sources on Joe Biden, Hunter, James: Grassley",
           [
            [
             "say",
             "office",
             "information",
             "attorney",
             "source",
             "charge",
             "foreign",
             "family",
             "relate",
             "son"
            ]
           ],
           "www.foxnews.com",
           "Negative",
           3
          ],
          [
           9,
           "Hunter Biden prosecutor wasn’t blocked from bringing California charges, US attorney tells Congress",
           [
            [
             "say",
             "office",
             "information",
             "attorney",
             "source",
             "charge",
             "foreign",
             "family",
             "relate",
             "son"
            ]
           ],
           "apnews.com",
           "Neutral Positive",
           3
          ],
          [
           7,
           "Hunter Biden probe: House Republicans release more than 700 pages of internal IRS documents from whistleblowers",
           [
            [
             "say",
             "document",
             "impeachment",
             "hearing",
             "evidence",
             "house",
             "family",
             "president",
             "political",
             "address"
            ]
           ],
           "www.cnn.com",
           "Neutral Negative",
           4
          ],
          [
           8,
           "Comer says he will issue subpoenas 'today' for Hunter Biden, James Biden bank records",
           [
            [
             "say",
             "document",
             "impeachment",
             "hearing",
             "evidence",
             "house",
             "family",
             "president",
             "political",
             "address"
            ]
           ],
           "abcnews.go.com",
           "Neutral",
           4
          ],
          [
           5,
           "White House on defensive over Hunter Biden art sales",
           [
            [
             "say",
             "president",
             "son",
             "buyer",
             "artwork",
             "purchase",
             "year",
             "work",
             "know",
             "target"
            ]
           ],
           "www.nation.com.pk",
           "Positive",
           0
          ],
          [
           3,
           "House Republicans make their case for Biden impeachment inquiry at first hearing",
           [
            [
             "say",
             "document",
             "impeachment",
             "hearing",
             "evidence",
             "house",
             "family",
             "president",
             "political",
             "address"
            ]
           ],
           "apnews.com",
           "Neutral",
           4
          ],
          [
           2,
           "Hunter Biden sues Rudy Giuliani over laptop, accuses ex-Trump lawyer of 'hacking'",
           [
            [
             "drug",
             "president",
             "son",
             "nation",
             "month",
             "get",
             "laptop",
             "use",
             "father",
             "crack"
            ]
           ],
           "www.foxnews.com",
           "Negative",
           6
          ],
          [
           6,
           "Hunter Biden figures in ‘multiple criminal investigations”",
           [
            [
             "say",
             "document",
             "impeachment",
             "hearing",
             "evidence",
             "house",
             "family",
             "president",
             "political",
             "address"
            ]
           ],
           "www.nation.com.pk",
           "Negative",
           4
          ],
          [
           16,
           "The Real Hunter Biden Scandal",
           [
            [
             "drug",
             "president",
             "son",
             "nation",
             "month",
             "get",
             "laptop",
             "use",
             "father",
             "crack"
            ]
           ],
           "www.thenation.com",
           "Positive",
           6
          ]
         ],
         "hovertemplate": "ID: %{customdata[0]}<br>Article Title: %{customdata[1]}<br>Associated Words: %{customdata[2]}<br>Address: %{customdata[3]}<br>Sentiment Label: %{customdata[4]}<br>Main Topic: %{customdata[5]}",
         "legendgroup": "0",
         "marker": {
          "color": "#636efa",
          "symbol": "circle"
         },
         "mode": "markers",
         "name": "0",
         "orientation": "v",
         "showlegend": true,
         "type": "scatter",
         "x": [
          -0.002110734530555089,
          0.012466484341937253,
          0.013578727033601459,
          0.03715034098069735,
          -0.011326362051229827,
          -0.00031672772611590573,
          -0.0001267117533956565,
          -0.0030271760556639603,
          -0.0018030713965474017,
          -0.001129370285498214,
          0.008122130864192308,
          -0.0014389852538686338
         ],
         "xaxis": "x",
         "y": [
          0.033634291307782754,
          -0.006971980212434824,
          -0.008451819601206157,
          -0.007764520450371274,
          -0.009229087297738147,
          -0.010147070741913435,
          -0.011480405221971454,
          -0.01372492246952564,
          -0.008213400953335373,
          -0.008333410276381787,
          -0.021136000249231564,
          -0.009877603568742958
         ],
         "yaxis": "y"
        },
        {
         "customdata": [
          [
           4,
           "Hunter Biden to plead guilty to federal tax charges, strikes deal on gun charge",
           [
            [
             "say",
             "office",
             "information",
             "attorney",
             "source",
             "charge",
             "foreign",
             "family",
             "relate",
             "son"
            ]
           ],
           "www.nation.com.pk",
           "Negative",
           3
          ]
         ],
         "hovertemplate": "ID: %{customdata[0]}<br>Article Title: %{customdata[1]}<br>Associated Words: %{customdata[2]}<br>Address: %{customdata[3]}<br>Sentiment Label: %{customdata[4]}<br>Main Topic: %{customdata[5]}",
         "legendgroup": "1",
         "marker": {
          "color": "#EF553B",
          "symbol": "circle"
         },
         "mode": "markers",
         "name": "1",
         "orientation": "v",
         "showlegend": true,
         "type": "scatter",
         "x": [
          0.1296749994486448
         ],
         "xaxis": "x",
         "y": [
          -0.005043836258015746
         ],
         "yaxis": "y"
        },
        {
         "customdata": [
          [
           15,
           "FBI hindered Hunter probe — and David Weiss skipped briefing on Biden bribery allegations, US attorney testifies",
           [
            [
             "say",
             "office",
             "information",
             "attorney",
             "source",
             "charge",
             "foreign",
             "family",
             "relate",
             "son"
            ]
           ],
           "nypost.com",
           "Positive",
           3
          ],
          [
           10,
           "Biden-picked LA US attorney claimed he was too ‘resource-strapped’ to charge Hunter",
           [
            [
             "say",
             "office",
             "information",
             "attorney",
             "source",
             "charge",
             "foreign",
             "family",
             "relate",
             "son"
            ]
           ],
           "nypost.com",
           "Neutral",
           3
          ],
          [
           1,
           "DOJ ordered Hunter Biden investigators to 'remove any reference' to Joe Biden in FARA probe warrant: House GOP",
           [
            [
             "say",
             "office",
             "information",
             "attorney",
             "source",
             "charge",
             "foreign",
             "family",
             "relate",
             "son"
            ]
           ],
           "www.foxnews.com",
           "Neutral Positive",
           3
          ]
         ],
         "hovertemplate": "ID: %{customdata[0]}<br>Article Title: %{customdata[1]}<br>Associated Words: %{customdata[2]}<br>Address: %{customdata[3]}<br>Sentiment Label: %{customdata[4]}<br>Main Topic: %{customdata[5]}",
         "legendgroup": "2",
         "marker": {
          "color": "#00cc96",
          "symbol": "circle"
         },
         "mode": "markers",
         "name": "2",
         "orientation": "v",
         "showlegend": true,
         "type": "scatter",
         "x": [
          -0.0758145892958978,
          -0.041673955726740555,
          -0.05849105913934914
         ],
         "xaxis": "x",
         "y": [
          -0.01117430819243552,
          -0.010123410937982141,
          -0.006063538084621938
         ],
         "yaxis": "y"
        },
        {
         "customdata": [
          [
           14,
           "Abrams: Comer’s Biden ‘bombshell’ once again falls way short",
           [
            [
             "wire",
             "say",
             "comer",
             "receive",
             "address",
             "partner",
             "loan",
             "bombshell",
             "beneficiary",
             "news"
            ]
           ],
           "www.newsnationnow.com",
           "Positive",
           2
          ]
         ],
         "hovertemplate": "ID: %{customdata[0]}<br>Article Title: %{customdata[1]}<br>Associated Words: %{customdata[2]}<br>Address: %{customdata[3]}<br>Sentiment Label: %{customdata[4]}<br>Main Topic: %{customdata[5]}",
         "legendgroup": "3",
         "marker": {
          "color": "#ab63fa",
          "symbol": "circle"
         },
         "mode": "markers",
         "name": "3",
         "orientation": "v",
         "showlegend": true,
         "type": "scatter",
         "x": [
          -0.003733939454210883
         ],
         "xaxis": "x",
         "y": [
          0.11410102320812515
         ],
         "yaxis": "y"
        }
       ],
       "layout": {
        "legend": {
         "title": {
          "text": "Cluster"
         },
         "tracegroupgap": 0
        },
        "margin": {
         "t": 60
        },
        "template": {
         "data": {
          "bar": [
           {
            "error_x": {
             "color": "#2a3f5f"
            },
            "error_y": {
             "color": "#2a3f5f"
            },
            "marker": {
             "line": {
              "color": "#E5ECF6",
              "width": 0.5
             },
             "pattern": {
              "fillmode": "overlay",
              "size": 10,
              "solidity": 0.2
             }
            },
            "type": "bar"
           }
          ],
          "barpolar": [
           {
            "marker": {
             "line": {
              "color": "#E5ECF6",
              "width": 0.5
             },
             "pattern": {
              "fillmode": "overlay",
              "size": 10,
              "solidity": 0.2
             }
            },
            "type": "barpolar"
           }
          ],
          "carpet": [
           {
            "aaxis": {
             "endlinecolor": "#2a3f5f",
             "gridcolor": "white",
             "linecolor": "white",
             "minorgridcolor": "white",
             "startlinecolor": "#2a3f5f"
            },
            "baxis": {
             "endlinecolor": "#2a3f5f",
             "gridcolor": "white",
             "linecolor": "white",
             "minorgridcolor": "white",
             "startlinecolor": "#2a3f5f"
            },
            "type": "carpet"
           }
          ],
          "choropleth": [
           {
            "colorbar": {
             "outlinewidth": 0,
             "ticks": ""
            },
            "type": "choropleth"
           }
          ],
          "contour": [
           {
            "colorbar": {
             "outlinewidth": 0,
             "ticks": ""
            },
            "colorscale": [
             [
              0,
              "#0d0887"
             ],
             [
              0.1111111111111111,
              "#46039f"
             ],
             [
              0.2222222222222222,
              "#7201a8"
             ],
             [
              0.3333333333333333,
              "#9c179e"
             ],
             [
              0.4444444444444444,
              "#bd3786"
             ],
             [
              0.5555555555555556,
              "#d8576b"
             ],
             [
              0.6666666666666666,
              "#ed7953"
             ],
             [
              0.7777777777777778,
              "#fb9f3a"
             ],
             [
              0.8888888888888888,
              "#fdca26"
             ],
             [
              1,
              "#f0f921"
             ]
            ],
            "type": "contour"
           }
          ],
          "contourcarpet": [
           {
            "colorbar": {
             "outlinewidth": 0,
             "ticks": ""
            },
            "type": "contourcarpet"
           }
          ],
          "heatmap": [
           {
            "colorbar": {
             "outlinewidth": 0,
             "ticks": ""
            },
            "colorscale": [
             [
              0,
              "#0d0887"
             ],
             [
              0.1111111111111111,
              "#46039f"
             ],
             [
              0.2222222222222222,
              "#7201a8"
             ],
             [
              0.3333333333333333,
              "#9c179e"
             ],
             [
              0.4444444444444444,
              "#bd3786"
             ],
             [
              0.5555555555555556,
              "#d8576b"
             ],
             [
              0.6666666666666666,
              "#ed7953"
             ],
             [
              0.7777777777777778,
              "#fb9f3a"
             ],
             [
              0.8888888888888888,
              "#fdca26"
             ],
             [
              1,
              "#f0f921"
             ]
            ],
            "type": "heatmap"
           }
          ],
          "heatmapgl": [
           {
            "colorbar": {
             "outlinewidth": 0,
             "ticks": ""
            },
            "colorscale": [
             [
              0,
              "#0d0887"
             ],
             [
              0.1111111111111111,
              "#46039f"
             ],
             [
              0.2222222222222222,
              "#7201a8"
             ],
             [
              0.3333333333333333,
              "#9c179e"
             ],
             [
              0.4444444444444444,
              "#bd3786"
             ],
             [
              0.5555555555555556,
              "#d8576b"
             ],
             [
              0.6666666666666666,
              "#ed7953"
             ],
             [
              0.7777777777777778,
              "#fb9f3a"
             ],
             [
              0.8888888888888888,
              "#fdca26"
             ],
             [
              1,
              "#f0f921"
             ]
            ],
            "type": "heatmapgl"
           }
          ],
          "histogram": [
           {
            "marker": {
             "pattern": {
              "fillmode": "overlay",
              "size": 10,
              "solidity": 0.2
             }
            },
            "type": "histogram"
           }
          ],
          "histogram2d": [
           {
            "colorbar": {
             "outlinewidth": 0,
             "ticks": ""
            },
            "colorscale": [
             [
              0,
              "#0d0887"
             ],
             [
              0.1111111111111111,
              "#46039f"
             ],
             [
              0.2222222222222222,
              "#7201a8"
             ],
             [
              0.3333333333333333,
              "#9c179e"
             ],
             [
              0.4444444444444444,
              "#bd3786"
             ],
             [
              0.5555555555555556,
              "#d8576b"
             ],
             [
              0.6666666666666666,
              "#ed7953"
             ],
             [
              0.7777777777777778,
              "#fb9f3a"
             ],
             [
              0.8888888888888888,
              "#fdca26"
             ],
             [
              1,
              "#f0f921"
             ]
            ],
            "type": "histogram2d"
           }
          ],
          "histogram2dcontour": [
           {
            "colorbar": {
             "outlinewidth": 0,
             "ticks": ""
            },
            "colorscale": [
             [
              0,
              "#0d0887"
             ],
             [
              0.1111111111111111,
              "#46039f"
             ],
             [
              0.2222222222222222,
              "#7201a8"
             ],
             [
              0.3333333333333333,
              "#9c179e"
             ],
             [
              0.4444444444444444,
              "#bd3786"
             ],
             [
              0.5555555555555556,
              "#d8576b"
             ],
             [
              0.6666666666666666,
              "#ed7953"
             ],
             [
              0.7777777777777778,
              "#fb9f3a"
             ],
             [
              0.8888888888888888,
              "#fdca26"
             ],
             [
              1,
              "#f0f921"
             ]
            ],
            "type": "histogram2dcontour"
           }
          ],
          "mesh3d": [
           {
            "colorbar": {
             "outlinewidth": 0,
             "ticks": ""
            },
            "type": "mesh3d"
           }
          ],
          "parcoords": [
           {
            "line": {
             "colorbar": {
              "outlinewidth": 0,
              "ticks": ""
             }
            },
            "type": "parcoords"
           }
          ],
          "pie": [
           {
            "automargin": true,
            "type": "pie"
           }
          ],
          "scatter": [
           {
            "fillpattern": {
             "fillmode": "overlay",
             "size": 10,
             "solidity": 0.2
            },
            "type": "scatter"
           }
          ],
          "scatter3d": [
           {
            "line": {
             "colorbar": {
              "outlinewidth": 0,
              "ticks": ""
             }
            },
            "marker": {
             "colorbar": {
              "outlinewidth": 0,
              "ticks": ""
             }
            },
            "type": "scatter3d"
           }
          ],
          "scattercarpet": [
           {
            "marker": {
             "colorbar": {
              "outlinewidth": 0,
              "ticks": ""
             }
            },
            "type": "scattercarpet"
           }
          ],
          "scattergeo": [
           {
            "marker": {
             "colorbar": {
              "outlinewidth": 0,
              "ticks": ""
             }
            },
            "type": "scattergeo"
           }
          ],
          "scattergl": [
           {
            "marker": {
             "colorbar": {
              "outlinewidth": 0,
              "ticks": ""
             }
            },
            "type": "scattergl"
           }
          ],
          "scattermapbox": [
           {
            "marker": {
             "colorbar": {
              "outlinewidth": 0,
              "ticks": ""
             }
            },
            "type": "scattermapbox"
           }
          ],
          "scatterpolar": [
           {
            "marker": {
             "colorbar": {
              "outlinewidth": 0,
              "ticks": ""
             }
            },
            "type": "scatterpolar"
           }
          ],
          "scatterpolargl": [
           {
            "marker": {
             "colorbar": {
              "outlinewidth": 0,
              "ticks": ""
             }
            },
            "type": "scatterpolargl"
           }
          ],
          "scatterternary": [
           {
            "marker": {
             "colorbar": {
              "outlinewidth": 0,
              "ticks": ""
             }
            },
            "type": "scatterternary"
           }
          ],
          "surface": [
           {
            "colorbar": {
             "outlinewidth": 0,
             "ticks": ""
            },
            "colorscale": [
             [
              0,
              "#0d0887"
             ],
             [
              0.1111111111111111,
              "#46039f"
             ],
             [
              0.2222222222222222,
              "#7201a8"
             ],
             [
              0.3333333333333333,
              "#9c179e"
             ],
             [
              0.4444444444444444,
              "#bd3786"
             ],
             [
              0.5555555555555556,
              "#d8576b"
             ],
             [
              0.6666666666666666,
              "#ed7953"
             ],
             [
              0.7777777777777778,
              "#fb9f3a"
             ],
             [
              0.8888888888888888,
              "#fdca26"
             ],
             [
              1,
              "#f0f921"
             ]
            ],
            "type": "surface"
           }
          ],
          "table": [
           {
            "cells": {
             "fill": {
              "color": "#EBF0F8"
             },
             "line": {
              "color": "white"
             }
            },
            "header": {
             "fill": {
              "color": "#C8D4E3"
             },
             "line": {
              "color": "white"
             }
            },
            "type": "table"
           }
          ]
         },
         "layout": {
          "annotationdefaults": {
           "arrowcolor": "#2a3f5f",
           "arrowhead": 0,
           "arrowwidth": 1
          },
          "autotypenumbers": "strict",
          "coloraxis": {
           "colorbar": {
            "outlinewidth": 0,
            "ticks": ""
           }
          },
          "colorscale": {
           "diverging": [
            [
             0,
             "#8e0152"
            ],
            [
             0.1,
             "#c51b7d"
            ],
            [
             0.2,
             "#de77ae"
            ],
            [
             0.3,
             "#f1b6da"
            ],
            [
             0.4,
             "#fde0ef"
            ],
            [
             0.5,
             "#f7f7f7"
            ],
            [
             0.6,
             "#e6f5d0"
            ],
            [
             0.7,
             "#b8e186"
            ],
            [
             0.8,
             "#7fbc41"
            ],
            [
             0.9,
             "#4d9221"
            ],
            [
             1,
             "#276419"
            ]
           ],
           "sequential": [
            [
             0,
             "#0d0887"
            ],
            [
             0.1111111111111111,
             "#46039f"
            ],
            [
             0.2222222222222222,
             "#7201a8"
            ],
            [
             0.3333333333333333,
             "#9c179e"
            ],
            [
             0.4444444444444444,
             "#bd3786"
            ],
            [
             0.5555555555555556,
             "#d8576b"
            ],
            [
             0.6666666666666666,
             "#ed7953"
            ],
            [
             0.7777777777777778,
             "#fb9f3a"
            ],
            [
             0.8888888888888888,
             "#fdca26"
            ],
            [
             1,
             "#f0f921"
            ]
           ],
           "sequentialminus": [
            [
             0,
             "#0d0887"
            ],
            [
             0.1111111111111111,
             "#46039f"
            ],
            [
             0.2222222222222222,
             "#7201a8"
            ],
            [
             0.3333333333333333,
             "#9c179e"
            ],
            [
             0.4444444444444444,
             "#bd3786"
            ],
            [
             0.5555555555555556,
             "#d8576b"
            ],
            [
             0.6666666666666666,
             "#ed7953"
            ],
            [
             0.7777777777777778,
             "#fb9f3a"
            ],
            [
             0.8888888888888888,
             "#fdca26"
            ],
            [
             1,
             "#f0f921"
            ]
           ]
          },
          "colorway": [
           "#636efa",
           "#EF553B",
           "#00cc96",
           "#ab63fa",
           "#FFA15A",
           "#19d3f3",
           "#FF6692",
           "#B6E880",
           "#FF97FF",
           "#FECB52"
          ],
          "font": {
           "color": "#2a3f5f"
          },
          "geo": {
           "bgcolor": "white",
           "lakecolor": "white",
           "landcolor": "#E5ECF6",
           "showlakes": true,
           "showland": true,
           "subunitcolor": "white"
          },
          "hoverlabel": {
           "align": "left"
          },
          "hovermode": "closest",
          "mapbox": {
           "style": "light"
          },
          "paper_bgcolor": "white",
          "plot_bgcolor": "#E5ECF6",
          "polar": {
           "angularaxis": {
            "gridcolor": "white",
            "linecolor": "white",
            "ticks": ""
           },
           "bgcolor": "#E5ECF6",
           "radialaxis": {
            "gridcolor": "white",
            "linecolor": "white",
            "ticks": ""
           }
          },
          "scene": {
           "xaxis": {
            "backgroundcolor": "#E5ECF6",
            "gridcolor": "white",
            "gridwidth": 2,
            "linecolor": "white",
            "showbackground": true,
            "ticks": "",
            "zerolinecolor": "white"
           },
           "yaxis": {
            "backgroundcolor": "#E5ECF6",
            "gridcolor": "white",
            "gridwidth": 2,
            "linecolor": "white",
            "showbackground": true,
            "ticks": "",
            "zerolinecolor": "white"
           },
           "zaxis": {
            "backgroundcolor": "#E5ECF6",
            "gridcolor": "white",
            "gridwidth": 2,
            "linecolor": "white",
            "showbackground": true,
            "ticks": "",
            "zerolinecolor": "white"
           }
          },
          "shapedefaults": {
           "line": {
            "color": "#2a3f5f"
           }
          },
          "ternary": {
           "aaxis": {
            "gridcolor": "white",
            "linecolor": "white",
            "ticks": ""
           },
           "baxis": {
            "gridcolor": "white",
            "linecolor": "white",
            "ticks": ""
           },
           "bgcolor": "#E5ECF6",
           "caxis": {
            "gridcolor": "white",
            "linecolor": "white",
            "ticks": ""
           }
          },
          "title": {
           "x": 0.05
          },
          "xaxis": {
           "automargin": true,
           "gridcolor": "white",
           "linecolor": "white",
           "ticks": "",
           "title": {
            "standoff": 15
           },
           "zerolinecolor": "white",
           "zerolinewidth": 2
          },
          "yaxis": {
           "automargin": true,
           "gridcolor": "white",
           "linecolor": "white",
           "ticks": "",
           "title": {
            "standoff": 15
           },
           "zerolinecolor": "white",
           "zerolinewidth": 2
          }
         }
        },
        "xaxis": {
         "anchor": "y",
         "domain": [
          0,
          1
         ],
         "title": {
          "text": "x"
         }
        },
        "yaxis": {
         "anchor": "x",
         "domain": [
          0,
          1
         ],
         "title": {
          "text": "y"
         }
        }
       }
      }
     },
     "metadata": {},
     "output_type": "display_data"
    }
   ],
   "source": [
    "# Gather weighted sentiment values into a dataframe\n",
    "result = multiply_tuples_in_dataframe(per_topic_df)\n",
    "\n",
    "visualize_kmeans_clustering(dataframe = df,\n",
    "                            df_topics= result,\n",
    "                            num_clusters = kmeans_settings[\"num_clusters\"],\n",
    "                            pca_components = kmeans_settings[\"pca_components\"])\n"
   ]
  },
  {
   "cell_type": "markdown",
   "id": "e733cc30",
   "metadata": {},
   "source": [
    "# Sentiment VS Relevance Per Topic"
   ]
  },
  {
   "cell_type": "markdown",
   "id": "ee6e5f0c",
   "metadata": {},
   "source": [
    "A scatter plot of sentiment values against relevance values of each selected topic. This will display a scatter plot with sentiment values on the x-axis and relevance values on the y-axis, along with a tooltip. "
   ]
  },
  {
   "cell_type": "code",
   "execution_count": null,
   "id": "7f2bab4b",
   "metadata": {
    "scrolled": false
   },
   "outputs": [
    {
     "data": {
      "image/png": "[encoded data removed]",
      "text/plain": [
       "<Figure size 1000x600 with 1 Axes>"
      ]
     },
     "metadata": {},
     "output_type": "display_data"
    },
    {
     "data": {
      "image/png": "[encoded data removed]",
      "text/plain": [
       "<Figure size 1000x600 with 1 Axes>"
      ]
     },
     "metadata": {},
     "output_type": "display_data"
    }
   ],
   "source": [
    "for topic_id in list_of_topics_to_visualize:\n",
    "    plot_sentiment_relevance(per_topic_df[:][topic_id])"
   ]
  },
  {
   "cell_type": "markdown",
   "id": "bbc0d17a",
   "metadata": {},
   "source": [
    "# Topic Space"
   ]
  },
  {
   "cell_type": "markdown",
   "id": "75a85dd1",
   "metadata": {},
   "source": [
    "Applying principle component analysis(PCA) will reduce the high dimensional topic space into a simple two dimensional space. 2 dimensions is easy for us to interpret but also hold alot of information."
   ]
  },
  {
   "cell_type": "code",
   "execution_count": null,
   "id": "db2f3c1b",
   "metadata": {},
   "outputs": [],
   "source": [
    "topic_space = dimension_reduction(df_topics)"
   ]
  },
  {
   "cell_type": "markdown",
   "id": "7eb20594",
   "metadata": {},
   "source": [
    "Visualize the topic space after principle component analysis(PCA) is applied to reduce the topic model results to two dimensions. Plots each point in the topic space, the distance is directly related to how similar the topics are to each other. This will expose any outlier topics as well as topics that might be quite similar. The ideal plot is one where topics are equal distance from each other."
   ]
  },
  {
   "cell_type": "code",
   "execution_count": null,
   "id": "db4f3f74",
   "metadata": {},
   "outputs": [
    {
     "data": {
      "image/png": "[encoded data removed]",
      "text/plain": [
       "<Figure size 800x600 with 1 Axes>"
      ]
     },
     "metadata": {},
     "output_type": "display_data"
    }
   ],
   "source": [
    "plot_pca(topic_space)"
   ]
  },
  {
   "cell_type": "markdown",
   "id": "3467e9fb",
   "metadata": {},
   "source": [
    "# Document Sentiment in Topic Space"
   ]
  },
  {
   "cell_type": "markdown",
   "id": "923c138a",
   "metadata": {},
   "source": [
    "Here is where each document is added to the topic space, the documents are closer or further from each topic based on the relavence score given to each document. Then a color is added to each document to represent the sentiment score. Red represents a negative sentiment while green represents a positive sentiment."
   ]
  },
  {
   "cell_type": "code",
   "execution_count": null,
   "id": "c77283c3",
   "metadata": {},
   "outputs": [
    {
     "data": {
      "image/png": "[encoded data removed]",
      "text/plain": [
       "<Figure size 640x480 with 1 Axes>"
      ]
     },
     "metadata": {},
     "output_type": "display_data"
    }
   ],
   "source": [
    "plot_documents(df_topics, topic_space, df)"
   ]
  },
  {
   "cell_type": "markdown",
   "id": "a19d6974",
   "metadata": {},
   "source": [
    "# Document Density in Topic Space"
   ]
  },
  {
   "cell_type": "markdown",
   "id": "68ab3124",
   "metadata": {},
   "source": [
    "This plots the density of documents that were plotted in the topic space. Red is hot zones where many documents fall while white is where very little documents show up. This will help understand the topics that the majority of the articles are covering."
   ]
  },
  {
   "cell_type": "code",
   "execution_count": null,
   "id": "ebbae2b7",
   "metadata": {},
   "outputs": [
    {
     "data": {
      "image/png": "[encoded data removed]",
      "text/plain": [
       "<Figure size 1000x800 with 2 Axes>"
      ]
     },
     "metadata": {},
     "output_type": "display_data"
    }
   ],
   "source": [
    "plot_topic_heatmap(df_topics, topic_space)"
   ]
  },
  {
   "cell_type": "markdown",
   "id": "adc9e666",
   "metadata": {},
   "source": [
    "# Sentiment Sum Heatmap in Topic Space"
   ]
  },
  {
   "cell_type": "markdown",
   "id": "183585ce",
   "metadata": {},
   "source": [
    "This graph plots the normalized sentiment in each area of the topic space. Green being the more positive topics, while red is more negative. Each documents sentiment is added to the area of the heatmap and then normalized to be able to visualize where the positive and negative topics lie in the topic space more easily."
   ]
  },
  {
   "cell_type": "code",
   "execution_count": null,
   "id": "8682cb73",
   "metadata": {},
   "outputs": [
    {
     "data": {
      "image/png": "[encoded data removed]",
      "text/plain": [
       "<Figure size 640x480 with 2 Axes>"
      ]
     },
     "metadata": {},
     "output_type": "display_data"
    }
   ],
   "source": [
    "plot_sentiment_heatmap(df_topics, topic_space, df)"
   ]
  }
 ],
 "metadata": {
  "kernelspec": {
   "display_name": "Python 3 (ipykernel)",
   "language": "python",
   "name": "python3"
  },
  "language_info": {
   "codemirror_mode": {
    "name": "ipython",
    "version": 3
   },
   "file_extension": ".py",
   "mimetype": "text/x-python",
   "name": "python",
   "nbconvert_exporter": "python",
   "pygments_lexer": "ipython3",
   "version": "3.11.5"
  }
 },
 "nbformat": 4,
 "nbformat_minor": 5
}
